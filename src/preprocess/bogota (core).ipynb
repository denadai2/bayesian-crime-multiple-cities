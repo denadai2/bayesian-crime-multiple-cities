{
 "cells": [
  {
   "cell_type": "code",
   "execution_count": 1,
   "metadata": {},
   "outputs": [],
   "source": [
    "import pandas as pd\n",
    "import numpy as np\n",
    "import geopandas as gpd\n",
    "import psycopg2\n",
    "from geoalchemy2 import Geometry, WKTElement\n",
    "from sqlalchemy import *\n",
    "from shapely.geometry import MultiPolygon\n",
    "from zipfile import ZipFile\n",
    "import requests \n",
    "import sys\n",
    "from tqdm import tqdm"
   ]
  },
  {
   "cell_type": "code",
   "execution_count": 3,
   "metadata": {},
   "outputs": [],
   "source": [
    "import yaml\n",
    "\n",
    "with open('../../config/postgres.yaml') as f:\n",
    "    engine_configs = yaml.load(f, Loader=yaml.FullLoader)\n",
    "    \n",
    "try:\n",
    "    engine = create_engine('postgresql://{username}:{password}@{host}:{port}/{dbname}'.format(**engine_configs))\n",
    "except Exception as e:\n",
    "    print(\"Uh oh, can't connect. Invalid dbname, user or password?\")\n",
    "    print(e)"
   ]
  },
  {
   "cell_type": "code",
   "execution_count": 4,
   "metadata": {},
   "outputs": [],
   "source": [
    "def process_geometry_SQL_insert(gdf):\n",
    "    gdf['geom'] = gdf['geometry'].apply(lambda x: WKTElement((MultiPolygon([x]) if x.geom_type == 'Polygon' else x).wkt, srid=4326))\n",
    "    gdf = gdf.drop('geometry', 1)\n",
    "    return gdf"
   ]
  },
  {
   "cell_type": "code",
   "execution_count": 7,
   "metadata": {},
   "outputs": [],
   "source": [
    "CITY='bogota'"
   ]
  },
  {
   "cell_type": "markdown",
   "metadata": {},
   "source": [
    "### Neighborhoods"
   ]
  },
  {
   "cell_type": "code",
   "execution_count": 22,
   "metadata": {},
   "outputs": [],
   "source": [
    "sql = \"\"\"INSERT INTO spatial_groups (city, core_geom, core_id, lower_ids, spatial_name, approx_geom)\n",
    "SELECT a.city, a.core_geom, a.core_id, array_agg(a.core_id), 'core', ST_multi(a.core_geom)\n",
    "FROM spatial_groups a\n",
    "where a.city='{city}' and a.spatial_name = 'ego'\n",
    "GROUP BY a.core_id, a.core_geom, a.city;\n",
    "\"\"\".format(city=CITY, tempname=CITY.lower())\n",
    "\n",
    "result = engine.execute(text(sql))"
   ]
  },
  {
   "cell_type": "markdown",
   "metadata": {},
   "source": [
    "## Land use"
   ]
  },
  {
   "cell_type": "code",
   "execution_count": 23,
   "metadata": {},
   "outputs": [
    {
     "data": {
      "text/html": [
       "<div>\n",
       "<style scoped>\n",
       "    .dataframe tbody tr th:only-of-type {\n",
       "        vertical-align: middle;\n",
       "    }\n",
       "\n",
       "    .dataframe tbody tr th {\n",
       "        vertical-align: top;\n",
       "    }\n",
       "\n",
       "    .dataframe thead th {\n",
       "        text-align: right;\n",
       "    }\n",
       "</style>\n",
       "<table border=\"1\" class=\"dataframe\">\n",
       "  <thead>\n",
       "    <tr style=\"text-align: right;\">\n",
       "      <th></th>\n",
       "      <th>LotCodigo</th>\n",
       "      <th>geometry</th>\n",
       "    </tr>\n",
       "  </thead>\n",
       "  <tbody>\n",
       "    <tr>\n",
       "      <th>0</th>\n",
       "      <td>004597039009</td>\n",
       "      <td>MULTIPOLYGON (((-74.20334 4.60793, -74.20339 4...</td>\n",
       "    </tr>\n",
       "    <tr>\n",
       "      <th>1</th>\n",
       "      <td>004593071010</td>\n",
       "      <td>MULTIPOLYGON (((-74.18929 4.62773, -74.18935 4...</td>\n",
       "    </tr>\n",
       "    <tr>\n",
       "      <th>2</th>\n",
       "      <td>004597039035</td>\n",
       "      <td>MULTIPOLYGON (((-74.20295 4.60799, -74.20300 4...</td>\n",
       "    </tr>\n",
       "    <tr>\n",
       "      <th>3</th>\n",
       "      <td>004597039020</td>\n",
       "      <td>MULTIPOLYGON (((-74.20312 4.60792, -74.20315 4...</td>\n",
       "    </tr>\n",
       "    <tr>\n",
       "      <th>4</th>\n",
       "      <td>001401046024</td>\n",
       "      <td>MULTIPOLYGON (((-74.09880 4.57604, -74.09883 4...</td>\n",
       "    </tr>\n",
       "  </tbody>\n",
       "</table>\n",
       "</div>"
      ],
      "text/plain": [
       "      LotCodigo                                           geometry\n",
       "0  004597039009  MULTIPOLYGON (((-74.20334 4.60793, -74.20339 4...\n",
       "1  004593071010  MULTIPOLYGON (((-74.18929 4.62773, -74.18935 4...\n",
       "2  004597039035  MULTIPOLYGON (((-74.20295 4.60799, -74.20300 4...\n",
       "3  004597039020  MULTIPOLYGON (((-74.20312 4.60792, -74.20315 4...\n",
       "4  001401046024  MULTIPOLYGON (((-74.09880 4.57604, -74.09883 4..."
      ]
     },
     "execution_count": 23,
     "metadata": {},
     "output_type": "execute_result"
    }
   ],
   "source": [
    "land_gdf = gpd.read_file('../../data/bogota/land_use/Lots_2014.gpkg')\n",
    "land_gdf = land_gdf[(~(land_gdf['LotCodigo'].isnull()))]\n",
    "\n",
    "land_gdf = land_gdf[['LotCodigo', 'geometry']]\n",
    "\n",
    "#land_gdf = land_gdf.to_crs({'init': 'epsg:4326'}) \n",
    "\n",
    "land_gdf.head()"
   ]
  },
  {
   "cell_type": "code",
   "execution_count": 24,
   "metadata": {},
   "outputs": [
    {
     "data": {
      "text/html": [
       "<div>\n",
       "<style scoped>\n",
       "    .dataframe tbody tr th:only-of-type {\n",
       "        vertical-align: middle;\n",
       "    }\n",
       "\n",
       "    .dataframe tbody tr th {\n",
       "        vertical-align: top;\n",
       "    }\n",
       "\n",
       "    .dataframe thead th {\n",
       "        text-align: right;\n",
       "    }\n",
       "</style>\n",
       "<table border=\"1\" class=\"dataframe\">\n",
       "  <thead>\n",
       "    <tr style=\"text-align: right;\">\n",
       "      <th></th>\n",
       "      <th>OBJECTID</th>\n",
       "      <th>LotCodigo</th>\n",
       "      <th>usecode</th>\n",
       "      <th>sqftmain</th>\n",
       "    </tr>\n",
       "  </thead>\n",
       "  <tbody>\n",
       "    <tr>\n",
       "      <th>0</th>\n",
       "      <td>1</td>\n",
       "      <td>005402013032</td>\n",
       "      <td>004</td>\n",
       "      <td>40.50</td>\n",
       "    </tr>\n",
       "    <tr>\n",
       "      <th>1</th>\n",
       "      <td>2</td>\n",
       "      <td>005626003014</td>\n",
       "      <td>010</td>\n",
       "      <td>1171.80</td>\n",
       "    </tr>\n",
       "    <tr>\n",
       "      <th>2</th>\n",
       "      <td>3</td>\n",
       "      <td>002205012067</td>\n",
       "      <td>001</td>\n",
       "      <td>129.80</td>\n",
       "    </tr>\n",
       "    <tr>\n",
       "      <th>3</th>\n",
       "      <td>4</td>\n",
       "      <td>009203069030</td>\n",
       "      <td>001</td>\n",
       "      <td>75.00</td>\n",
       "    </tr>\n",
       "    <tr>\n",
       "      <th>4</th>\n",
       "      <td>5</td>\n",
       "      <td>002430034026</td>\n",
       "      <td>022</td>\n",
       "      <td>91.61</td>\n",
       "    </tr>\n",
       "  </tbody>\n",
       "</table>\n",
       "</div>"
      ],
      "text/plain": [
       "   OBJECTID     LotCodigo usecode  sqftmain\n",
       "0         1  005402013032     004     40.50\n",
       "1         2  005626003014     010   1171.80\n",
       "2         3  002205012067     001    129.80\n",
       "3         4  009203069030     001     75.00\n",
       "4         5  002430034026     022     91.61"
      ]
     },
     "execution_count": 24,
     "metadata": {},
     "output_type": "execute_result"
    }
   ],
   "source": [
    "land_use_df = pd.read_csv('../../data/bogota/land_use/uso.csv.zip', dtype={'UsoCLote': str, 'UsoTUso': str})\n",
    "land_use_df = land_use_df.rename(columns={\n",
    "    'UsoArea': 'sqftmain', \n",
    "    'UsoTUso': 'usecode',\n",
    "    'UsoCLote': 'LotCodigo'\n",
    "})\n",
    "land_use_df.head()"
   ]
  },
  {
   "cell_type": "code",
   "execution_count": 25,
   "metadata": {},
   "outputs": [],
   "source": [
    "land_gdf = pd.merge(land_gdf, land_use_df, on='LotCodigo', how='left')\n",
    "land_gdf.loc[land_gdf['usecode'].isnull(), 'usecode'] = '999' # In bogota land use is about buildings. Missing lote are correlated with parks and sport courts"
   ]
  },
  {
   "cell_type": "code",
   "execution_count": 26,
   "metadata": {},
   "outputs": [],
   "source": [
    "land_gdf['landuse'] = 'none'\n",
    "\n",
    "land_gdf.loc[land_gdf['usecode'].isin({'001', '002', '037', '038'}), 'landuse'] = 'residential'\n",
    "\n",
    "# Be careful of the NOT in the query\n",
    "land_gdf.loc[~land_gdf['usecode'].isin({'001', '002', '023', '029', '030', '031', '032', '036', '037', '038', '047', '048', '052', '065', '090'}), 'landuse'] = 'commercial'\n",
    "\n",
    "land_gdf.loc[land_gdf['usecode'].isin({'023', '029', '030', '031', '032', '036',  '047', '052', '065', '999'}), 'landuse'] = 'recreational'\n",
    "land_gdf.loc[land_gdf['usecode'].isin({'090', '048'}), 'landuse'] = 'vacant'"
   ]
  },
  {
   "cell_type": "code",
   "execution_count": 27,
   "metadata": {},
   "outputs": [
    {
     "data": {
      "text/html": [
       "<div>\n",
       "<style scoped>\n",
       "    .dataframe tbody tr th:only-of-type {\n",
       "        vertical-align: middle;\n",
       "    }\n",
       "\n",
       "    .dataframe tbody tr th {\n",
       "        vertical-align: top;\n",
       "    }\n",
       "\n",
       "    .dataframe thead th {\n",
       "        text-align: right;\n",
       "    }\n",
       "</style>\n",
       "<table border=\"1\" class=\"dataframe\">\n",
       "  <thead>\n",
       "    <tr style=\"text-align: right;\">\n",
       "      <th></th>\n",
       "      <th>index</th>\n",
       "      <th>LotCodigo</th>\n",
       "      <th>geometry</th>\n",
       "      <th>OBJECTID</th>\n",
       "      <th>usecode</th>\n",
       "      <th>sqftmain</th>\n",
       "      <th>landuse</th>\n",
       "    </tr>\n",
       "  </thead>\n",
       "  <tbody>\n",
       "    <tr>\n",
       "      <th>0</th>\n",
       "      <td>0</td>\n",
       "      <td>004597039009</td>\n",
       "      <td>MULTIPOLYGON (((-74.20334 4.60793, -74.20339 4...</td>\n",
       "      <td>209953.0</td>\n",
       "      <td>001</td>\n",
       "      <td>145.00</td>\n",
       "      <td>residential</td>\n",
       "    </tr>\n",
       "    <tr>\n",
       "      <th>1</th>\n",
       "      <td>1</td>\n",
       "      <td>004593071010</td>\n",
       "      <td>MULTIPOLYGON (((-74.18929 4.62773, -74.18935 4...</td>\n",
       "      <td>218802.0</td>\n",
       "      <td>001</td>\n",
       "      <td>196.09</td>\n",
       "      <td>residential</td>\n",
       "    </tr>\n",
       "    <tr>\n",
       "      <th>2</th>\n",
       "      <td>2</td>\n",
       "      <td>004597039035</td>\n",
       "      <td>MULTIPOLYGON (((-74.20295 4.60799, -74.20300 4...</td>\n",
       "      <td>800131.0</td>\n",
       "      <td>001</td>\n",
       "      <td>796.00</td>\n",
       "      <td>residential</td>\n",
       "    </tr>\n",
       "    <tr>\n",
       "      <th>3</th>\n",
       "      <td>3</td>\n",
       "      <td>004597039020</td>\n",
       "      <td>MULTIPOLYGON (((-74.20312 4.60792, -74.20315 4...</td>\n",
       "      <td>273787.0</td>\n",
       "      <td>001</td>\n",
       "      <td>204.00</td>\n",
       "      <td>residential</td>\n",
       "    </tr>\n",
       "    <tr>\n",
       "      <th>4</th>\n",
       "      <td>4</td>\n",
       "      <td>001401046024</td>\n",
       "      <td>MULTIPOLYGON (((-74.09880 4.57604, -74.09883 4...</td>\n",
       "      <td>666530.0</td>\n",
       "      <td>001</td>\n",
       "      <td>3692.00</td>\n",
       "      <td>residential</td>\n",
       "    </tr>\n",
       "  </tbody>\n",
       "</table>\n",
       "</div>"
      ],
      "text/plain": [
       "   index     LotCodigo                                           geometry  \\\n",
       "0      0  004597039009  MULTIPOLYGON (((-74.20334 4.60793, -74.20339 4...   \n",
       "1      1  004593071010  MULTIPOLYGON (((-74.18929 4.62773, -74.18935 4...   \n",
       "2      2  004597039035  MULTIPOLYGON (((-74.20295 4.60799, -74.20300 4...   \n",
       "3      3  004597039020  MULTIPOLYGON (((-74.20312 4.60792, -74.20315 4...   \n",
       "4      4  001401046024  MULTIPOLYGON (((-74.09880 4.57604, -74.09883 4...   \n",
       "\n",
       "   OBJECTID usecode  sqftmain      landuse  \n",
       "0  209953.0     001    145.00  residential  \n",
       "1  218802.0     001    196.09  residential  \n",
       "2  800131.0     001    796.00  residential  \n",
       "3  273787.0     001    204.00  residential  \n",
       "4  666530.0     001   3692.00  residential  "
      ]
     },
     "execution_count": 27,
     "metadata": {},
     "output_type": "execute_result"
    }
   ],
   "source": [
    "land_gdf = land_gdf.reset_index()\n",
    "land_gdf.head()"
   ]
  },
  {
   "cell_type": "code",
   "execution_count": 28,
   "metadata": {},
   "outputs": [],
   "source": [
    "unique_land_gdf = land_gdf.copy()\n",
    "unique_land_gdf.loc[:, 'x'] = unique_land_gdf.geometry.centroid.x\n",
    "unique_land_gdf.loc[:, 'y'] = unique_land_gdf.geometry.centroid.y\n",
    "unique_land_gdf = unique_land_gdf.drop_duplicates(subset=['x', 'y'])"
   ]
  },
  {
   "cell_type": "markdown",
   "metadata": {},
   "source": [
    "## Net area"
   ]
  },
  {
   "cell_type": "code",
   "execution_count": 29,
   "metadata": {},
   "outputs": [],
   "source": [
    "land_gdf = process_geometry_SQL_insert(unique_land_gdf)\n",
    "land_gdf.to_sql('temptable_u_{}'.format(CITY.lower()), engine, if_exists='replace', index=False, dtype={'geom': Geometry('MultiPolygon', srid=4326)})"
   ]
  },
  {
   "cell_type": "code",
   "execution_count": 30,
   "metadata": {},
   "outputs": [],
   "source": [
    "sql = \"\"\"\n",
    "UPDATE temptable_u_{tempname} p SET geom=ST_Multi(ST_buffer(p.geom, 0.0)) \n",
    "WHERE (NOT ST_IsValid(p.geom));\n",
    "\"\"\".format(city=CITY, tempname=CITY.lower())\n",
    "\n",
    "result = engine.execute(text(sql))"
   ]
  },
  {
   "cell_type": "code",
   "execution_count": 31,
   "metadata": {},
   "outputs": [],
   "source": [
    "sql = \"\"\"\n",
    "DELETE \n",
    "FROM temptable_u_{tempname} t\n",
    "USING unused_areas u \n",
    "WHERE u.city = '{city}' AND ST_Intersects(u.geom, t.geom) AND (NOT ST_Touches(u.geom, t.geom)) \n",
    "AND (ST_Contains(u.geom, t.geom) OR ST_AREA(ST_Intersection(t.geom, u.geom))/ST_Area(t.geom) > 0.5);\n",
    "\"\"\".format(city=CITY, tempname=CITY.lower())\n",
    "\n",
    "result = engine.execute(text(sql))"
   ]
  },
  {
   "cell_type": "code",
   "execution_count": 32,
   "metadata": {},
   "outputs": [],
   "source": [
    "sql = \"\"\"\n",
    "INSERT INTO spatial_groups_net_area (sp_id, city, spatial_name, used_area) \n",
    "SELECT sp_id, city, spatial_name, SUM(ST_Area((CASE WHEN ST_Within(t.geom, s.approx_geom) THEN t.geom ELSE ST_Intersection(s.approx_geom, t.geom) END)::geography))/1000000.\n",
    "FROM temptable_u_{tempname} t\n",
    "INNER JOIN spatial_groups s ON ST_Intersects(s.approx_geom, t.geom) AND NOT ST_Touches(s.approx_geom, t.geom)\n",
    "WHERE s.city = '{city}' AND s.spatial_name='core'\n",
    "GROUP BY sp_id, city, spatial_name;\n",
    "\"\"\".format(city=CITY, tempname=CITY.lower())\n",
    "\n",
    "result = engine.execute(text(sql))"
   ]
  },
  {
   "cell_type": "markdown",
   "metadata": {},
   "source": [
    "We don't clean directly the blocks as land use is not clean"
   ]
  },
  {
   "cell_type": "code",
   "execution_count": 33,
   "metadata": {},
   "outputs": [],
   "source": [
    "sql = \"\"\"\n",
    "REFRESH MATERIALIZED VIEW spatial_groups_unused_areas;\n",
    "\"\"\"\n",
    "\n",
    "result = engine.execute(text(sql))"
   ]
  },
  {
   "cell_type": "code",
   "execution_count": null,
   "metadata": {},
   "outputs": [],
   "source": []
  }
 ],
 "metadata": {
  "kernelspec": {
   "display_name": "Python 3",
   "language": "python",
   "name": "python3"
  },
  "language_info": {
   "codemirror_mode": {
    "name": "ipython",
    "version": 3
   },
   "file_extension": ".py",
   "mimetype": "text/x-python",
   "name": "python",
   "nbconvert_exporter": "python",
   "pygments_lexer": "ipython3",
   "version": "3.6.8"
  }
 },
 "nbformat": 4,
 "nbformat_minor": 2
}
