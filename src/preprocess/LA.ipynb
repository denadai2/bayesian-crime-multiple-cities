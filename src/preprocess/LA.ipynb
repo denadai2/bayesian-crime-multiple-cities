{
 "cells": [
  {
   "cell_type": "code",
   "execution_count": 1,
   "metadata": {},
   "outputs": [],
   "source": [
    "import pandas as pd\n",
    "import numpy as np\n",
    "import geopandas as gpd\n",
    "import psycopg2\n",
    "from geoalchemy2 import Geometry, WKTElement\n",
    "from sqlalchemy import *\n",
    "from shapely.geometry import MultiPolygon\n",
    "from zipfile import ZipFile\n",
    "import requests \n",
    "import sys"
   ]
  },
  {
   "cell_type": "code",
   "execution_count": 2,
   "metadata": {},
   "outputs": [],
   "source": [
    "import yaml\n",
    "\n",
    "with open('../config/postgres.yaml') as f:\n",
    "    engine_configs = yaml.load(f, Loader=yaml.FullLoader)\n",
    "    \n",
    "try:\n",
    "    engine = create_engine('postgresql://{username}:{password}@{host}:{port}/{dbname}'.format(**engine_configs))\n",
    "except Exception as e:\n",
    "    print(\"Uh oh, can't connect. Invalid dbname, user or password?\")\n",
    "    print(e)"
   ]
  },
  {
   "cell_type": "code",
   "execution_count": 3,
   "metadata": {},
   "outputs": [],
   "source": [
    "def process_geometry_SQL_insert(gdf):\n",
    "    gdf['geom'] = gdf['geometry'].apply(lambda x: WKTElement((MultiPolygon([x]) if x.geom_type == 'Polygon' else x).wkt, srid=4326))\n",
    "    gdf = gdf.drop('geometry', 1)\n",
    "    return gdf"
   ]
  },
  {
   "cell_type": "code",
   "execution_count": 4,
   "metadata": {},
   "outputs": [],
   "source": [
    "CITY='LA'\n",
    "NEIGHBORHOOD_SIZE = 805 # 805 OR 1609"
   ]
  },
  {
   "cell_type": "code",
   "execution_count": 51,
   "metadata": {},
   "outputs": [
    {
     "data": {
      "text/html": [
       "<div>\n",
       "<style scoped>\n",
       "    .dataframe tbody tr th:only-of-type {\n",
       "        vertical-align: middle;\n",
       "    }\n",
       "\n",
       "    .dataframe tbody tr th {\n",
       "        vertical-align: top;\n",
       "    }\n",
       "\n",
       "    .dataframe thead th {\n",
       "        text-align: right;\n",
       "    }\n",
       "</style>\n",
       "<table border=\"1\" class=\"dataframe\">\n",
       "  <thead>\n",
       "    <tr style=\"text-align: right;\">\n",
       "      <th></th>\n",
       "      <th>geometry</th>\n",
       "      <th>city</th>\n",
       "    </tr>\n",
       "  </thead>\n",
       "  <tbody>\n",
       "    <tr>\n",
       "      <th>332</th>\n",
       "      <td>MULTIPOLYGON (((-118.24364 33.76163, -118.2434...</td>\n",
       "      <td>LA1m</td>\n",
       "    </tr>\n",
       "  </tbody>\n",
       "</table>\n",
       "</div>"
      ],
      "text/plain": [
       "                                              geometry  city\n",
       "332  MULTIPOLYGON (((-118.24364 33.76163, -118.2434...  LA1m"
      ]
     },
     "execution_count": 51,
     "metadata": {},
     "output_type": "execute_result"
    }
   ],
   "source": [
    "bounds_gdf = gpd.read_file('zip://../../data/LA/boundary/boundary.zip')\n",
    "bounds_gdf = bounds_gdf[(bounds_gdf.CITY_NAME == 'Los Angeles') & (bounds_gdf.FEAT_TYPE == 'Land')]\n",
    "bounds_gdf = bounds_gdf[['geometry']]\n",
    "bounds_gdf['city'] = CITY\n",
    "bounds_gdf.head()"
   ]
  },
  {
   "cell_type": "code",
   "execution_count": 52,
   "metadata": {},
   "outputs": [],
   "source": [
    "insert_gdf = process_geometry_SQL_insert(bounds_gdf)\n",
    "insert_gdf.to_sql('boundary', engine, if_exists='append', index=False, dtype={'geom': Geometry('MultiPolygon', srid=4326)})"
   ]
  },
  {
   "cell_type": "markdown",
   "metadata": {},
   "source": [
    "## Spatial groups and blocks_group"
   ]
  },
  {
   "cell_type": "code",
   "execution_count": 53,
   "metadata": {},
   "outputs": [
    {
     "name": "stderr",
     "output_type": "stream",
     "text": [
      "/home/denadai/.local/share/virtualenvs/crime-environment-u9RldRjF/lib/python3.6/site-packages/pyproj/crs/crs.py:55: FutureWarning: '+init=<authority>:<code>' syntax is deprecated. '<authority>:<code>' is the preferred initialization method. When making the change, be mindful of axis order changes: https://pyproj4.github.io/pyproj/stable/gotchas.html#axis-order-changes-in-proj-6\n",
      "  return _prepare_from_string(\" \".join(pjargs))\n"
     ]
    },
    {
     "data": {
      "text/html": [
       "<div>\n",
       "<style scoped>\n",
       "    .dataframe tbody tr th:only-of-type {\n",
       "        vertical-align: middle;\n",
       "    }\n",
       "\n",
       "    .dataframe tbody tr th {\n",
       "        vertical-align: top;\n",
       "    }\n",
       "\n",
       "    .dataframe thead th {\n",
       "        text-align: right;\n",
       "    }\n",
       "</style>\n",
       "<table border=\"1\" class=\"dataframe\">\n",
       "  <thead>\n",
       "    <tr style=\"text-align: right;\">\n",
       "      <th></th>\n",
       "      <th>GEOID</th>\n",
       "      <th>geometry</th>\n",
       "    </tr>\n",
       "  </thead>\n",
       "  <tbody>\n",
       "    <tr>\n",
       "      <th>0</th>\n",
       "      <td>060830030071</td>\n",
       "      <td>POLYGON ((-119.82937 34.42047, -119.82287 34.4...</td>\n",
       "    </tr>\n",
       "    <tr>\n",
       "      <th>1</th>\n",
       "      <td>060730178132</td>\n",
       "      <td>POLYGON ((-117.34455 33.14537, -117.34356 33.1...</td>\n",
       "    </tr>\n",
       "    <tr>\n",
       "      <th>2</th>\n",
       "      <td>060590524172</td>\n",
       "      <td>POLYGON ((-117.75759 33.71208, -117.75095 33.7...</td>\n",
       "    </tr>\n",
       "    <tr>\n",
       "      <th>3</th>\n",
       "      <td>060230101021</td>\n",
       "      <td>POLYGON ((-124.04615 41.46185, -124.04192 41.4...</td>\n",
       "    </tr>\n",
       "    <tr>\n",
       "      <th>4</th>\n",
       "      <td>060375773001</td>\n",
       "      <td>POLYGON ((-118.14651 33.75791, -118.14617 33.7...</td>\n",
       "    </tr>\n",
       "  </tbody>\n",
       "</table>\n",
       "</div>"
      ],
      "text/plain": [
       "          GEOID                                           geometry\n",
       "0  060830030071  POLYGON ((-119.82937 34.42047, -119.82287 34.4...\n",
       "1  060730178132  POLYGON ((-117.34455 33.14537, -117.34356 33.1...\n",
       "2  060590524172  POLYGON ((-117.75759 33.71208, -117.75095 33.7...\n",
       "3  060230101021  POLYGON ((-124.04615 41.46185, -124.04192 41.4...\n",
       "4  060375773001  POLYGON ((-118.14651 33.75791, -118.14617 33.7..."
      ]
     },
     "execution_count": 53,
     "metadata": {},
     "output_type": "execute_result"
    }
   ],
   "source": [
    "block_groups_gdf = gpd.read_file('zip://../../data/LA/blocks_group/cb_2013_06_bg_500k.zip')\n",
    "block_groups_gdf = block_groups_gdf[['GEOID', 'geometry']]\n",
    "block_groups_gdf = block_groups_gdf.to_crs({'init': 'epsg:4326'}) \n",
    "block_groups_gdf.head()"
   ]
  },
  {
   "cell_type": "code",
   "execution_count": 54,
   "metadata": {},
   "outputs": [
    {
     "name": "stderr",
     "output_type": "stream",
     "text": [
      "/home/denadai/.local/share/virtualenvs/crime-environment-u9RldRjF/lib/python3.6/site-packages/geopandas/tools/sjoin.py:61: UserWarning: CRS of frames being joined does not match!(+init=epsg:4326 +type=crs != epsg:4326)\n",
      "  \"(%s != %s)\" % (left_df.crs, right_df.crs)\n"
     ]
    }
   ],
   "source": [
    "block_groups_gdf = gpd.sjoin(block_groups_gdf, bounds_gdf, how=\"inner\", op='intersects').drop('index_right', axis=1)"
   ]
  },
  {
   "cell_type": "code",
   "execution_count": 55,
   "metadata": {},
   "outputs": [],
   "source": [
    "block_groups_gdf = block_groups_gdf.rename(columns={'GEOID': 'original_id'})\n",
    "block_groups_gdf['city'] = CITY"
   ]
  },
  {
   "cell_type": "code",
   "execution_count": 56,
   "metadata": {},
   "outputs": [],
   "source": [
    "insert_gdf = process_geometry_SQL_insert(block_groups_gdf)\n",
    "insert_gdf.to_sql('temptable_{}'.format(CITY.lower()), engine, if_exists='replace', index=False, dtype={'geom': Geometry('MultiPolygon', srid=4326)})"
   ]
  },
  {
   "cell_type": "code",
   "execution_count": 60,
   "metadata": {},
   "outputs": [],
   "source": [
    "sql = \"\"\"\n",
    "INSERT INTO blocks_group (original_id, city, geom) \n",
    "SELECT s.original_id, s.city, ST_Multi(ST_Intersection(s.geom, b.geom))\n",
    "FROM temptable_{tempname} as s\n",
    "INNER JOIN boundary b ON ST_Intersects(s.geom, b.geom) AND (NOT ST_Touches(s.geom, b.geom)) AND b.city=s.city\n",
    "where s.city='{city}' and ST_Area(ST_Intersection(s.geom, b.geom))/ST_Area(s.geom) > 0.5;\n",
    "\"\"\".format(city=CITY, tempname=CITY.lower())\n",
    "\n",
    "result = engine.execute(text(sql))"
   ]
  },
  {
   "cell_type": "markdown",
   "metadata": {},
   "source": [
    "## Neighborhoods"
   ]
  },
  {
   "cell_type": "code",
   "execution_count": 61,
   "metadata": {},
   "outputs": [],
   "source": [
    "sql = \"\"\"INSERT INTO spatial_groups (city, core_geom, core_id, lower_ids, spatial_name, approx_geom)\n",
    "SELECT  a.city, a.geom as core_geom, a.bid as core_id, array_agg(b.bid), 'ego', ST_multi(ST_Union(b.geom))\n",
    "FROM blocks_group a\n",
    "INNER JOIN blocks_group b ON a.city = b.city AND (a.bid = b.bid OR ST_DWithin(a.geom::geography, ST_Centroid(b.geom)::geography, {distance}) OR st_touches(a.geom, b.geom)) \n",
    "where a.city='{city}'\n",
    "GROUP BY a.bid, a.geom, a.city;\n",
    "delete from spatial_groups where ST_Area(approx_geom::geography) < 250000 and spatial_name='ego';\n",
    "\"\"\".format(city=CITY, tempname=CITY.lower(), distance=NEIGHBORHOOD_SIZE)\n",
    "\n",
    "result = engine.execute(text(sql))"
   ]
  },
  {
   "cell_type": "markdown",
   "metadata": {},
   "source": [
    "## Blocks"
   ]
  },
  {
   "cell_type": "code",
   "execution_count": 62,
   "metadata": {},
   "outputs": [
    {
     "name": "stderr",
     "output_type": "stream",
     "text": [
      "/home/denadai/.local/share/virtualenvs/crime-environment-u9RldRjF/lib/python3.6/site-packages/pyproj/crs/crs.py:55: FutureWarning: '+init=<authority>:<code>' syntax is deprecated. '<authority>:<code>' is the preferred initialization method. When making the change, be mindful of axis order changes: https://pyproj4.github.io/pyproj/stable/gotchas.html#axis-order-changes-in-proj-6\n",
      "  return _prepare_from_string(\" \".join(pjargs))\n"
     ]
    },
    {
     "data": {
      "text/html": [
       "<div>\n",
       "<style scoped>\n",
       "    .dataframe tbody tr th:only-of-type {\n",
       "        vertical-align: middle;\n",
       "    }\n",
       "\n",
       "    .dataframe tbody tr th {\n",
       "        vertical-align: top;\n",
       "    }\n",
       "\n",
       "    .dataframe thead th {\n",
       "        text-align: right;\n",
       "    }\n",
       "</style>\n",
       "<table border=\"1\" class=\"dataframe\">\n",
       "  <thead>\n",
       "    <tr style=\"text-align: right;\">\n",
       "      <th></th>\n",
       "      <th>geometry</th>\n",
       "    </tr>\n",
       "  </thead>\n",
       "  <tbody>\n",
       "    <tr>\n",
       "      <th>0</th>\n",
       "      <td>POLYGON ((-118.31961 33.88241, -118.31960 33.8...</td>\n",
       "    </tr>\n",
       "    <tr>\n",
       "      <th>1</th>\n",
       "      <td>POLYGON ((-118.31547 33.82443, -118.31499 33.8...</td>\n",
       "    </tr>\n",
       "    <tr>\n",
       "      <th>2</th>\n",
       "      <td>POLYGON ((-118.38992 33.77734, -118.39009 33.7...</td>\n",
       "    </tr>\n",
       "    <tr>\n",
       "      <th>3</th>\n",
       "      <td>POLYGON ((-118.33019 33.82080, -118.33018 33.8...</td>\n",
       "    </tr>\n",
       "    <tr>\n",
       "      <th>4</th>\n",
       "      <td>POLYGON ((-118.34505 33.82928, -118.34505 33.8...</td>\n",
       "    </tr>\n",
       "  </tbody>\n",
       "</table>\n",
       "</div>"
      ],
      "text/plain": [
       "                                            geometry\n",
       "0  POLYGON ((-118.31961 33.88241, -118.31960 33.8...\n",
       "1  POLYGON ((-118.31547 33.82443, -118.31499 33.8...\n",
       "2  POLYGON ((-118.38992 33.77734, -118.39009 33.7...\n",
       "3  POLYGON ((-118.33019 33.82080, -118.33018 33.8...\n",
       "4  POLYGON ((-118.34505 33.82928, -118.34505 33.8..."
      ]
     },
     "execution_count": 62,
     "metadata": {},
     "output_type": "execute_result"
    }
   ],
   "source": [
    "block_gdf = gpd.read_file('zip://../../data/LA/block/CENSUS_BLOCKS_2010.zip')\n",
    "block_gdf = block_gdf[['geometry']]\n",
    "block_gdf = block_gdf.to_crs({'init': 'epsg:4326'}) \n",
    "block_gdf.head()"
   ]
  },
  {
   "cell_type": "code",
   "execution_count": 63,
   "metadata": {},
   "outputs": [],
   "source": [
    "insert_gdf = process_geometry_SQL_insert(block_gdf)\n",
    "insert_gdf.to_sql('temptable_{}'.format(CITY.lower()), engine, if_exists='replace', index=False, dtype={'geom': Geometry('MultiPolygon', srid=4326)})"
   ]
  },
  {
   "cell_type": "code",
   "execution_count": 64,
   "metadata": {},
   "outputs": [],
   "source": [
    "sql = \"\"\"\n",
    "insert into block (sp_id, geom, city, geog, greater_1sm) select bid, geom, city, geom::geography, ST_AREA(geom::geography)>2.59e+6 \n",
    "from(\n",
    "    SELECT bid, st_multi(geom) as geom, city, ROW_NUMBER() OVER (PARTITION BY geom ORDER by area DESC) AS r\n",
    "    from (\n",
    "        select b.bid, c.geom, b.city, ST_Area(ST_Intersection(b.geom, c.geom)) as area\n",
    "        from temptable_{tempname} as c\n",
    "        inner join blocks_group as b on ST_Intersects(b.geom, c.geom)\n",
    "        where b.city = '{city}'\n",
    "    ) as dtable\n",
    ") x\n",
    "WHERE x.r = 1;\n",
    "\"\"\".format(city=CITY, tempname=CITY.lower())\n",
    "\n",
    "result = engine.execute(text(sql))"
   ]
  },
  {
   "cell_type": "code",
   "execution_count": 65,
   "metadata": {},
   "outputs": [],
   "source": [
    "sql = \"\"\"\n",
    "UPDATE block AS b SET geom=ST_Multi(ST_Intersection(b.geom, s.geom))\n",
    "FROM boundary AS s\n",
    "WHERE ST_Intersects(b.geom, s.geom) AND b.city=s.city AND s.city='{city}' AND NOT ST_Contains(s.geom, b.geom);\n",
    "\"\"\".format(city=CITY, tempname=CITY.lower())\n",
    "\n",
    "result = engine.execute(text(sql))"
   ]
  },
  {
   "cell_type": "code",
   "execution_count": 66,
   "metadata": {},
   "outputs": [],
   "source": [
    "## Some blocks_group do not have blocks\n",
    "sql = \"\"\"\n",
    "DELETE FROM blocks_group bg\n",
    "WHERE NOT EXISTS(SELECT * FROM block b WHERE b.sp_id = bg.bid) AND bg.city='{city}';\n",
    "\"\"\".format(city=CITY, tempname=CITY.lower())\n",
    "\n",
    "result = engine.execute(text(sql))"
   ]
  },
  {
   "cell_type": "markdown",
   "metadata": {},
   "source": [
    "## Census"
   ]
  },
  {
   "cell_type": "code",
   "execution_count": 67,
   "metadata": {},
   "outputs": [
    {
     "data": {
      "text/plain": [
       "[<ZipInfo filename='ACS_13_5YR_B23025_with_ann.csv' compress_type=deflate file_size=1011951 compress_size=202616>,\n",
       " <ZipInfo filename='ACS_13_5YR_B23025_metadata.csv' compress_type=deflate file_size=830 compress_size=218>,\n",
       " <ZipInfo filename='ACS_13_5YR_B23025.txt' compress_type=deflate file_size=3712 compress_size=1360>,\n",
       " <ZipInfo filename='aff_download_readme_ann.txt' compress_type=deflate file_size=1062 compress_size=463>]"
      ]
     },
     "execution_count": 67,
     "metadata": {},
     "output_type": "execute_result"
    }
   ],
   "source": [
    "zip_file = ZipFile('../../data/LA/employment/ACS_13_5YR_B23025.zip')\n",
    "zip_file.infolist()"
   ]
  },
  {
   "cell_type": "code",
   "execution_count": 68,
   "metadata": {},
   "outputs": [
    {
     "data": {
      "text/html": [
       "<div>\n",
       "<style scoped>\n",
       "    .dataframe tbody tr th:only-of-type {\n",
       "        vertical-align: middle;\n",
       "    }\n",
       "\n",
       "    .dataframe tbody tr th {\n",
       "        vertical-align: top;\n",
       "    }\n",
       "\n",
       "    .dataframe thead th {\n",
       "        text-align: right;\n",
       "    }\n",
       "</style>\n",
       "<table border=\"1\" class=\"dataframe\">\n",
       "  <thead>\n",
       "    <tr style=\"text-align: right;\">\n",
       "      <th></th>\n",
       "      <th>original_id</th>\n",
       "      <th>inforce</th>\n",
       "      <th>employed</th>\n",
       "      <th>armed</th>\n",
       "    </tr>\n",
       "  </thead>\n",
       "  <tbody>\n",
       "    <tr>\n",
       "      <th>1</th>\n",
       "      <td>060371011101</td>\n",
       "      <td>1043</td>\n",
       "      <td>900</td>\n",
       "      <td>0</td>\n",
       "    </tr>\n",
       "    <tr>\n",
       "      <th>2</th>\n",
       "      <td>060371011102</td>\n",
       "      <td>927</td>\n",
       "      <td>859</td>\n",
       "      <td>0</td>\n",
       "    </tr>\n",
       "    <tr>\n",
       "      <th>3</th>\n",
       "      <td>060371011103</td>\n",
       "      <td>622</td>\n",
       "      <td>562</td>\n",
       "      <td>0</td>\n",
       "    </tr>\n",
       "    <tr>\n",
       "      <th>4</th>\n",
       "      <td>060371011221</td>\n",
       "      <td>1492</td>\n",
       "      <td>1379</td>\n",
       "      <td>0</td>\n",
       "    </tr>\n",
       "    <tr>\n",
       "      <th>5</th>\n",
       "      <td>060371011222</td>\n",
       "      <td>742</td>\n",
       "      <td>667</td>\n",
       "      <td>0</td>\n",
       "    </tr>\n",
       "  </tbody>\n",
       "</table>\n",
       "</div>"
      ],
      "text/plain": [
       "    original_id  inforce  employed  armed\n",
       "1  060371011101     1043       900      0\n",
       "2  060371011102      927       859      0\n",
       "3  060371011103      622       562      0\n",
       "4  060371011221     1492      1379      0\n",
       "5  060371011222      742       667      0"
      ]
     },
     "execution_count": 68,
     "metadata": {},
     "output_type": "execute_result"
    }
   ],
   "source": [
    "employment_df = pd.read_csv(zip_file.open('ACS_13_5YR_B23025_with_ann.csv'))\n",
    "employment_df = employment_df.rename(columns={'GEO.id2': 'original_id', 'HD01_VD02': 'inforce', 'HD01_VD04': 'employed', 'HD01_VD06': 'armed'})\n",
    "employment_df = employment_df[['original_id', 'inforce', 'employed', 'armed']]\n",
    "# Skip first header line\n",
    "employment_df = employment_df[employment_df['original_id'] != 'Id2']\n",
    "\n",
    "employment_df['inforce'] = employment_df['inforce'].astype(int)\n",
    "employment_df['employed'] = employment_df['employed'].astype(int)\n",
    "employment_df['armed'] = employment_df['armed'].astype(int)\n",
    "employment_df.head()"
   ]
  },
  {
   "cell_type": "code",
   "execution_count": 69,
   "metadata": {},
   "outputs": [
    {
     "data": {
      "text/plain": [
       "[<ZipInfo filename='ACS_13_5YR_B01003_with_ann.csv' compress_type=deflate file_size=731365 compress_size=90938>,\n",
       " <ZipInfo filename='ACS_13_5YR_B01003_metadata.csv' compress_type=deflate file_size=114 compress_size=91>,\n",
       " <ZipInfo filename='ACS_13_5YR_B01003.txt' compress_type=deflate file_size=3662 compress_size=1319>,\n",
       " <ZipInfo filename='aff_download_readme_ann.txt' compress_type=deflate file_size=1062 compress_size=463>]"
      ]
     },
     "execution_count": 69,
     "metadata": {},
     "output_type": "execute_result"
    }
   ],
   "source": [
    "zip_file = ZipFile('../../data/LA/population/ACS_13_5YR_B01003.zip')\n",
    "zip_file.infolist()"
   ]
  },
  {
   "cell_type": "code",
   "execution_count": 70,
   "metadata": {},
   "outputs": [
    {
     "data": {
      "text/html": [
       "<div>\n",
       "<style scoped>\n",
       "    .dataframe tbody tr th:only-of-type {\n",
       "        vertical-align: middle;\n",
       "    }\n",
       "\n",
       "    .dataframe tbody tr th {\n",
       "        vertical-align: top;\n",
       "    }\n",
       "\n",
       "    .dataframe thead th {\n",
       "        text-align: right;\n",
       "    }\n",
       "</style>\n",
       "<table border=\"1\" class=\"dataframe\">\n",
       "  <thead>\n",
       "    <tr style=\"text-align: right;\">\n",
       "      <th></th>\n",
       "      <th>original_id</th>\n",
       "      <th>population</th>\n",
       "    </tr>\n",
       "  </thead>\n",
       "  <tbody>\n",
       "    <tr>\n",
       "      <th>1</th>\n",
       "      <td>060371011101</td>\n",
       "      <td>2286</td>\n",
       "    </tr>\n",
       "    <tr>\n",
       "      <th>2</th>\n",
       "      <td>060371011102</td>\n",
       "      <td>1601</td>\n",
       "    </tr>\n",
       "    <tr>\n",
       "      <th>3</th>\n",
       "      <td>060371011103</td>\n",
       "      <td>1125</td>\n",
       "    </tr>\n",
       "    <tr>\n",
       "      <th>4</th>\n",
       "      <td>060371011221</td>\n",
       "      <td>2199</td>\n",
       "    </tr>\n",
       "    <tr>\n",
       "      <th>5</th>\n",
       "      <td>060371011222</td>\n",
       "      <td>1305</td>\n",
       "    </tr>\n",
       "  </tbody>\n",
       "</table>\n",
       "</div>"
      ],
      "text/plain": [
       "    original_id  population\n",
       "1  060371011101        2286\n",
       "2  060371011102        1601\n",
       "3  060371011103        1125\n",
       "4  060371011221        2199\n",
       "5  060371011222        1305"
      ]
     },
     "execution_count": 70,
     "metadata": {},
     "output_type": "execute_result"
    }
   ],
   "source": [
    "pop_df = pd.read_csv(zip_file.open('ACS_13_5YR_B01003_with_ann.csv'))\n",
    "pop_df = pop_df.rename(columns={'GEO.id2': 'original_id', 'HD01_VD01': 'population'})\n",
    "pop_df = pop_df[['original_id', 'population']]\n",
    "# Skip first header line\n",
    "pop_df = pop_df[pop_df['original_id'] != 'Id2']\n",
    "\n",
    "pop_df['population'] = pop_df['population'].astype(int)\n",
    "pop_df.head()"
   ]
  },
  {
   "cell_type": "code",
   "execution_count": 71,
   "metadata": {},
   "outputs": [
    {
     "data": {
      "text/plain": [
       "[<ZipInfo filename='ACS_13_5YR_B25001_with_ann.csv' compress_type=deflate file_size=722516 compress_size=85167>,\n",
       " <ZipInfo filename='ACS_13_5YR_B25001_metadata.csv' compress_type=deflate file_size=114 compress_size=91>,\n",
       " <ZipInfo filename='ACS_13_5YR_B25001.txt' compress_type=deflate file_size=3656 compress_size=1315>,\n",
       " <ZipInfo filename='aff_download_readme_ann.txt' compress_type=deflate file_size=1062 compress_size=463>]"
      ]
     },
     "execution_count": 71,
     "metadata": {},
     "output_type": "execute_result"
    }
   ],
   "source": [
    "zip_file = ZipFile('../../data/LA/population/ACS_13_5YR_B25001.zip')\n",
    "zip_file.infolist()"
   ]
  },
  {
   "cell_type": "code",
   "execution_count": 72,
   "metadata": {},
   "outputs": [
    {
     "data": {
      "text/html": [
       "<div>\n",
       "<style scoped>\n",
       "    .dataframe tbody tr th:only-of-type {\n",
       "        vertical-align: middle;\n",
       "    }\n",
       "\n",
       "    .dataframe tbody tr th {\n",
       "        vertical-align: top;\n",
       "    }\n",
       "\n",
       "    .dataframe thead th {\n",
       "        text-align: right;\n",
       "    }\n",
       "</style>\n",
       "<table border=\"1\" class=\"dataframe\">\n",
       "  <thead>\n",
       "    <tr style=\"text-align: right;\">\n",
       "      <th></th>\n",
       "      <th>original_id</th>\n",
       "      <th>dwellings</th>\n",
       "    </tr>\n",
       "  </thead>\n",
       "  <tbody>\n",
       "    <tr>\n",
       "      <th>0</th>\n",
       "      <td>060371011101</td>\n",
       "      <td>738</td>\n",
       "    </tr>\n",
       "    <tr>\n",
       "      <th>1</th>\n",
       "      <td>060371011102</td>\n",
       "      <td>635</td>\n",
       "    </tr>\n",
       "    <tr>\n",
       "      <th>2</th>\n",
       "      <td>060371011103</td>\n",
       "      <td>384</td>\n",
       "    </tr>\n",
       "    <tr>\n",
       "      <th>3</th>\n",
       "      <td>060371011221</td>\n",
       "      <td>851</td>\n",
       "    </tr>\n",
       "    <tr>\n",
       "      <th>4</th>\n",
       "      <td>060371011222</td>\n",
       "      <td>505</td>\n",
       "    </tr>\n",
       "  </tbody>\n",
       "</table>\n",
       "</div>"
      ],
      "text/plain": [
       "    original_id  dwellings\n",
       "0  060371011101        738\n",
       "1  060371011102        635\n",
       "2  060371011103        384\n",
       "3  060371011221        851\n",
       "4  060371011222        505"
      ]
     },
     "execution_count": 72,
     "metadata": {},
     "output_type": "execute_result"
    }
   ],
   "source": [
    "dwellings_df = pd.read_csv(zip_file.open('ACS_13_5YR_B25001_with_ann.csv'), dtype={'GEO.id2': str})\n",
    "dwellings_df = dwellings_df.rename(columns={'GEO.id2': 'original_id', 'HD01_VD01': 'dwellings'})\n",
    "dwellings_df = dwellings_df[['original_id', 'dwellings']]\n",
    "\n",
    "dwellings_df['dwellings'] = dwellings_df['dwellings'].astype(int)\n",
    "dwellings_df.head()"
   ]
  },
  {
   "cell_type": "code",
   "execution_count": 73,
   "metadata": {},
   "outputs": [
    {
     "name": "stdout",
     "output_type": "stream",
     "text": [
      "6425\n",
      "6425\n"
     ]
    },
    {
     "data": {
      "text/html": [
       "<div>\n",
       "<style scoped>\n",
       "    .dataframe tbody tr th:only-of-type {\n",
       "        vertical-align: middle;\n",
       "    }\n",
       "\n",
       "    .dataframe tbody tr th {\n",
       "        vertical-align: top;\n",
       "    }\n",
       "\n",
       "    .dataframe thead th {\n",
       "        text-align: right;\n",
       "    }\n",
       "</style>\n",
       "<table border=\"1\" class=\"dataframe\">\n",
       "  <thead>\n",
       "    <tr style=\"text-align: right;\">\n",
       "      <th></th>\n",
       "      <th>original_id</th>\n",
       "      <th>inforce</th>\n",
       "      <th>employed</th>\n",
       "      <th>armed</th>\n",
       "      <th>population</th>\n",
       "      <th>dwellings</th>\n",
       "    </tr>\n",
       "  </thead>\n",
       "  <tbody>\n",
       "    <tr>\n",
       "      <th>0</th>\n",
       "      <td>060371011101</td>\n",
       "      <td>1043</td>\n",
       "      <td>900</td>\n",
       "      <td>0</td>\n",
       "      <td>2286</td>\n",
       "      <td>738</td>\n",
       "    </tr>\n",
       "    <tr>\n",
       "      <th>1</th>\n",
       "      <td>060371011102</td>\n",
       "      <td>927</td>\n",
       "      <td>859</td>\n",
       "      <td>0</td>\n",
       "      <td>1601</td>\n",
       "      <td>635</td>\n",
       "    </tr>\n",
       "    <tr>\n",
       "      <th>2</th>\n",
       "      <td>060371011103</td>\n",
       "      <td>622</td>\n",
       "      <td>562</td>\n",
       "      <td>0</td>\n",
       "      <td>1125</td>\n",
       "      <td>384</td>\n",
       "    </tr>\n",
       "    <tr>\n",
       "      <th>3</th>\n",
       "      <td>060371011221</td>\n",
       "      <td>1492</td>\n",
       "      <td>1379</td>\n",
       "      <td>0</td>\n",
       "      <td>2199</td>\n",
       "      <td>851</td>\n",
       "    </tr>\n",
       "    <tr>\n",
       "      <th>4</th>\n",
       "      <td>060371011222</td>\n",
       "      <td>742</td>\n",
       "      <td>667</td>\n",
       "      <td>0</td>\n",
       "      <td>1305</td>\n",
       "      <td>505</td>\n",
       "    </tr>\n",
       "  </tbody>\n",
       "</table>\n",
       "</div>"
      ],
      "text/plain": [
       "    original_id  inforce  employed  armed  population  dwellings\n",
       "0  060371011101     1043       900      0        2286        738\n",
       "1  060371011102      927       859      0        1601        635\n",
       "2  060371011103      622       562      0        1125        384\n",
       "3  060371011221     1492      1379      0        2199        851\n",
       "4  060371011222      742       667      0        1305        505"
      ]
     },
     "execution_count": 73,
     "metadata": {},
     "output_type": "execute_result"
    }
   ],
   "source": [
    "print(len(pop_df))\n",
    "census_df = pd.merge(employment_df, pop_df, on='original_id')\n",
    "census_df = pd.merge(census_df, dwellings_df, on='original_id')\n",
    "print(len(census_df))\n",
    "census_df.head()"
   ]
  },
  {
   "cell_type": "code",
   "execution_count": 74,
   "metadata": {},
   "outputs": [],
   "source": [
    "census_df.to_sql('temptable_{}'.format(CITY.lower()), engine, if_exists='replace', index=False)"
   ]
  },
  {
   "cell_type": "code",
   "execution_count": 75,
   "metadata": {},
   "outputs": [],
   "source": [
    "sql = \"\"\"\n",
    "insert into census (bid, population, employed, inforce, tot_survey, dwellings, city) \n",
    "select b.bid, c.population, c.employed+c.armed, c.inforce, c.population, c.dwellings, '{city}' \n",
    "from temptable_{tempname} c \n",
    "inner join blocks_group b on b.original_id = c.original_id\n",
    "where b.city='{city}';\n",
    "\"\"\".format(city=CITY, tempname=CITY.lower())\n",
    "\n",
    "result = engine.execute(text(sql))"
   ]
  },
  {
   "cell_type": "markdown",
   "metadata": {},
   "source": [
    "### Residential stability"
   ]
  },
  {
   "cell_type": "code",
   "execution_count": 76,
   "metadata": {},
   "outputs": [
    {
     "data": {
      "text/plain": [
       "[<ZipInfo filename='ACS_13_5YR_B07201.csv' compress_type=deflate file_size=1227768 compress_size=225538>,\n",
       " <ZipInfo filename='ACS_13_5YR_B07201_metadata.csv' compress_type=deflate file_size=3381 compress_size=400>,\n",
       " <ZipInfo filename='ACS_13_5YR_B07201.txt' compress_type=deflate file_size=4042 compress_size=1513>,\n",
       " <ZipInfo filename='aff_download_readme.txt' compress_type=deflate file_size=1951 compress_size=802>]"
      ]
     },
     "execution_count": 76,
     "metadata": {},
     "output_type": "execute_result"
    }
   ],
   "source": [
    "zip_file = ZipFile('../../data/LA/residential_stability/ACS_13_5YR_B07201.zip')\n",
    "zip_file.infolist()"
   ]
  },
  {
   "cell_type": "code",
   "execution_count": 77,
   "metadata": {},
   "outputs": [
    {
     "data": {
      "text/html": [
       "<div>\n",
       "<style scoped>\n",
       "    .dataframe tbody tr th:only-of-type {\n",
       "        vertical-align: middle;\n",
       "    }\n",
       "\n",
       "    .dataframe tbody tr th {\n",
       "        vertical-align: top;\n",
       "    }\n",
       "\n",
       "    .dataframe thead th {\n",
       "        text-align: right;\n",
       "    }\n",
       "</style>\n",
       "<table border=\"1\" class=\"dataframe\">\n",
       "  <thead>\n",
       "    <tr style=\"text-align: right;\">\n",
       "      <th></th>\n",
       "      <th>original_id</th>\n",
       "      <th>total</th>\n",
       "      <th>stable</th>\n",
       "    </tr>\n",
       "  </thead>\n",
       "  <tbody>\n",
       "    <tr>\n",
       "      <th>1</th>\n",
       "      <td>060371011101</td>\n",
       "      <td>2277</td>\n",
       "      <td>2125</td>\n",
       "    </tr>\n",
       "    <tr>\n",
       "      <th>2</th>\n",
       "      <td>060371011102</td>\n",
       "      <td>1560</td>\n",
       "      <td>1308</td>\n",
       "    </tr>\n",
       "    <tr>\n",
       "      <th>3</th>\n",
       "      <td>060371011103</td>\n",
       "      <td>1092</td>\n",
       "      <td>1034</td>\n",
       "    </tr>\n",
       "    <tr>\n",
       "      <th>4</th>\n",
       "      <td>060371011221</td>\n",
       "      <td>2199</td>\n",
       "      <td>1883</td>\n",
       "    </tr>\n",
       "    <tr>\n",
       "      <th>5</th>\n",
       "      <td>060371011222</td>\n",
       "      <td>1295</td>\n",
       "      <td>1203</td>\n",
       "    </tr>\n",
       "  </tbody>\n",
       "</table>\n",
       "</div>"
      ],
      "text/plain": [
       "    original_id  total  stable\n",
       "1  060371011101   2277    2125\n",
       "2  060371011102   1560    1308\n",
       "3  060371011103   1092    1034\n",
       "4  060371011221   2199    1883\n",
       "5  060371011222   1295    1203"
      ]
     },
     "execution_count": 77,
     "metadata": {},
     "output_type": "execute_result"
    }
   ],
   "source": [
    "stab_df = pd.read_csv(zip_file.open('ACS_13_5YR_B07201.csv'))\n",
    "stab_df = stab_df.rename(columns={'GEO.id2': 'original_id', 'HD01_VD01': 'total', 'HD01_VD02': 'stable'})\n",
    "stab_df = stab_df[['original_id', 'total', 'stable']]\n",
    "# Skip first header line\n",
    "stab_df = stab_df[stab_df['original_id'] != 'Id2']\n",
    "\n",
    "stab_df['total'] = stab_df['total'].astype(int)\n",
    "stab_df['stable'] = stab_df['stable'].astype(int)\n",
    "stab_df.head()"
   ]
  },
  {
   "cell_type": "code",
   "execution_count": 78,
   "metadata": {},
   "outputs": [
    {
     "data": {
      "text/plain": [
       "[<ZipInfo filename='ACS_13_5YR_B25003.csv' compress_type=deflate file_size=811352 compress_size=130647>,\n",
       " <ZipInfo filename='ACS_13_5YR_B25003_metadata.csv' compress_type=deflate file_size=312 compress_size=140>,\n",
       " <ZipInfo filename='ACS_13_5YR_B25003.txt' compress_type=deflate file_size=3658 compress_size=1310>,\n",
       " <ZipInfo filename='aff_download_readme.txt' compress_type=deflate file_size=1951 compress_size=802>]"
      ]
     },
     "execution_count": 78,
     "metadata": {},
     "output_type": "execute_result"
    }
   ],
   "source": [
    "zip_file = ZipFile('../../data/LA/tenure/ACS_13_5YR_B25003.zip')\n",
    "zip_file.infolist()"
   ]
  },
  {
   "cell_type": "code",
   "execution_count": 79,
   "metadata": {},
   "outputs": [
    {
     "data": {
      "text/html": [
       "<div>\n",
       "<style scoped>\n",
       "    .dataframe tbody tr th:only-of-type {\n",
       "        vertical-align: middle;\n",
       "    }\n",
       "\n",
       "    .dataframe tbody tr th {\n",
       "        vertical-align: top;\n",
       "    }\n",
       "\n",
       "    .dataframe thead th {\n",
       "        text-align: right;\n",
       "    }\n",
       "</style>\n",
       "<table border=\"1\" class=\"dataframe\">\n",
       "  <thead>\n",
       "    <tr style=\"text-align: right;\">\n",
       "      <th></th>\n",
       "      <th>original_id</th>\n",
       "      <th>total2</th>\n",
       "      <th>owner</th>\n",
       "    </tr>\n",
       "  </thead>\n",
       "  <tbody>\n",
       "    <tr>\n",
       "      <th>1</th>\n",
       "      <td>060371011101</td>\n",
       "      <td>705</td>\n",
       "      <td>332</td>\n",
       "    </tr>\n",
       "    <tr>\n",
       "      <th>2</th>\n",
       "      <td>060371011102</td>\n",
       "      <td>603</td>\n",
       "      <td>257</td>\n",
       "    </tr>\n",
       "    <tr>\n",
       "      <th>3</th>\n",
       "      <td>060371011103</td>\n",
       "      <td>374</td>\n",
       "      <td>270</td>\n",
       "    </tr>\n",
       "    <tr>\n",
       "      <th>4</th>\n",
       "      <td>060371011221</td>\n",
       "      <td>782</td>\n",
       "      <td>631</td>\n",
       "    </tr>\n",
       "    <tr>\n",
       "      <th>5</th>\n",
       "      <td>060371011222</td>\n",
       "      <td>446</td>\n",
       "      <td>414</td>\n",
       "    </tr>\n",
       "  </tbody>\n",
       "</table>\n",
       "</div>"
      ],
      "text/plain": [
       "    original_id  total2  owner\n",
       "1  060371011101     705    332\n",
       "2  060371011102     603    257\n",
       "3  060371011103     374    270\n",
       "4  060371011221     782    631\n",
       "5  060371011222     446    414"
      ]
     },
     "execution_count": 79,
     "metadata": {},
     "output_type": "execute_result"
    }
   ],
   "source": [
    "tenure_df = pd.read_csv(zip_file.open('ACS_13_5YR_B25003.csv'))\n",
    "tenure_df = tenure_df.rename(columns={'GEO.id2': 'original_id', 'HD01_VD01': 'total2', 'HD01_VD02': 'owner'})\n",
    "tenure_df = tenure_df[['original_id', 'total2', 'owner']]\n",
    "# Skip first header line\n",
    "tenure_df = tenure_df[tenure_df['original_id'] != 'Id2']\n",
    "\n",
    "tenure_df['total2'] = tenure_df['total2'].astype(int)\n",
    "tenure_df['owner'] = tenure_df['owner'].astype(int)\n",
    "tenure_df.head()"
   ]
  },
  {
   "cell_type": "code",
   "execution_count": 80,
   "metadata": {},
   "outputs": [
    {
     "data": {
      "text/html": [
       "<div>\n",
       "<style scoped>\n",
       "    .dataframe tbody tr th:only-of-type {\n",
       "        vertical-align: middle;\n",
       "    }\n",
       "\n",
       "    .dataframe tbody tr th {\n",
       "        vertical-align: top;\n",
       "    }\n",
       "\n",
       "    .dataframe thead th {\n",
       "        text-align: right;\n",
       "    }\n",
       "</style>\n",
       "<table border=\"1\" class=\"dataframe\">\n",
       "  <thead>\n",
       "    <tr style=\"text-align: right;\">\n",
       "      <th></th>\n",
       "      <th>original_id</th>\n",
       "      <th>total</th>\n",
       "      <th>stable</th>\n",
       "      <th>total2</th>\n",
       "      <th>owner</th>\n",
       "    </tr>\n",
       "  </thead>\n",
       "  <tbody>\n",
       "    <tr>\n",
       "      <th>0</th>\n",
       "      <td>060371011101</td>\n",
       "      <td>2277</td>\n",
       "      <td>2125</td>\n",
       "      <td>705</td>\n",
       "      <td>332</td>\n",
       "    </tr>\n",
       "    <tr>\n",
       "      <th>1</th>\n",
       "      <td>060371011102</td>\n",
       "      <td>1560</td>\n",
       "      <td>1308</td>\n",
       "      <td>603</td>\n",
       "      <td>257</td>\n",
       "    </tr>\n",
       "    <tr>\n",
       "      <th>2</th>\n",
       "      <td>060371011103</td>\n",
       "      <td>1092</td>\n",
       "      <td>1034</td>\n",
       "      <td>374</td>\n",
       "      <td>270</td>\n",
       "    </tr>\n",
       "    <tr>\n",
       "      <th>3</th>\n",
       "      <td>060371011221</td>\n",
       "      <td>2199</td>\n",
       "      <td>1883</td>\n",
       "      <td>782</td>\n",
       "      <td>631</td>\n",
       "    </tr>\n",
       "    <tr>\n",
       "      <th>4</th>\n",
       "      <td>060371011222</td>\n",
       "      <td>1295</td>\n",
       "      <td>1203</td>\n",
       "      <td>446</td>\n",
       "      <td>414</td>\n",
       "    </tr>\n",
       "  </tbody>\n",
       "</table>\n",
       "</div>"
      ],
      "text/plain": [
       "    original_id  total  stable  total2  owner\n",
       "0  060371011101   2277    2125     705    332\n",
       "1  060371011102   1560    1308     603    257\n",
       "2  060371011103   1092    1034     374    270\n",
       "3  060371011221   2199    1883     782    631\n",
       "4  060371011222   1295    1203     446    414"
      ]
     },
     "execution_count": 80,
     "metadata": {},
     "output_type": "execute_result"
    }
   ],
   "source": [
    "res_stability_df = pd.merge(stab_df, tenure_df, on='original_id')\n",
    "res_stability_df.head()"
   ]
  },
  {
   "cell_type": "code",
   "execution_count": 81,
   "metadata": {},
   "outputs": [],
   "source": [
    "res_stability_df.to_sql('temptable_{}'.format(CITY.lower()), engine, if_exists='replace', index=False)"
   ]
  },
  {
   "cell_type": "code",
   "execution_count": 82,
   "metadata": {},
   "outputs": [],
   "source": [
    "sql = \"\"\"\n",
    "INSERT INTO residential_stability (bid, city, total, stable, total2, owner) \n",
    "SELECT b.bid, '{city}', c.total, c.stable, c.total2, c.owner \n",
    "FROM temptable_{tempname} c \n",
    "INNER JOIN blocks_group b ON b.original_id = c.original_id\n",
    "where b.city='{city}';\n",
    "\"\"\".format(city=CITY, tempname=CITY.lower())\n",
    "\n",
    "result = engine.execute(text(sql))"
   ]
  },
  {
   "cell_type": "markdown",
   "metadata": {},
   "source": [
    "### Ethnic diversity"
   ]
  },
  {
   "cell_type": "code",
   "execution_count": 83,
   "metadata": {},
   "outputs": [
    {
     "data": {
      "text/plain": [
       "[<ZipInfo filename='ACS_13_5YR_B02001.csv' compress_type=deflate file_size=1093189 compress_size=227763>,\n",
       " <ZipInfo filename='ACS_13_5YR_B02001_metadata.csv' compress_type=deflate file_size=1373 compress_size=336>,\n",
       " <ZipInfo filename='ACS_13_5YR_B02001.txt' compress_type=deflate file_size=3650 compress_size=1305>,\n",
       " <ZipInfo filename='aff_download_readme.txt' compress_type=deflate file_size=1951 compress_size=802>]"
      ]
     },
     "execution_count": 83,
     "metadata": {},
     "output_type": "execute_result"
    }
   ],
   "source": [
    "zip_file = ZipFile('../../data/LA/ethnic_diversity/ACS_13_5YR_B02001.zip')\n",
    "zip_file.infolist()"
   ]
  },
  {
   "cell_type": "code",
   "execution_count": 84,
   "metadata": {},
   "outputs": [
    {
     "data": {
      "text/html": [
       "<div>\n",
       "<style scoped>\n",
       "    .dataframe tbody tr th:only-of-type {\n",
       "        vertical-align: middle;\n",
       "    }\n",
       "\n",
       "    .dataframe tbody tr th {\n",
       "        vertical-align: top;\n",
       "    }\n",
       "\n",
       "    .dataframe thead th {\n",
       "        text-align: right;\n",
       "    }\n",
       "</style>\n",
       "<table border=\"1\" class=\"dataframe\">\n",
       "  <thead>\n",
       "    <tr style=\"text-align: right;\">\n",
       "      <th></th>\n",
       "      <th>original_id</th>\n",
       "      <th>white</th>\n",
       "      <th>black</th>\n",
       "      <th>asian</th>\n",
       "      <th>native</th>\n",
       "      <th>native2</th>\n",
       "      <th>other</th>\n",
       "    </tr>\n",
       "  </thead>\n",
       "  <tbody>\n",
       "    <tr>\n",
       "      <th>1</th>\n",
       "      <td>060371011101</td>\n",
       "      <td>1691</td>\n",
       "      <td>18</td>\n",
       "      <td>194</td>\n",
       "      <td>0</td>\n",
       "      <td>0</td>\n",
       "      <td>186</td>\n",
       "    </tr>\n",
       "    <tr>\n",
       "      <th>2</th>\n",
       "      <td>060371011102</td>\n",
       "      <td>1009</td>\n",
       "      <td>18</td>\n",
       "      <td>147</td>\n",
       "      <td>7</td>\n",
       "      <td>0</td>\n",
       "      <td>82</td>\n",
       "    </tr>\n",
       "    <tr>\n",
       "      <th>3</th>\n",
       "      <td>060371011103</td>\n",
       "      <td>940</td>\n",
       "      <td>8</td>\n",
       "      <td>86</td>\n",
       "      <td>0</td>\n",
       "      <td>0</td>\n",
       "      <td>0</td>\n",
       "    </tr>\n",
       "    <tr>\n",
       "      <th>4</th>\n",
       "      <td>060371011221</td>\n",
       "      <td>1431</td>\n",
       "      <td>0</td>\n",
       "      <td>378</td>\n",
       "      <td>6</td>\n",
       "      <td>0</td>\n",
       "      <td>368</td>\n",
       "    </tr>\n",
       "    <tr>\n",
       "      <th>5</th>\n",
       "      <td>060371011222</td>\n",
       "      <td>1049</td>\n",
       "      <td>30</td>\n",
       "      <td>89</td>\n",
       "      <td>0</td>\n",
       "      <td>0</td>\n",
       "      <td>166</td>\n",
       "    </tr>\n",
       "  </tbody>\n",
       "</table>\n",
       "</div>"
      ],
      "text/plain": [
       "    original_id  white  black  asian  native  native2  other\n",
       "1  060371011101   1691     18    194       0        0    186\n",
       "2  060371011102   1009     18    147       7        0     82\n",
       "3  060371011103    940      8     86       0        0      0\n",
       "4  060371011221   1431      0    378       6        0    368\n",
       "5  060371011222   1049     30     89       0        0    166"
      ]
     },
     "execution_count": 84,
     "metadata": {},
     "output_type": "execute_result"
    }
   ],
   "source": [
    "eth_df = pd.read_csv(zip_file.open('ACS_13_5YR_B02001.csv'))\n",
    "eth_df = eth_df.rename(columns={'GEO.id2': 'original_id', 'HD01_VD02': 'white', 'HD01_VD03': 'black', 'HD01_VD04': 'native', 'HD01_VD05': 'asian', 'HD01_VD06': 'native2', \n",
    "                               'HD01_VD08': 'o1', 'HD01_VD09': 'o2', 'HD01_VD10': 'o3'})\n",
    "eth_df = eth_df[['original_id', 'white', 'black', 'asian', 'native', 'native2', 'o1', 'o2', 'o3']]\n",
    "# Skip first header line\n",
    "eth_df = eth_df[eth_df['original_id'] != 'Id2']\n",
    "\n",
    "for x in ['white', 'black', 'asian', 'native', 'native2', 'o1', 'o2', 'o3']:\n",
    "    eth_df[x] = eth_df[x].astype(int)\n",
    "    \n",
    "eth_df['other'] = eth_df['o1'] + eth_df['o2'] + eth_df['o3']\n",
    "eth_df = eth_df.drop(['o1', 'o2', 'o3'], axis=1)\n",
    "eth_df.head()"
   ]
  },
  {
   "cell_type": "code",
   "execution_count": 85,
   "metadata": {},
   "outputs": [],
   "source": [
    "eth_df.to_sql('temptable_{}'.format(CITY.lower()), engine, if_exists='replace', index=False)"
   ]
  },
  {
   "cell_type": "code",
   "execution_count": 86,
   "metadata": {},
   "outputs": [],
   "source": [
    "sql = \"\"\"\n",
    "INSERT INTO ethnic_diversity (bid, city, race1, race2, race3, race4, race5, race6) \n",
    "SELECT b.bid, '{city}', c.white, c.black, c.native, c.asian, c.native2, c.other\n",
    "FROM temptable_{tempname} c \n",
    "INNER JOIN blocks_group b ON b.original_id = c.original_id\n",
    "where b.city='{city}';\n",
    "\"\"\".format(city=CITY, tempname=CITY.lower())\n",
    "\n",
    "result = engine.execute(text(sql))"
   ]
  },
  {
   "cell_type": "markdown",
   "metadata": {},
   "source": [
    "### Poverty"
   ]
  },
  {
   "cell_type": "code",
   "execution_count": 87,
   "metadata": {},
   "outputs": [
    {
     "data": {
      "text/plain": [
       "[<ZipInfo filename='ACS_13_5YR_C17002_with_ann.csv' compress_type=deflate file_size=1034254 compress_size=223724>,\n",
       " <ZipInfo filename='ACS_13_5YR_C17002_metadata.csv' compress_type=deflate file_size=759 compress_size=222>,\n",
       " <ZipInfo filename='ACS_13_5YR_C17002.txt' compress_type=deflate file_size=3732 compress_size=1372>,\n",
       " <ZipInfo filename='aff_download_readme_ann.txt' compress_type=deflate file_size=1062 compress_size=463>]"
      ]
     },
     "execution_count": 87,
     "metadata": {},
     "output_type": "execute_result"
    }
   ],
   "source": [
    "zip_file = ZipFile('../../data/LA/poverty/ACS_13_5YR_C17002.zip')\n",
    "zip_file.infolist()"
   ]
  },
  {
   "cell_type": "code",
   "execution_count": 88,
   "metadata": {},
   "outputs": [
    {
     "data": {
      "text/html": [
       "<div>\n",
       "<style scoped>\n",
       "    .dataframe tbody tr th:only-of-type {\n",
       "        vertical-align: middle;\n",
       "    }\n",
       "\n",
       "    .dataframe tbody tr th {\n",
       "        vertical-align: top;\n",
       "    }\n",
       "\n",
       "    .dataframe thead th {\n",
       "        text-align: right;\n",
       "    }\n",
       "</style>\n",
       "<table border=\"1\" class=\"dataframe\">\n",
       "  <thead>\n",
       "    <tr style=\"text-align: right;\">\n",
       "      <th></th>\n",
       "      <th>original_id</th>\n",
       "      <th>total</th>\n",
       "      <th>poors</th>\n",
       "    </tr>\n",
       "  </thead>\n",
       "  <tbody>\n",
       "    <tr>\n",
       "      <th>1</th>\n",
       "      <td>060371011101</td>\n",
       "      <td>2278</td>\n",
       "      <td>778</td>\n",
       "    </tr>\n",
       "    <tr>\n",
       "      <th>2</th>\n",
       "      <td>060371011102</td>\n",
       "      <td>1531</td>\n",
       "      <td>112</td>\n",
       "    </tr>\n",
       "    <tr>\n",
       "      <th>3</th>\n",
       "      <td>060371011103</td>\n",
       "      <td>1125</td>\n",
       "      <td>43</td>\n",
       "    </tr>\n",
       "    <tr>\n",
       "      <th>4</th>\n",
       "      <td>060371011221</td>\n",
       "      <td>2194</td>\n",
       "      <td>137</td>\n",
       "    </tr>\n",
       "    <tr>\n",
       "      <th>5</th>\n",
       "      <td>060371011222</td>\n",
       "      <td>1305</td>\n",
       "      <td>11</td>\n",
       "    </tr>\n",
       "  </tbody>\n",
       "</table>\n",
       "</div>"
      ],
      "text/plain": [
       "    original_id  total  poors\n",
       "1  060371011101   2278    778\n",
       "2  060371011102   1531    112\n",
       "3  060371011103   1125     43\n",
       "4  060371011221   2194    137\n",
       "5  060371011222   1305     11"
      ]
     },
     "execution_count": 88,
     "metadata": {},
     "output_type": "execute_result"
    }
   ],
   "source": [
    "pov_df = pd.read_csv(zip_file.open('ACS_13_5YR_C17002_with_ann.csv'))\n",
    "pov_df = pov_df.rename(columns={'GEO.id2': 'original_id', 'HD01_VD01': 'total', 'HD01_VD02': 'p50', 'HD01_VD03': 'p99'})\n",
    "pov_df = pov_df[['original_id', 'total', 'p50', 'p99']]\n",
    "# Skip first header line\n",
    "pov_df = pov_df[pov_df['original_id'] != 'Id2']\n",
    "\n",
    "for x in ['total', 'p50', 'p99']:\n",
    "    pov_df[x] = pov_df[x].astype(int)\n",
    "    \n",
    "pov_df['poors'] = pov_df['p50'] + pov_df['p99']\n",
    "pov_df = pov_df.drop(['p50', 'p99'], axis=1)\n",
    "pov_df.head()"
   ]
  },
  {
   "cell_type": "code",
   "execution_count": 89,
   "metadata": {},
   "outputs": [],
   "source": [
    "pov_df.to_sql('temptable_{}'.format(CITY.lower()), engine, if_exists='replace', index=False)"
   ]
  },
  {
   "cell_type": "code",
   "execution_count": 90,
   "metadata": {},
   "outputs": [],
   "source": [
    "sql = \"\"\"\n",
    "INSERT INTO poverty_index (bid, city, total, poors) \n",
    "SELECT b.bid, '{city}', c.total, c.poors\n",
    "FROM temptable_{tempname} c \n",
    "INNER JOIN blocks_group b ON b.original_id = c.original_id\n",
    "where b.city='{city}';\n",
    "\"\"\".format(city=CITY, tempname=CITY.lower())\n",
    "\n",
    "result = engine.execute(text(sql))"
   ]
  },
  {
   "cell_type": "markdown",
   "metadata": {},
   "source": [
    "## Buildings"
   ]
  },
  {
   "cell_type": "code",
   "execution_count": 91,
   "metadata": {},
   "outputs": [
    {
     "name": "stderr",
     "output_type": "stream",
     "text": [
      "/home/denadai/.local/share/virtualenvs/crime-environment-u9RldRjF/lib/python3.6/site-packages/pyproj/crs/crs.py:55: FutureWarning: '+init=<authority>:<code>' syntax is deprecated. '<authority>:<code>' is the preferred initialization method. When making the change, be mindful of axis order changes: https://pyproj4.github.io/pyproj/stable/gotchas.html#axis-order-changes-in-proj-6\n",
      "  return _prepare_from_string(\" \".join(pjargs))\n"
     ]
    },
    {
     "data": {
      "text/html": [
       "<div>\n",
       "<style scoped>\n",
       "    .dataframe tbody tr th:only-of-type {\n",
       "        vertical-align: middle;\n",
       "    }\n",
       "\n",
       "    .dataframe tbody tr th {\n",
       "        vertical-align: top;\n",
       "    }\n",
       "\n",
       "    .dataframe thead th {\n",
       "        text-align: right;\n",
       "    }\n",
       "</style>\n",
       "<table border=\"1\" class=\"dataframe\">\n",
       "  <thead>\n",
       "    <tr style=\"text-align: right;\">\n",
       "      <th></th>\n",
       "      <th>height</th>\n",
       "      <th>geometry</th>\n",
       "      <th>YearBuilt1</th>\n",
       "    </tr>\n",
       "  </thead>\n",
       "  <tbody>\n",
       "    <tr>\n",
       "      <th>0</th>\n",
       "      <td>25.63</td>\n",
       "      <td>MULTIPOLYGON (((-118.21884 33.78390, -118.2190...</td>\n",
       "      <td>None</td>\n",
       "    </tr>\n",
       "    <tr>\n",
       "      <th>1</th>\n",
       "      <td>20.43</td>\n",
       "      <td>MULTIPOLYGON (((-118.21852 33.78928, -118.2182...</td>\n",
       "      <td>1989</td>\n",
       "    </tr>\n",
       "    <tr>\n",
       "      <th>2</th>\n",
       "      <td>10.65</td>\n",
       "      <td>MULTIPOLYGON (((-118.21823 33.78878, -118.2182...</td>\n",
       "      <td>1955</td>\n",
       "    </tr>\n",
       "    <tr>\n",
       "      <th>3</th>\n",
       "      <td>15.08</td>\n",
       "      <td>MULTIPOLYGON (((-118.21863 33.78758, -118.2183...</td>\n",
       "      <td>1958</td>\n",
       "    </tr>\n",
       "    <tr>\n",
       "      <th>4</th>\n",
       "      <td>35.87</td>\n",
       "      <td>MULTIPOLYGON (((-118.21815 33.78762, -118.2177...</td>\n",
       "      <td>1970</td>\n",
       "    </tr>\n",
       "  </tbody>\n",
       "</table>\n",
       "</div>"
      ],
      "text/plain": [
       "   height                                           geometry YearBuilt1\n",
       "0   25.63  MULTIPOLYGON (((-118.21884 33.78390, -118.2190...       None\n",
       "1   20.43  MULTIPOLYGON (((-118.21852 33.78928, -118.2182...       1989\n",
       "2   10.65  MULTIPOLYGON (((-118.21823 33.78878, -118.2182...       1955\n",
       "3   15.08  MULTIPOLYGON (((-118.21863 33.78758, -118.2183...       1958\n",
       "4   35.87  MULTIPOLYGON (((-118.21815 33.78762, -118.2177...       1970"
      ]
     },
     "execution_count": 91,
     "metadata": {},
     "output_type": "execute_result"
    }
   ],
   "source": [
    "#bld_gdf = gpd.read_file('../../data/LA/buildings/LARIAC_Buildings_2014.gdb', driver=\"OpenFileGDB\", layer='LARIAC4_BUILDINGS_2014')\n",
    "bld_gdf = gpd.read_file('../../data/LA/buildings/LARIAC4Buildings_converted.gpkg', driver=\"GPKG\")\n",
    "\n",
    "bld_gdf = bld_gdf.rename(columns={'HEIGHT': 'height'})\n",
    "bld_gdf = bld_gdf[bld_gdf['CODE'] == 'Building']\n",
    "\n",
    "bld_gdf = bld_gdf[['height', 'geometry', 'YearBuilt1']]\n",
    "bld_gdf = bld_gdf.to_crs({'init': 'epsg:4326'}) \n",
    "\n",
    "bld_gdf.head()"
   ]
  },
  {
   "cell_type": "code",
   "execution_count": 92,
   "metadata": {},
   "outputs": [
    {
     "data": {
      "text/plain": [
       "3088397"
      ]
     },
     "execution_count": 92,
     "metadata": {},
     "output_type": "execute_result"
    }
   ],
   "source": [
    "len(bld_gdf)"
   ]
  },
  {
   "cell_type": "code",
   "execution_count": 93,
   "metadata": {},
   "outputs": [],
   "source": [
    "insert_gdf = process_geometry_SQL_insert(bld_gdf)\n",
    "insert_gdf.to_sql('temptable_b_{}'.format(CITY.lower()), engine, if_exists='replace', index=False, dtype={'geom': Geometry('MultiPolygon', srid=4326)})"
   ]
  },
  {
   "cell_type": "code",
   "execution_count": 94,
   "metadata": {},
   "outputs": [],
   "source": [
    "sql = \"\"\"\n",
    "UPDATE temptable_b_{tempname} p SET geom=ST_Multi(ST_buffer(p.geom, 0.0)) \n",
    "WHERE (NOT ST_IsValid(p.geom))\n",
    "\"\"\".format(city=CITY, tempname=CITY.lower())\n",
    "\n",
    "result = engine.execute(text(sql))"
   ]
  },
  {
   "cell_type": "code",
   "execution_count": 95,
   "metadata": {},
   "outputs": [],
   "source": [
    "sql = \"\"\"\n",
    "INSERT INTO building (bid, city, geom, height, area) \n",
    "SELECT bid, '{city}', geom, height, barea\n",
    "FROM (\n",
    "    SELECT bid, geom, height, barea, ROW_NUMBER() OVER (PARTITION BY geom ORDER BY area DESC) AS r\n",
    "    from (\n",
    "        SELECT p.geom, p.height, ST_Area(p.geom::geography) as barea, d.bid, ST_Area(ST_Intersection(p.geom, d.geom)) as area\n",
    "        FROM temptable_b_{tempname} as p\n",
    "        INNER JOIN blocks_group as d on ST_Intersects(p.geom, d.geom) AND NOT ST_Touches(p.geom, d.geom)\n",
    "        WHERE d.city = '{city}' AND ST_Area(p.geom::geography) >= 40\n",
    "        ) as dtable\n",
    ") x\n",
    "WHERE x.r = 1;\n",
    "\"\"\".format(city=CITY, tempname=CITY.lower())\n",
    "\n",
    "result = engine.execute(text(sql))"
   ]
  },
  {
   "cell_type": "markdown",
   "metadata": {},
   "source": [
    "## Property age"
   ]
  },
  {
   "cell_type": "code",
   "execution_count": 96,
   "metadata": {},
   "outputs": [],
   "source": [
    "sql = \"\"\"\n",
    "INSERT INTO property_age (bid, age, area, city) \n",
    "SELECT bid, age, area_building, '{city}'\n",
    "FROM (\n",
    "    SELECT bid, age, area_building, ROW_NUMBER() OVER (PARTITION BY geom ORDER BY area DESC) AS r\n",
    "    from (\n",
    "        SELECT p.geom, p.\"YearBuilt1\"::int as age, ST_Area(p.geom::geography) as area_building, d.bid, ST_Area(ST_Intersection(p.geom, d.geom)) as area\n",
    "        FROM temptable_b_{tempname} as p\n",
    "        INNER JOIN blocks_group as d on ST_Intersects(p.geom, d.geom) AND NOT ST_Touches(p.geom, d.geom)\n",
    "        WHERE d.city = '{city}' AND ST_Area(p.geom::geography) >= 40 AND p.\"YearBuilt1\" IS NOT NULL\n",
    "        ) as dtable\n",
    ") x\n",
    "WHERE x.r = 1;\n",
    "\"\"\".format(city=CITY, tempname=CITY.lower())\n",
    "\n",
    "result = engine.execute(text(sql))"
   ]
  },
  {
   "cell_type": "markdown",
   "metadata": {},
   "source": [
    "## Land use"
   ]
  },
  {
   "cell_type": "markdown",
   "metadata": {},
   "source": [
    "ref: http://dts.edatatrace.com/dts3/content/doc/whelp/mergedProjects/dts2tt/mergedProjects/dts2ttcs/land_use_la.htm"
   ]
  },
  {
   "cell_type": "code",
   "execution_count": 97,
   "metadata": {},
   "outputs": [
    {
     "data": {
      "text/html": [
       "<div>\n",
       "<style scoped>\n",
       "    .dataframe tbody tr th:only-of-type {\n",
       "        vertical-align: middle;\n",
       "    }\n",
       "\n",
       "    .dataframe tbody tr th {\n",
       "        vertical-align: top;\n",
       "    }\n",
       "\n",
       "    .dataframe thead th {\n",
       "        text-align: right;\n",
       "    }\n",
       "</style>\n",
       "<table border=\"1\" class=\"dataframe\">\n",
       "  <thead>\n",
       "    <tr style=\"text-align: right;\">\n",
       "      <th></th>\n",
       "      <th>ain</th>\n",
       "      <th>geometry</th>\n",
       "    </tr>\n",
       "  </thead>\n",
       "  <tbody>\n",
       "    <tr>\n",
       "      <th>0</th>\n",
       "      <td>7024005002</td>\n",
       "      <td>POLYGON ((-118.06987 33.86189, -118.06987 33.8...</td>\n",
       "    </tr>\n",
       "    <tr>\n",
       "      <th>1</th>\n",
       "      <td>7024008023</td>\n",
       "      <td>POLYGON ((-118.06811 33.86152, -118.06830 33.8...</td>\n",
       "    </tr>\n",
       "    <tr>\n",
       "      <th>2</th>\n",
       "      <td>7024001042</td>\n",
       "      <td>POLYGON ((-118.06854 33.86550, -118.06857 33.8...</td>\n",
       "    </tr>\n",
       "    <tr>\n",
       "      <th>3</th>\n",
       "      <td>7024005004</td>\n",
       "      <td>POLYGON ((-118.06987 33.86160, -118.07020 33.8...</td>\n",
       "    </tr>\n",
       "    <tr>\n",
       "      <th>4</th>\n",
       "      <td>7024006008</td>\n",
       "      <td>POLYGON ((-118.07091 33.85923, -118.07125 33.8...</td>\n",
       "    </tr>\n",
       "  </tbody>\n",
       "</table>\n",
       "</div>"
      ],
      "text/plain": [
       "          ain                                           geometry\n",
       "0  7024005002  POLYGON ((-118.06987 33.86189, -118.06987 33.8...\n",
       "1  7024008023  POLYGON ((-118.06811 33.86152, -118.06830 33.8...\n",
       "2  7024001042  POLYGON ((-118.06854 33.86550, -118.06857 33.8...\n",
       "3  7024005004  POLYGON ((-118.06987 33.86160, -118.07020 33.8...\n",
       "4  7024006008  POLYGON ((-118.07091 33.85923, -118.07125 33.8..."
      ]
     },
     "execution_count": 97,
     "metadata": {},
     "output_type": "execute_result"
    }
   ],
   "source": [
    "land_gdf = gpd.read_file('zip://../../data/LA/land_use/Parcels 2014 Tax Roll.zip')\n",
    "#land_gdf = land_gdf[(~(land_gdf['geometry'].isnull())) & (~(land_gdf['UseCode'].isnull()))]\n",
    "land_gdf = land_gdf.drop_duplicates(subset=['ain'])\n",
    "\n",
    "#land_gdf = land_gdf.rename(columns={'SQFTmain': 'sqftmain', 'UseCode': 'usecode', 'YearBuilt': 'yearbuilt', 'Roll_totLa': 'value'})\n",
    "\n",
    "#land_gdf = land_gdf[['AssessorID', 'sqftmain', 'usecode', 'geometry', 'value']]\n",
    "\n",
    "land_gdf = land_gdf[['ain', 'geometry']]\n",
    "\n",
    "land_gdf.head()"
   ]
  },
  {
   "cell_type": "code",
   "execution_count": 98,
   "metadata": {},
   "outputs": [
    {
     "name": "stderr",
     "output_type": "stream",
     "text": [
      "/home/denadai/.local/share/virtualenvs/crime-environment-u9RldRjF/lib/python3.6/site-packages/IPython/core/interactiveshell.py:2785: DtypeWarning: Columns (37) have mixed types.Specify dtype option on import or set low_memory=False.\n",
      "  interactivity=interactivity, compiler=compiler, result=result)\n"
     ]
    },
    {
     "data": {
      "text/html": [
       "<div>\n",
       "<style scoped>\n",
       "    .dataframe tbody tr th:only-of-type {\n",
       "        vertical-align: middle;\n",
       "    }\n",
       "\n",
       "    .dataframe tbody tr th {\n",
       "        vertical-align: top;\n",
       "    }\n",
       "\n",
       "    .dataframe thead th {\n",
       "        text-align: right;\n",
       "    }\n",
       "</style>\n",
       "<table border=\"1\" class=\"dataframe\">\n",
       "  <thead>\n",
       "    <tr style=\"text-align: right;\">\n",
       "      <th></th>\n",
       "      <th>ain</th>\n",
       "      <th>sqftmain</th>\n",
       "      <th>usecode</th>\n",
       "      <th>value</th>\n",
       "    </tr>\n",
       "  </thead>\n",
       "  <tbody>\n",
       "    <tr>\n",
       "      <th>0</th>\n",
       "      <td>5653015020</td>\n",
       "      <td>1498</td>\n",
       "      <td>0101</td>\n",
       "      <td>458864.0</td>\n",
       "    </tr>\n",
       "    <tr>\n",
       "      <th>1</th>\n",
       "      <td>5653015021</td>\n",
       "      <td>1532</td>\n",
       "      <td>0100</td>\n",
       "      <td>363890.0</td>\n",
       "    </tr>\n",
       "    <tr>\n",
       "      <th>2</th>\n",
       "      <td>5653015022</td>\n",
       "      <td>1186</td>\n",
       "      <td>0101</td>\n",
       "      <td>570000.0</td>\n",
       "    </tr>\n",
       "    <tr>\n",
       "      <th>3</th>\n",
       "      <td>5653015023</td>\n",
       "      <td>2192</td>\n",
       "      <td>0101</td>\n",
       "      <td>618177.0</td>\n",
       "    </tr>\n",
       "    <tr>\n",
       "      <th>4</th>\n",
       "      <td>5653015024</td>\n",
       "      <td>2108</td>\n",
       "      <td>0100</td>\n",
       "      <td>505364.0</td>\n",
       "    </tr>\n",
       "  </tbody>\n",
       "</table>\n",
       "</div>"
      ],
      "text/plain": [
       "          ain  sqftmain usecode     value\n",
       "0  5653015020      1498    0101  458864.0\n",
       "1  5653015021      1532    0100  363890.0\n",
       "2  5653015022      1186    0101  570000.0\n",
       "3  5653015023      2192    0101  618177.0\n",
       "4  5653015024      2108    0100  505364.0"
      ]
     },
     "execution_count": 98,
     "metadata": {},
     "output_type": "execute_result"
    }
   ],
   "source": [
    "zip_file = ZipFile('../../data/LA/land_use/parcels_data_2013.csv.zip')\n",
    "land_2013_df = pd.read_csv(zip_file.open('parcels_data_2013.csv'), dtype={'AIN': str})\n",
    "land_2013_df = land_2013_df.rename(columns={'SQFTmain': 'sqftmain', \n",
    "                                            'AIN': 'ain',\n",
    "                                            'PropertyUseCode': 'usecode', \n",
    "                                            'YearBuilt': 'yearbuilt', 'TotalValue': 'value'})\n",
    "land_2013_df = land_2013_df[['ain', 'sqftmain', 'usecode', 'value']]\n",
    "land_2013_df.head()"
   ]
  },
  {
   "cell_type": "code",
   "execution_count": 99,
   "metadata": {},
   "outputs": [],
   "source": [
    "land_2013_df = land_2013_df.drop_duplicates(subset=['ain'])"
   ]
  },
  {
   "cell_type": "code",
   "execution_count": 100,
   "metadata": {},
   "outputs": [
    {
     "name": "stdout",
     "output_type": "stream",
     "text": [
      "2378363\n"
     ]
    }
   ],
   "source": [
    "land_gdf = pd.merge(land_gdf, land_2013_df, on='ain')\n",
    "print(len(land_gdf))"
   ]
  },
  {
   "cell_type": "code",
   "execution_count": 101,
   "metadata": {},
   "outputs": [],
   "source": [
    "wrong_pids = ['4211017901', '4211017804', '4218005900', '4221031008',\n",
    "       '4218020900', '4224013902', '2109001903', '2678027900',\n",
    "       '2679025900', '2680020901', '2687017900', '2688030900',\n",
    "       '2707003011', '2708010900', '2726009901', '2726012900',\n",
    "       '2746010042', '2746013901', '2761001906', '2779016900',\n",
    "       '2779047900', '2784003801', '2779010900', '2708021001',\n",
    "       '2111029903', '4211016902', '4211015904', '4211007916',\n",
    "       '2786002902', '2727021907', '4211014800', '4211017805',\n",
    "       '4218005902', '2108025900', '2678020900', '2687023012',\n",
    "       '2687020903', '2688024901', '2688031900', '2786002901',\n",
    "       '2708010013', '2708020005', '2726010900', '2761030904',\n",
    "       '2779017900', '2780005900', '2138014904', '2783028902',\n",
    "       '4211014902', '4211017807', '4224013901', '2108026900',\n",
    "       '2109001902', '2113006900', '2677016900', '2679016901',\n",
    "       '2685019900', '2689016901', '2688043900', '2786002813',\n",
    "       '2726014900', '2761032900', '2770018808', '2780004900',\n",
    "       '2681011902', '2111029902', '2779005900', '4218005901',\n",
    "       '2680018902', '2707003005', '2708020001', '2707002004',\n",
    "       '2761001907', '4211016901', '4211015902', '4211007917',\n",
    "       '2148032902', '4211007919', '4211014904', '4211017900',\n",
    "       '4211017803', '4211014901', '2108031900', '2685013032',\n",
    "       '2685013031', '2686003008', '2685023030', '2685018900',\n",
    "       '2685013900', '2689017900', '2708020012', '2746005900',\n",
    "       '2748001803', '2761031902', '2761040901', '2770018904',\n",
    "       '2770018903', '2779010901', '2779011905', '2779020905',\n",
    "       '2111029901', '4221022176', '2761001814', '4211007012',\n",
    "       '4224013900', '2783028801', '2689019900', '2205008901',\n",
    "       '2231018901', '2225010902', '2226017901', '2231002909',\n",
    "       '2231017900', '2205007900', '4211017901', '4211017804', '4218005900', '4221031008',\n",
    "       '4218020900', '4224013902', '5409013910', '5410015826',\n",
    "       '2109001903', '2678027900', '2679025900', '2680020901',\n",
    "       '2687017900', '2688030900', '2707003011', '2708010900',\n",
    "       '2726009901', '2726012900', '2746010042', '2746013901',\n",
    "       '2761001906', '2779016900', '2779047900', '2784003801',\n",
    "       '5173021811', '5173020911', '5173023900', '5173020903',\n",
    "       '2779010900', '2708021001', '5170011803', '2111029903',\n",
    "       '4211016902', '4211015904', '4211007916', '5172014806',\n",
    "       '5172014901', '2786002902', '2727021907', '4211014800',\n",
    "       '4211017805', '4218005902', '5409013905', '5409013906',\n",
    "       '5409015922', '5409014904', '5409021903', '5409019903',\n",
    "       '2108025900', '2678020900', '2687023012', '2687020903',\n",
    "       '2688024901', '2688031900', '2786002901', '2708010013',\n",
    "       '2708020005', '2726010900', '2761030904', '2779017900',\n",
    "       '2780005900', '5171024910', '5173020902', '5173020901',\n",
    "       '5173023901', '2138014904', '5164004804', '5172013010',\n",
    "       '5172013002', '5164004902', '2783028902', '4211014902',\n",
    "       '4211017807', '4224013901', '5409020910', '5409020911',\n",
    "       '5447017902', '2108026900', '2109001902', '2113006900',\n",
    "       '2677016900', '2679016901', '2685019900', '2689016901',\n",
    "       '2688043900', '2786002813', '2726014900', '2761032900',\n",
    "       '2770018808', '2780004900', '5171024010', '2681011902',\n",
    "       '2111029902', '2779005900', '4218005901', '2680018902',\n",
    "       '2707003005', '2708020001', '2707002004', '5166001901',\n",
    "       '5164017906', '2761001907', '5173022902', '4211016901',\n",
    "       '4211015902', '4211007917', '5172013803', '5172013901',\n",
    "       '2148032902', '4211007919', '4211014904', '5171015901',\n",
    "       '4211017900', '4211017803', '4211014901', '5409014905',\n",
    "       '2108031900', '2685013032', '2685013031', '2686003008',\n",
    "       '2685023030', '2685018900', '2685013900', '2689017900',\n",
    "       '2708020012', '2746005900', '2748001803', '2761031902',\n",
    "       '2761040901', '2770018904', '2770018903', '2779010901',\n",
    "       '2779011905', '2779020905', '5170010805', '5164004901',\n",
    "       '5173021902', '5173023902', '5173020810', '5173021810',\n",
    "       '5173021904', '5173023805', '2111029901', '4221022176',\n",
    "       '5171014808', '2761001814', '5173022808', '5173022903',\n",
    "       '5173022901', '4211007012', '4224013900', '2783028801',\n",
    "       '2689019900', '5173024900', '5166001900', '2205008901',\n",
    "       '2231018901', '2225010902', '2226017901', '2231002909',\n",
    "       '2231017900', '2205007900', '5447032900', '2368001030', '2366035901', '2366036905',\n",
    "       '2367015900', '2367018900', '2368019900', '2368023900',\n",
    "       '2375018903', '2126038901', '2134016901', '2134024904',\n",
    "       '2136015905', '2136017904', '2137013900', '2137014900',\n",
    "       '2137015902', '2137012900', '2138006901', '2138022901',\n",
    "       '2123022901', '5435038027', '5435038902', '5435039903',\n",
    "       '5437028903', '5437028906', '5437034908', '5437028907',\n",
    "       '5437035901', '5437034909', '5437034904', '5442010901',\n",
    "       '5442010902', '5442002916', '5445011042', '5445005904',\n",
    "       '5445006901', '5445007900', '5445010903', '5445006905',\n",
    "       '5168023015', '5169029013', '5168016904', '5170010900',\n",
    "       '2424042901', '2138014906', '5593012909', '5168023902',\n",
    "       '5171015900', '5437035902', '5172013900', '5593001270',\n",
    "       '5442009902', '2126033900', '5593018907', '5410002900',\n",
    "       '2360002909', '2366033900', '2366033901', '2368007901',\n",
    "       '2375021903', '2126038005', '2127011904', '2128031901',\n",
    "       '2138006903', '2138011900', '2138014905', '5435039006',\n",
    "       '5415002900', '5435036900', '5437028904', '5442002915',\n",
    "       '5437028900', '5445006903', '5445007901', '5169029272',\n",
    "       '5169029012', '5169016902', '5581003017', '5581003021',\n",
    "       '5581004023', '5593001902', '5169028017', '5435038904',\n",
    "       '2360003913', '5593002916', '5445004001', '5445004900',\n",
    "       '5447027901', '5415003901', '5415003900', '2360014902',\n",
    "       '2366020903', '2366027902', '2375004900', '2128003901',\n",
    "       '2138011902', '2124018906', '5442010020', '5442002903',\n",
    "       '5445008908', '5445007902', '5169029010', '5169015901',\n",
    "       '2423030906', '2423031902', '2423035902', '5581003011',\n",
    "       '5593018900', '5169016011', '5169029902', '5168017900',\n",
    "       '5435037904', '2131010900', '5442009900', '2127001903',\n",
    "       '5410006900', '2360012900', '2366026902', '2367018901',\n",
    "       '2375019903', '2132009900', '2138017900', '2138017901',\n",
    "       '2138023900', '2138029902', '2123021900', '2124001905',\n",
    "       '5437029900', '5435039900', '5445011043', '5445012044',\n",
    "       '5437028902', '5437036902', '5445008907', '5168016002',\n",
    "       '5168016903', '5581003008', '5581004022', '5593001903',\n",
    "       '5171014900', '5172014900', '5593002907', '5168017902',\n",
    "       '5593001900', '5445004902', '5445005903', '5445002902',\n",
    "       '5593001901', '2127005900', '2368010902', '5173024900',\n",
    "       '2248029903', '2263020902', '2263016904', '2248001904',\n",
    "       '2248028906', '2263013902', '2263015902', '2263021902',\n",
    "       '2248001905', '2263024900', '2263014902', '2271001902', \n",
    "             '5173021811', '5173020911', '5173023900', '5171014809',\n",
    "       '5171015900', '5172013900', '5173023901', '5164004804',\n",
    "       '5164004902', '5173020910', '5173021903', '5173022902',\n",
    "       '5171014900', '5173020907', '5173021902', '5173023902',\n",
    "       '5172014900', '5173020810', '5173021810', '5173021904',\n",
    "       '5173023805', '5173022808', '5173022903', '5173022901',\n",
    "       '5173024900']\n",
    "land_gdf = land_gdf[~land_gdf.ain.isin(wrong_pids)]"
   ]
  },
  {
   "cell_type": "code",
   "execution_count": 102,
   "metadata": {},
   "outputs": [],
   "source": [
    "land_gdf['landuse'] = 'none'\n",
    "\n",
    "land_gdf.loc[land_gdf['usecode'].str[:1] == '0', 'landuse'] = 'residential'\n",
    "\n",
    "land_gdf.loc[(land_gdf['usecode'].str[:1].isin({'1', '2', '3', '4', '5', '7'})) & (~land_gdf['usecode'].isin({'7100', '8840'})), 'landuse'] = 'commercial'\n",
    "land_gdf.loc[land_gdf['usecode'].str[:2].isin({'82', '83'}), 'landuse'] = 'commercial'\n",
    "land_gdf.loc[land_gdf['usecode'].isin({'8820', '8000', '8821', '8822', '8823', '8824', '8825', '8826', '8827', '8828', '8829', '8830', '8831', '8832', '8833', '8834', '8835', '8855', '8861', '8862', '8863', '8864', '8865', '8872', '8873', '8874', '8800', '8890', '8900'}), 'landuse'] = 'commercial'\n",
    "\n",
    "land_gdf.loc[land_gdf['usecode'].str[:1] == '6', 'landuse'] = 'recreational'\n",
    "land_gdf.loc[land_gdf['usecode'].isin({'7100', '8840', '8840', '8841', '8842', '8843', '8844', '8845', '8847', '8848', '8849', '8851', '8852', '8853'}), 'landuse'] = 'recreational'\n",
    "\n",
    "# Vacant\n",
    "land_gdf.loc[land_gdf['usecode'].str[-1] == 'V', 'landuse'] = 'vacant'\n",
    "\n",
    "#Fixes\n",
    "land_gdf.loc[land_gdf['usecode'].isin({'8100', '8109', '810X', '8860', '8500'}), 'landuse'] = 'none'"
   ]
  },
  {
   "cell_type": "code",
   "execution_count": 103,
   "metadata": {},
   "outputs": [],
   "source": [
    "land_gdf.loc[land_gdf.ain.isin(['7467032900', '7469018904', '7469030901', '7469030900',\n",
    "       '7563001901', '7563001900', '7563002908', '7563002914',\n",
    "       '6038013900', '5414020901', '5414020900', '2178007900',\n",
    "       '2184026901', '5666025907', '6049025901', '4432001903',\n",
    "       '4432005913', '4432005800', '4432006901', '4490011903',\n",
    "       '4493014900', '4422003900', '4432002918', '4432002924',\n",
    "       '4432002923', '4434001903', '5037027915', '5046013900',\n",
    "       '5160001901', '5512004903', '5630030908', '4370012902',\n",
    "       '4387002900', '5404014900', '5581011900', '5581012900',\n",
    "       '5581010900', '5581013901', '5583025900', '5593002908',\n",
    "       '5593002910', '5109022900', '5161004909', '2526004901',\n",
    "       '2526004900', '2552007902', '2569021900', '5029017905',\n",
    "       '4355012904', '5029020904', '2701001910', '4432002919',\n",
    "       '7412014900', '7560028900', '2384024900', '5029017927',\n",
    "       '5459004930', '7446001901', '7467025900', '7469028900',\n",
    "       '5414027900', '2177034902', '2177034901', '5666024901',\n",
    "       '2184005900', '4432001900', '4491006900', '4409001902',\n",
    "       '4409001900', '4422002900', '4432002920', '4432003904',\n",
    "       '5028004902', '5029017921', '5029017910', '2470002901',\n",
    "       '2546013903', '2545022900', '4387002904', '4387017906',\n",
    "       '4387016900', '5565005900', '5565004900', '5570021902',\n",
    "       '5415004900', '5415012902', '5577019901', '5581016900',\n",
    "       '5101002900', '2551012901', '2846003900', '7563002909',\n",
    "       '5029017926', '5029017919', '5593002906', '2701001912',\n",
    "       '4493014906', '5581007912', '4379029900', '4379028902',\n",
    "       '4431009901', '4432003906', '5211021901', '2872001900',\n",
    "       '4386003900', '4386005900', '2177034900', '7467031900',\n",
    "       '7469018902', '7563002913', '7563002906', '7412012900',\n",
    "       '2184028901', '2184026902', '2184028900', '5672021900',\n",
    "       '6049025900', '6070004900', '4432005915', '4432006902',\n",
    "       '4432005914', '4432001901', '4490010900', '4490011902',\n",
    "       '4490024900', '4491009900', '4434001900', '4432002922',\n",
    "       '4434001901', '4432002925', '4432002917', '5037028905',\n",
    "       '5037028902', '2470001905', '2470002900', '2545024901',\n",
    "       '5608001902', '5630030906', '5630030907', '4379027902',\n",
    "       '4379027903', '4379027900', '4380034902', '4387002905',\n",
    "       '5415012901', '5581017900', '5581014900', '5581026900',\n",
    "       '5149031900', '5161005916', '5869016900', '4434001902',\n",
    "       '5029017900', '5404015900', '5029020905', '2701001917',\n",
    "       '5415005906', '5593002905', '4357004901', '5577011902',\n",
    "       '7561025902', '5593002909', '2701002909', '4493015900',\n",
    "       '2382015900', '4432001902', '7422017900', '7469018903',\n",
    "       '7469029900', '7563001902', '7412012903', '7562021900',\n",
    "       '7563006902', '2180024900', '2184005901', '2184027901',\n",
    "       '2671001903', '4490011900', '4490017900', '4491001900',\n",
    "       '4409001904', '4434005900', '4432002921', '5037028908',\n",
    "       '5160001900', '4370012901', '4386008901', '4386015906',\n",
    "       '4387002902', '5415004902', '5415005905', '5415005902',\n",
    "       '5415012903', '5582001900', '5593002912', '5113008912',\n",
    "       '5161005923', '2526003909', '2526003910', '2551003900',\n",
    "       '2551015902', '2551012900', '2552004900', '2552007906',\n",
    "       '2552009902', '2552007907', '2553017900', '2569022901',\n",
    "       '5415005904', '5047014900', '5029017924', '5581008900',\n",
    "       '5029017911', '5593002907', '4382029900', '4431009900',\n",
    "       '7412015900', '5593002917', '4432004901', '2552005901',\n",
    "       '7412010903', '4386004902', '2177034904', '2180026900',\n",
    "       '2180025900', '5302002900', '5302006900', '2287009903',\n",
    "       '2287009902', '2287009901', '2292014901', '2292014900',\n",
    "       '2292013901', '5630030902', '5302001900', '2820019900',\n",
    "       '5303025901']), 'landuse'] = 'recreational'\n"
   ]
  },
  {
   "cell_type": "code",
   "execution_count": 104,
   "metadata": {},
   "outputs": [
    {
     "data": {
      "text/html": [
       "<div>\n",
       "<style scoped>\n",
       "    .dataframe tbody tr th:only-of-type {\n",
       "        vertical-align: middle;\n",
       "    }\n",
       "\n",
       "    .dataframe tbody tr th {\n",
       "        vertical-align: top;\n",
       "    }\n",
       "\n",
       "    .dataframe thead th {\n",
       "        text-align: right;\n",
       "    }\n",
       "</style>\n",
       "<table border=\"1\" class=\"dataframe\">\n",
       "  <thead>\n",
       "    <tr style=\"text-align: right;\">\n",
       "      <th></th>\n",
       "      <th>index</th>\n",
       "      <th>ain</th>\n",
       "      <th>geometry</th>\n",
       "      <th>sqftmain</th>\n",
       "      <th>usecode</th>\n",
       "      <th>value</th>\n",
       "      <th>landuse</th>\n",
       "    </tr>\n",
       "  </thead>\n",
       "  <tbody>\n",
       "    <tr>\n",
       "      <th>0</th>\n",
       "      <td>0</td>\n",
       "      <td>7024005002</td>\n",
       "      <td>POLYGON ((-118.06987 33.86189, -118.06987 33.8...</td>\n",
       "      <td>3033</td>\n",
       "      <td>0100</td>\n",
       "      <td>248617.0</td>\n",
       "      <td>residential</td>\n",
       "    </tr>\n",
       "    <tr>\n",
       "      <th>1</th>\n",
       "      <td>1</td>\n",
       "      <td>7024008023</td>\n",
       "      <td>POLYGON ((-118.06811 33.86152, -118.06830 33.8...</td>\n",
       "      <td>2036</td>\n",
       "      <td>0101</td>\n",
       "      <td>487044.0</td>\n",
       "      <td>residential</td>\n",
       "    </tr>\n",
       "    <tr>\n",
       "      <th>2</th>\n",
       "      <td>2</td>\n",
       "      <td>7024001042</td>\n",
       "      <td>POLYGON ((-118.06854 33.86550, -118.06857 33.8...</td>\n",
       "      <td>950</td>\n",
       "      <td>0100</td>\n",
       "      <td>72176.0</td>\n",
       "      <td>residential</td>\n",
       "    </tr>\n",
       "    <tr>\n",
       "      <th>3</th>\n",
       "      <td>3</td>\n",
       "      <td>7024005004</td>\n",
       "      <td>POLYGON ((-118.06987 33.86160, -118.07020 33.8...</td>\n",
       "      <td>2500</td>\n",
       "      <td>0100</td>\n",
       "      <td>415616.0</td>\n",
       "      <td>residential</td>\n",
       "    </tr>\n",
       "    <tr>\n",
       "      <th>4</th>\n",
       "      <td>4</td>\n",
       "      <td>7024006008</td>\n",
       "      <td>POLYGON ((-118.07091 33.85923, -118.07125 33.8...</td>\n",
       "      <td>2605</td>\n",
       "      <td>0100</td>\n",
       "      <td>504556.0</td>\n",
       "      <td>residential</td>\n",
       "    </tr>\n",
       "  </tbody>\n",
       "</table>\n",
       "</div>"
      ],
      "text/plain": [
       "   index         ain                                           geometry  \\\n",
       "0      0  7024005002  POLYGON ((-118.06987 33.86189, -118.06987 33.8...   \n",
       "1      1  7024008023  POLYGON ((-118.06811 33.86152, -118.06830 33.8...   \n",
       "2      2  7024001042  POLYGON ((-118.06854 33.86550, -118.06857 33.8...   \n",
       "3      3  7024005004  POLYGON ((-118.06987 33.86160, -118.07020 33.8...   \n",
       "4      4  7024006008  POLYGON ((-118.07091 33.85923, -118.07125 33.8...   \n",
       "\n",
       "   sqftmain usecode     value      landuse  \n",
       "0      3033    0100  248617.0  residential  \n",
       "1      2036    0101  487044.0  residential  \n",
       "2       950    0100   72176.0  residential  \n",
       "3      2500    0100  415616.0  residential  \n",
       "4      2605    0100  504556.0  residential  "
      ]
     },
     "execution_count": 104,
     "metadata": {},
     "output_type": "execute_result"
    }
   ],
   "source": [
    "land_gdf = land_gdf.reset_index()\n",
    "land_gdf.head()"
   ]
  },
  {
   "cell_type": "code",
   "execution_count": 105,
   "metadata": {},
   "outputs": [],
   "source": [
    "ins_gdf = process_geometry_SQL_insert(land_gdf)#[land_gdf.landuse != 'none'].copy())\n",
    "ins_gdf.to_sql('temptable_{}'.format(CITY.lower()), engine, if_exists='replace', index=False, dtype={'geom': Geometry('MultiPolygon', srid=4326)})"
   ]
  },
  {
   "cell_type": "code",
   "execution_count": 106,
   "metadata": {},
   "outputs": [],
   "source": [
    "sql = \"\"\"\n",
    "UPDATE temptable_{tempname} p SET geom=ST_Multi(ST_buffer(p.geom, 0.0)) WHERE NOT ST_Isvalid(p.geom);\n",
    "\"\"\".format(city=CITY, tempname=CITY.lower())\n",
    "\n",
    "result = engine.execute(text(sql))"
   ]
  },
  {
   "cell_type": "code",
   "execution_count": 107,
   "metadata": {},
   "outputs": [],
   "source": [
    "sql = \"\"\"\n",
    "INSERT INTO land_uses (bid, city, use_type, area) \n",
    "SELECT bid, '{city}', landuse, SUM(area) \n",
    "FROM (\n",
    "    SELECT bid, landuse, area, ROW_NUMBER() OVER (PARTITION BY index ORDER BY area DESC) AS r\n",
    "    from (\n",
    "        SELECT p.index, p.\\\"ain\\\" as pid, p.landuse, d.bid, ST_Area(ST_Intersection(p.geom, d.geom)::geography) as area\n",
    "        FROM temptable_{tempname} as p\n",
    "        INNER JOIN blocks_group as d on ST_Intersects(p.geom, d.geom) AND NOT ST_Touches(p.geom, d.geom)\n",
    "        WHERE d.city = '{city}' AND p.landuse <> 'none' AND ST_Isvalid(p.geom)\n",
    "        ) as dtable\n",
    ") x\n",
    "WHERE x.r = 1\n",
    "GROUP BY bid, landuse;\n",
    "\"\"\".format(city=CITY, tempname=CITY.lower())\n",
    "\n",
    "result = engine.execute(text(sql))"
   ]
  },
  {
   "cell_type": "markdown",
   "metadata": {},
   "source": [
    "## Land values"
   ]
  },
  {
   "cell_type": "code",
   "execution_count": 108,
   "metadata": {},
   "outputs": [],
   "source": [
    "sql = \"\"\"\n",
    "INSERT INTO property_value (bid, area, value, city) \n",
    "SELECT bid, sqftmain, value, '{city}'\n",
    "FROM (\n",
    "    SELECT bid, sqftmain, value, ROW_NUMBER() OVER (PARTITION BY pid ORDER BY area DESC) AS r\n",
    "    from (\n",
    "        SELECT p.\\\"ain\" as pid, p.sqftmain, d.bid, p.value, ST_Area(ST_Intersection(p.geom, d.geom)) as area\n",
    "        FROM temptable_{tempname} as p\n",
    "        INNER JOIN blocks_group as d on ST_Intersects(p.geom, d.geom) AND NOT ST_Touches(p.geom, d.geom)\n",
    "        WHERE d.city = '{city}' AND p.landuse IN ('residential', 'commercial') AND ST_Isvalid(p.geom)\n",
    "        ) as dtable\n",
    ") x\n",
    "WHERE x.r = 1;\n",
    "\"\"\".format(city=CITY, tempname=CITY.lower())\n",
    "\n",
    "result = engine.execute(text(sql))"
   ]
  },
  {
   "cell_type": "markdown",
   "metadata": {},
   "source": [
    "## Unused areas"
   ]
  },
  {
   "cell_type": "code",
   "execution_count": 109,
   "metadata": {},
   "outputs": [
    {
     "name": "stderr",
     "output_type": "stream",
     "text": [
      "/home/denadai/.local/share/virtualenvs/crime-environment-u9RldRjF/lib/python3.6/site-packages/pyproj/crs/crs.py:55: FutureWarning: '+init=<authority>:<code>' syntax is deprecated. '<authority>:<code>' is the preferred initialization method. When making the change, be mindful of axis order changes: https://pyproj4.github.io/pyproj/stable/gotchas.html#axis-order-changes-in-proj-6\n",
      "  return _prepare_from_string(\" \".join(pjargs))\n"
     ]
    },
    {
     "data": {
      "text/html": [
       "<div>\n",
       "<style scoped>\n",
       "    .dataframe tbody tr th:only-of-type {\n",
       "        vertical-align: middle;\n",
       "    }\n",
       "\n",
       "    .dataframe tbody tr th {\n",
       "        vertical-align: top;\n",
       "    }\n",
       "\n",
       "    .dataframe thead th {\n",
       "        text-align: right;\n",
       "    }\n",
       "</style>\n",
       "<table border=\"1\" class=\"dataframe\">\n",
       "  <thead>\n",
       "    <tr style=\"text-align: right;\">\n",
       "      <th></th>\n",
       "      <th>geometry</th>\n",
       "      <th>type</th>\n",
       "      <th>city</th>\n",
       "    </tr>\n",
       "  </thead>\n",
       "  <tbody>\n",
       "    <tr>\n",
       "      <th>6</th>\n",
       "      <td>POLYGON ((-120.67749 36.38351, -120.67749 36.3...</td>\n",
       "      <td>park</td>\n",
       "      <td>LA1m</td>\n",
       "    </tr>\n",
       "    <tr>\n",
       "      <th>7</th>\n",
       "      <td>POLYGON ((-121.76418 38.00146, -121.76410 38.0...</td>\n",
       "      <td>park</td>\n",
       "      <td>LA1m</td>\n",
       "    </tr>\n",
       "    <tr>\n",
       "      <th>8</th>\n",
       "      <td>POLYGON ((-121.94705 37.73679, -121.94646 37.7...</td>\n",
       "      <td>park</td>\n",
       "      <td>LA1m</td>\n",
       "    </tr>\n",
       "    <tr>\n",
       "      <th>9</th>\n",
       "      <td>POLYGON ((-122.12754 38.01388, -122.12700 38.0...</td>\n",
       "      <td>park</td>\n",
       "      <td>LA1m</td>\n",
       "    </tr>\n",
       "    <tr>\n",
       "      <th>12</th>\n",
       "      <td>POLYGON ((-122.15512 37.85694, -122.15510 37.8...</td>\n",
       "      <td>park</td>\n",
       "      <td>LA1m</td>\n",
       "    </tr>\n",
       "  </tbody>\n",
       "</table>\n",
       "</div>"
      ],
      "text/plain": [
       "                                             geometry  type  city\n",
       "6   POLYGON ((-120.67749 36.38351, -120.67749 36.3...  park  LA1m\n",
       "7   POLYGON ((-121.76418 38.00146, -121.76410 38.0...  park  LA1m\n",
       "8   POLYGON ((-121.94705 37.73679, -121.94646 37.7...  park  LA1m\n",
       "9   POLYGON ((-122.12754 38.01388, -122.12700 38.0...  park  LA1m\n",
       "12  POLYGON ((-122.15512 37.85694, -122.15510 37.8...  park  LA1m"
      ]
     },
     "execution_count": 109,
     "metadata": {},
     "output_type": "execute_result"
    }
   ],
   "source": [
    "unused_gdf = gpd.read_file('zip://../../data/LA/unused_areas/tl_2012_06_arealm.zip')\n",
    "unused_gdf = unused_gdf[['geometry', 'MTFCC']]\n",
    "unused_gdf = unused_gdf.to_crs({'init': 'epsg:4326'}) \n",
    "\n",
    "unused_gdf = unused_gdf[unused_gdf['MTFCC'].isin({'K2180', 'K2181', 'K2182', 'K2183', 'K2184', 'K2185',\n",
    "                                                 'K2186', 'K2187', 'K2188', 'K2189', 'K2190'})].drop('MTFCC', axis=1)\n",
    "\n",
    "unused_gdf['type'] = 'park'\n",
    "unused_gdf['city'] = CITY\n",
    "unused_gdf.head()"
   ]
  },
  {
   "cell_type": "code",
   "execution_count": 110,
   "metadata": {},
   "outputs": [],
   "source": [
    "ins_gdf = process_geometry_SQL_insert(unused_gdf)\n",
    "ins_gdf.to_sql('unused_areas', engine, if_exists='append', index=False, dtype={'geom': Geometry('MultiPolygon', srid=4326)})"
   ]
  },
  {
   "cell_type": "code",
   "execution_count": 111,
   "metadata": {},
   "outputs": [
    {
     "name": "stderr",
     "output_type": "stream",
     "text": [
      "/home/denadai/.local/share/virtualenvs/crime-environment-u9RldRjF/lib/python3.6/site-packages/pyproj/crs/crs.py:55: FutureWarning: '+init=<authority>:<code>' syntax is deprecated. '<authority>:<code>' is the preferred initialization method. When making the change, be mindful of axis order changes: https://pyproj4.github.io/pyproj/stable/gotchas.html#axis-order-changes-in-proj-6\n",
      "  return _prepare_from_string(\" \".join(pjargs))\n"
     ]
    },
    {
     "data": {
      "text/html": [
       "<div>\n",
       "<style scoped>\n",
       "    .dataframe tbody tr th:only-of-type {\n",
       "        vertical-align: middle;\n",
       "    }\n",
       "\n",
       "    .dataframe tbody tr th {\n",
       "        vertical-align: top;\n",
       "    }\n",
       "\n",
       "    .dataframe thead th {\n",
       "        text-align: right;\n",
       "    }\n",
       "</style>\n",
       "<table border=\"1\" class=\"dataframe\">\n",
       "  <thead>\n",
       "    <tr style=\"text-align: right;\">\n",
       "      <th></th>\n",
       "      <th>geometry</th>\n",
       "      <th>type</th>\n",
       "      <th>city</th>\n",
       "    </tr>\n",
       "  </thead>\n",
       "  <tbody>\n",
       "    <tr>\n",
       "      <th>0</th>\n",
       "      <td>POLYGON ((-118.19072 33.87436, -118.19052 33.8...</td>\n",
       "      <td>water</td>\n",
       "      <td>LA1m</td>\n",
       "    </tr>\n",
       "    <tr>\n",
       "      <th>1</th>\n",
       "      <td>POLYGON ((-118.06469 34.06525, -118.06466 34.0...</td>\n",
       "      <td>water</td>\n",
       "      <td>LA1m</td>\n",
       "    </tr>\n",
       "    <tr>\n",
       "      <th>2</th>\n",
       "      <td>POLYGON ((-118.16609 34.78007, -118.16609 34.7...</td>\n",
       "      <td>water</td>\n",
       "      <td>LA1m</td>\n",
       "    </tr>\n",
       "    <tr>\n",
       "      <th>3</th>\n",
       "      <td>POLYGON ((-118.03496 33.86649, -118.03413 33.8...</td>\n",
       "      <td>water</td>\n",
       "      <td>LA1m</td>\n",
       "    </tr>\n",
       "    <tr>\n",
       "      <th>4</th>\n",
       "      <td>POLYGON ((-118.24877 33.91260, -118.24887 33.9...</td>\n",
       "      <td>water</td>\n",
       "      <td>LA1m</td>\n",
       "    </tr>\n",
       "  </tbody>\n",
       "</table>\n",
       "</div>"
      ],
      "text/plain": [
       "                                            geometry   type  city\n",
       "0  POLYGON ((-118.19072 33.87436, -118.19052 33.8...  water  LA1m\n",
       "1  POLYGON ((-118.06469 34.06525, -118.06466 34.0...  water  LA1m\n",
       "2  POLYGON ((-118.16609 34.78007, -118.16609 34.7...  water  LA1m\n",
       "3  POLYGON ((-118.03496 33.86649, -118.03413 33.8...  water  LA1m\n",
       "4  POLYGON ((-118.24877 33.91260, -118.24887 33.9...  water  LA1m"
      ]
     },
     "execution_count": 111,
     "metadata": {},
     "output_type": "execute_result"
    }
   ],
   "source": [
    "unused_gdf = gpd.read_file('zip://../../data/LA/unused_areas/tl_2012_06037_areawater.zip')\n",
    "unused_gdf = unused_gdf[['geometry']]\n",
    "unused_gdf = unused_gdf.to_crs({'init': 'epsg:4326'}) \n",
    "unused_gdf['type'] = 'water'\n",
    "unused_gdf['city'] = CITY\n",
    "unused_gdf.head()"
   ]
  },
  {
   "cell_type": "code",
   "execution_count": 112,
   "metadata": {},
   "outputs": [],
   "source": [
    "ins_gdf = process_geometry_SQL_insert(unused_gdf)\n",
    "ins_gdf.to_sql('unused_areas', engine, if_exists='append', index=False, dtype={'geom': Geometry('MultiPolygon', srid=4326)})"
   ]
  },
  {
   "cell_type": "raw",
   "metadata": {},
   "source": [
    "/*\n",
    "This has been generated by the overpass-turbo wizard.\n",
    "The original search was:\n",
    "“leisure=park OR natural='water' OR natural='scrub' OR landuse='forest'”\n",
    "*/\n",
    "[out:json][timeout:90];\n",
    "// gather results\n",
    "(\n",
    "  // query part for: “leisure=park”\n",
    "  way[\"leisure\"=\"park\"]({{bbox}});\n",
    "  relation[\"leisure\"=\"park\"]({{bbox}});\n",
    "  // query part for: “natural=water”\n",
    "  way[\"natural\"=\"water\"]({{bbox}});\n",
    "  relation[\"natural\"=\"water\"]({{bbox}});\n",
    "  // query part for: “natural=scrub”\n",
    "  way[\"natural\"=\"scrub\"]({{bbox}});\n",
    "  relation[\"natural\"=\"scrub\"]({{bbox}});\n",
    "  // query part for: “landuse=forest”\n",
    "  way[\"landuse\"=\"forest\"]({{bbox}});\n",
    "  relation[\"landuse\"=\"forest\"]({{bbox}});\n",
    ");\n",
    "// print results\n",
    "out body;\n",
    ">;\n",
    "out skel qt;"
   ]
  },
  {
   "cell_type": "code",
   "execution_count": 113,
   "metadata": {},
   "outputs": [
    {
     "name": "stderr",
     "output_type": "stream",
     "text": [
      "/home/denadai/.local/share/virtualenvs/crime-environment-u9RldRjF/lib/python3.6/site-packages/pyproj/crs/crs.py:55: FutureWarning: '+init=<authority>:<code>' syntax is deprecated. '<authority>:<code>' is the preferred initialization method. When making the change, be mindful of axis order changes: https://pyproj4.github.io/pyproj/stable/gotchas.html#axis-order-changes-in-proj-6\n",
      "  return _prepare_from_string(\" \".join(pjargs))\n"
     ]
    },
    {
     "data": {
      "text/html": [
       "<div>\n",
       "<style scoped>\n",
       "    .dataframe tbody tr th:only-of-type {\n",
       "        vertical-align: middle;\n",
       "    }\n",
       "\n",
       "    .dataframe tbody tr th {\n",
       "        vertical-align: top;\n",
       "    }\n",
       "\n",
       "    .dataframe thead th {\n",
       "        text-align: right;\n",
       "    }\n",
       "</style>\n",
       "<table border=\"1\" class=\"dataframe\">\n",
       "  <thead>\n",
       "    <tr style=\"text-align: right;\">\n",
       "      <th></th>\n",
       "      <th>geometry</th>\n",
       "      <th>type</th>\n",
       "      <th>city</th>\n",
       "    </tr>\n",
       "  </thead>\n",
       "  <tbody>\n",
       "    <tr>\n",
       "      <th>0</th>\n",
       "      <td>MULTIPOLYGON (((-118.08760 33.80648, -118.0876...</td>\n",
       "      <td>parksrivers</td>\n",
       "      <td>LA1m</td>\n",
       "    </tr>\n",
       "    <tr>\n",
       "      <th>1</th>\n",
       "      <td>POLYGON ((-118.19197 33.76320, -118.19199 33.7...</td>\n",
       "      <td>parksrivers</td>\n",
       "      <td>LA1m</td>\n",
       "    </tr>\n",
       "    <tr>\n",
       "      <th>2</th>\n",
       "      <td>MULTIPOLYGON (((-118.71113 34.09592, -118.7092...</td>\n",
       "      <td>parksrivers</td>\n",
       "      <td>LA1m</td>\n",
       "    </tr>\n",
       "    <tr>\n",
       "      <th>3</th>\n",
       "      <td>POLYGON ((-118.37852 34.01768, -118.37797 34.0...</td>\n",
       "      <td>parksrivers</td>\n",
       "      <td>LA1m</td>\n",
       "    </tr>\n",
       "    <tr>\n",
       "      <th>4</th>\n",
       "      <td>POLYGON ((-118.35633 34.01135, -118.35623 34.0...</td>\n",
       "      <td>parksrivers</td>\n",
       "      <td>LA1m</td>\n",
       "    </tr>\n",
       "  </tbody>\n",
       "</table>\n",
       "</div>"
      ],
      "text/plain": [
       "                                            geometry         type  city\n",
       "0  MULTIPOLYGON (((-118.08760 33.80648, -118.0876...  parksrivers  LA1m\n",
       "1  POLYGON ((-118.19197 33.76320, -118.19199 33.7...  parksrivers  LA1m\n",
       "2  MULTIPOLYGON (((-118.71113 34.09592, -118.7092...  parksrivers  LA1m\n",
       "3  POLYGON ((-118.37852 34.01768, -118.37797 34.0...  parksrivers  LA1m\n",
       "4  POLYGON ((-118.35633 34.01135, -118.35623 34.0...  parksrivers  LA1m"
      ]
     },
     "execution_count": 113,
     "metadata": {},
     "output_type": "execute_result"
    }
   ],
   "source": [
    "unused_gdf = gpd.read_file('../../data/LA/unused_areas/parksandrivers.geojson')\n",
    "unused_gdf = unused_gdf[['geometry']]\n",
    "unused_gdf = unused_gdf.to_crs({'init': 'epsg:4326'}) \n",
    "unused_gdf['type'] = 'parksrivers'\n",
    "unused_gdf['city'] = CITY\n",
    "unused_gdf = unused_gdf[~unused_gdf.geometry.geom_type.isin(['LineString', 'Point']) ]\n",
    "unused_gdf.head()"
   ]
  },
  {
   "cell_type": "code",
   "execution_count": 114,
   "metadata": {},
   "outputs": [],
   "source": [
    "ins_gdf = process_geometry_SQL_insert(unused_gdf)\n",
    "ins_gdf.to_sql('temptable_{tempname}'.format(tempname=CITY.lower()), engine, if_exists='replace', index=False, dtype={'geom': Geometry('MultiPolygon', srid=4326)})"
   ]
  },
  {
   "cell_type": "code",
   "execution_count": 115,
   "metadata": {},
   "outputs": [],
   "source": [
    "sql = \"\"\"\n",
    "update temptable_{tempname} set geom=st_multi(st_buffer(geom, 0.0));\n",
    "\"\"\".format(city=CITY, tempname=CITY.lower())\n",
    "\n",
    "result = engine.execute(text(sql))"
   ]
  },
  {
   "cell_type": "code",
   "execution_count": 116,
   "metadata": {},
   "outputs": [],
   "source": [
    "sql = \"\"\"\n",
    "DROP TABLE IF EXISTS temptable_unusedhelper_{tempname};\n",
    "CREATE TEMPORARY TABLE temptable_unusedhelper_{tempname} AS\n",
    "SELECT ST_Union(geom) as geom FROM unused_areas u \n",
    "WHERE city='{city}';\n",
    "\n",
    "DROP TABLE IF EXISTS temptable_unusedhelper_exp_{tempname};\n",
    "CREATE TEMPORARY TABLE temptable_unusedhelper_exp_{tempname} AS\n",
    "SELECT (ST_Dump(geom)).geom FROM temptable_unusedhelper_{tempname} u;\n",
    "CREATE INDEX ON temptable_unusedhelper_exp_{tempname} USING GIST (geom);\n",
    "\"\"\".format(city=CITY, tempname=CITY.lower())\n",
    "\n",
    "result = engine.execute(text(sql))"
   ]
  },
  {
   "cell_type": "code",
   "execution_count": 117,
   "metadata": {},
   "outputs": [],
   "source": [
    "sql = \"\"\"\n",
    "update temptable_{tempname} t set geom=ST_Multi(st_buffer(ST_Difference(t.geom, h.geom), 0.0))\n",
    "FROM temptable_unusedhelper_{tempname} h\n",
    "WHERE st_intersects(t.geom, h.geom) AND (NOT ST_Touches(t.geom, h.geom)) AND ST_GeometryType(ST_Multi(ST_Difference(t.geom, h.geom))) <> 'ST_GeometryCollection';\n",
    "\"\"\".format(city=CITY, tempname=CITY.lower())\n",
    "\n",
    "result = engine.execute(text(sql))"
   ]
  },
  {
   "cell_type": "code",
   "execution_count": 118,
   "metadata": {},
   "outputs": [],
   "source": [
    "sql = \"\"\"\n",
    "DELETE FROM temptable_{tempname} t \n",
    "USING temptable_unusedhelper_exp_{tempname} h\n",
    "WHERE ST_Within(t.geom, h.geom) OR (st_intersects(t.geom, h.geom) AND (NOT ST_Touches(t.geom, h.geom)) AND ST_GeometryType(ST_Multi(ST_Difference(t.geom, h.geom))) = 'ST_GeometryCollection');\n",
    "\"\"\".format(city=CITY, tempname=CITY.lower())\n",
    "\n",
    "result = engine.execute(text(sql))"
   ]
  },
  {
   "cell_type": "code",
   "execution_count": 119,
   "metadata": {},
   "outputs": [],
   "source": [
    "sql = \"\"\"\n",
    "update temptable_{tempname} set geom=st_multi(st_buffer(geom, 0.0));\n",
    "\"\"\".format(city=CITY, tempname=CITY.lower())\n",
    "\n",
    "result = engine.execute(text(sql))"
   ]
  },
  {
   "cell_type": "code",
   "execution_count": 120,
   "metadata": {},
   "outputs": [],
   "source": [
    "sql = \"\"\"\n",
    "INSERT INTO unused_areas (geom, type, city) \n",
    "SELECT p.geom, p.type, p.city\n",
    "FROM temptable_{tempname} as p\n",
    "WHERE NOT EXISTS(SELECT * FROM unused_areas u WHERE ST_Intersects(u.geom, p.geom) AND (NOT ST_Touches(u.geom, p.geom)) AND u.city=p.city)\n",
    "\"\"\".format(city=CITY, tempname=CITY.lower())\n",
    "\n",
    "result = engine.execute(text(sql))"
   ]
  },
  {
   "cell_type": "code",
   "execution_count": 121,
   "metadata": {},
   "outputs": [],
   "source": [
    "sql = \"\"\"\n",
    "update unused_areas set geom=st_multi(st_buffer(geom, 0.0)) WHERE city = '{city}';\n",
    "\"\"\".format(city=CITY, tempname=CITY.lower())\n",
    "\n",
    "result = engine.execute(text(sql))"
   ]
  },
  {
   "cell_type": "markdown",
   "metadata": {},
   "source": [
    "## Net area"
   ]
  },
  {
   "cell_type": "code",
   "execution_count": 122,
   "metadata": {},
   "outputs": [],
   "source": [
    "unique_land_gdf = land_gdf.copy()\n",
    "unique_land_gdf.loc[:, 'x'] = unique_land_gdf.geometry.centroid.x\n",
    "unique_land_gdf.loc[:, 'y'] = unique_land_gdf.geometry.centroid.y\n",
    "unique_land_gdf = unique_land_gdf.drop_duplicates(subset=['x', 'y'])"
   ]
  },
  {
   "cell_type": "code",
   "execution_count": 123,
   "metadata": {},
   "outputs": [],
   "source": [
    "ins_gdf = process_geometry_SQL_insert(unique_land_gdf)\n",
    "ins_gdf.to_sql('temptable_{}'.format(CITY.lower()), engine, if_exists='replace', index=False, dtype={'geom': Geometry('MultiPolygon', srid=4326)})"
   ]
  },
  {
   "cell_type": "code",
   "execution_count": 124,
   "metadata": {},
   "outputs": [],
   "source": [
    "sql = \"\"\"\n",
    "UPDATE temptable_{tempname} p SET geom=ST_Multi(ST_buffer(p.geom, 0.0)) \n",
    "WHERE NOT ST_Isvalid(p.geom)\n",
    "\"\"\".format(city=CITY, tempname=CITY.lower())\n",
    "\n",
    "result = engine.execute(text(sql))"
   ]
  },
  {
   "cell_type": "code",
   "execution_count": 125,
   "metadata": {},
   "outputs": [],
   "source": [
    "## This deletes the blocks that are related to streets\n",
    "sql = \"\"\"\n",
    "DELETE FROM block b\n",
    "WHERE city='{city}' and NOT EXISTS (\n",
    "    select 1 \n",
    "    from temptable_{tempname} t \n",
    "    where st_intersects(t.geom, b.geom) and landuse <> 'none'  \n",
    "    HAVING SUM(ST_Area(st_intersection(t.geom, b.geom)))/ST_Area(b.geom) > 0.2);\n",
    "\"\"\".format(city=CITY, tempname=CITY.lower())\n",
    "\n",
    "result = engine.execute(text(sql))"
   ]
  },
  {
   "cell_type": "code",
   "execution_count": 126,
   "metadata": {},
   "outputs": [],
   "source": [
    "sql = \"\"\"\n",
    "DELETE \n",
    "FROM temptable_{tempname} t\n",
    "USING unused_areas u \n",
    "WHERE u.city = '{city}' AND ST_Intersects(u.geom, t.geom) AND (NOT ST_Touches(u.geom, t.geom)) \n",
    "AND (ST_Contains(u.geom, t.geom) OR ST_AREA(ST_Intersection(t.geom, u.geom))/ST_Area(t.geom) > 0.5);\n",
    "\"\"\".format(city=CITY, tempname=CITY.lower())\n",
    "\n",
    "result = engine.execute(text(sql))"
   ]
  },
  {
   "cell_type": "code",
   "execution_count": 127,
   "metadata": {},
   "outputs": [],
   "source": [
    "sql = \"\"\"\n",
    "INSERT INTO spatial_groups_net_area (sp_id, city, spatial_name, used_area) \n",
    "SELECT sp_id, city, spatial_name, SUM(ST_Area(ST_Intersection(s.approx_geom, t.geom)::geography))/1000000.\n",
    "FROM temptable_{tempname} t\n",
    "INNER JOIN spatial_groups s ON ST_Intersects(s.approx_geom, t.geom) AND NOT ST_Touches(s.approx_geom, t.geom)\n",
    "WHERE s.city = '{city}' \n",
    "GROUP BY sp_id, city, spatial_name;\n",
    "\"\"\".format(city=CITY, tempname=CITY.lower())\n",
    "\n",
    "result = engine.execute(text(sql))"
   ]
  },
  {
   "cell_type": "markdown",
   "metadata": {},
   "source": [
    "## Roads"
   ]
  },
  {
   "cell_type": "raw",
   "metadata": {},
   "source": [
    "Run this command\n",
    "\n",
    "osm2pgsql -c -d crime-environment --create --style \"config/osm2pgsql.style\" --multi-geometry --number-processes 2 --latlong -C 30000 --port 50013 data/LA/OSM/los-angeles_california.osm.bz2"
   ]
  },
  {
   "cell_type": "code",
   "execution_count": 5,
   "metadata": {},
   "outputs": [],
   "source": [
    "sql = \"\"\"\n",
    "create index on planet_osm_line (highway);\n",
    "INSERT INTO roads (geom, motorway, city) \n",
    "SELECT ST_MULTI(ST_LineSubstring(geom, 0.002*n/length,\n",
    "  CASE\n",
    "\tWHEN 0.002*(n+1) < length THEN 0.002*(n+1)/length\n",
    "\tELSE 1\n",
    "  END)) As geom, (t.highway='motorway' OR t.highway='trunk'), city \n",
    "FROM\n",
    "  (SELECT b.city, ST_LineMerge(p.way) AS geom, p.highway, \n",
    "  ST_Length(p.way) As length\n",
    "  FROM planet_osm_line p\n",
    "  INNER JOIN boundary b ON ST_Intersects(p.way, b.geom) AND NOT ST_Touches(p.way, b.geom)\n",
    "  WHERE b.city = '{city}' AND p.highway <> 'service' AND p.highway <> 'path' AND p.highway IS NOT NULL\n",
    "  ) AS t\n",
    "CROSS JOIN generate_series(0, 50) AS n\n",
    "WHERE n*0.002/length < 1;\n",
    "\"\"\".format(city=CITY, tempname=CITY.lower())\n",
    "\n",
    "result = engine.execute(text(sql))"
   ]
  },
  {
   "cell_type": "markdown",
   "metadata": {},
   "source": [
    "## POIs"
   ]
  },
  {
   "cell_type": "code",
   "execution_count": 129,
   "metadata": {},
   "outputs": [],
   "source": [
    "sql = \"\"\"\n",
    "REFRESH MATERIALIZED VIEW block_centroids;\n",
    "\"\"\"\n",
    "\n",
    "result = engine.execute(text(sql))"
   ]
  },
  {
   "cell_type": "code",
   "execution_count": 130,
   "metadata": {},
   "outputs": [],
   "source": [
    "sql = \"\"\"\n",
    "REFRESH MATERIALIZED VIEW pois_requests;\n",
    "\"\"\"\n",
    "\n",
    "result = engine.execute(text(sql))"
   ]
  },
  {
   "cell_type": "code",
   "execution_count": 131,
   "metadata": {},
   "outputs": [],
   "source": [
    "from collections import defaultdict\n",
    "from joblib import Parallel, delayed"
   ]
  },
  {
   "cell_type": "raw",
   "metadata": {},
   "source": [
    "../osrm-backend-5.22.0/build/osrm-extract --profile config/profiles/foot.lua data/LA/OSM/los-angeles_california.osm\n",
    "../osrm-backend-5.22.0/build/osrm-partition data/LA/OSM/los-angeles_california.osrm\n",
    "../osrm-backend-5.22.0/build/osrm-customize data/LA/OSM/los-angeles_california.osrm\n",
    "../osrm-backend-5.22.0/build/osrm-routed --algorithm=MLD data/LA/OSM/los-angeles_california.osrm"
   ]
  },
  {
   "cell_type": "code",
   "execution_count": 132,
   "metadata": {},
   "outputs": [],
   "source": [
    "def make_trip(lon1, lat1, dest):\n",
    "    # PERSONALIZE HERE\n",
    "    r = requests.get(\n",
    "        'http://localhost:5000/table/v1/foot/{lon1},{lat1};{dest}?annotations=distance&sources=0'.format(lon1=lon1, lat1=lat1, dest=dest))\n",
    "    distances = r.json()['distances']\n",
    "    distance = np.array(distances[0][1:], np.float32)\n",
    "    distance[distance < 0] = 0\n",
    "    return distance\n",
    "\n",
    "def walkscore_list(bid, clon, clat, list_dests, ws, straight_distances):\n",
    "    dists = make_trip(clon, clat, list_dests)\n",
    "    straight_distances = np.array(straight_distances)\n",
    "    #good_idxs = np.argwhere(dists < 1600)\n",
    "    ws = np.array(ws)+ 0.00000001 #[good_idxs] \n",
    "    zeros_idxs = np.argwhere(dists == 0)\n",
    "    dists[zeros_idxs] = 1\n",
    "    if np.sum(ws) == 0 or len(ws) == 0:\n",
    "        return bid, -1\n",
    "    return bid, np.average(straight_distances/dists, weights=ws) #[good_idxs] [good_idxs]\n",
    "\n",
    "cat_weights = {\n",
    "    'grocery': [3],\n",
    "    'Food': [.75,.45,.25,.25,.225,.225,.225,.225,.2,.2],\n",
    "    'Shops': [.5,.45,.4,.35,.3],\n",
    "    'Schools': [1],\n",
    "    'Entertainment': [1],\n",
    "    'Parks and outside': [1],\n",
    "    'Coffee': [1.25,.75],\n",
    "    'Banks': [1],\n",
    "    'Books': [1]\n",
    "}\n",
    "\n",
    "\n",
    "def walkscore(meters):\n",
    "\tmax_walk = 1500\n",
    "\tscore = np.exp(-5 * (meters / max_walk) ** 2.5)\n",
    "\tscore = np.clip(score, 0, 1)\n",
    "\treturn score\n",
    "\n",
    "def walkscore2_list(bid, clon, clat, list_dests, c):\n",
    "    dists = make_trip(clon, clat, list_dests)\n",
    "    #good_idxs = np.argwhere(dists < 1600)\n",
    "    scores = np.sort(walkscore(dists))[::-1]\n",
    "    n = len(cat_weights[c])\n",
    "    d = np.zeros(n)\n",
    "    d[:scores.shape[0]] = scores[:n]\n",
    "    w = np.sum(np.array(d)*np.array(cat_weights[c]))\n",
    "    assert w <= np.sum(cat_weights[c]) and w >= 0\n",
    "    \n",
    "    return bid, w #[good_idxs] [good_idxs]"
   ]
  },
  {
   "cell_type": "code",
   "execution_count": 133,
   "metadata": {},
   "outputs": [
    {
     "data": {
      "text/html": [
       "<div>\n",
       "<style scoped>\n",
       "    .dataframe tbody tr th:only-of-type {\n",
       "        vertical-align: middle;\n",
       "    }\n",
       "\n",
       "    .dataframe tbody tr th {\n",
       "        vertical-align: top;\n",
       "    }\n",
       "\n",
       "    .dataframe thead th {\n",
       "        text-align: right;\n",
       "    }\n",
       "</style>\n",
       "<table border=\"1\" class=\"dataframe\">\n",
       "  <thead>\n",
       "    <tr style=\"text-align: right;\">\n",
       "      <th></th>\n",
       "      <th>bid</th>\n",
       "      <th>lon</th>\n",
       "      <th>lat</th>\n",
       "      <th>dests</th>\n",
       "      <th>parent_cat</th>\n",
       "    </tr>\n",
       "  </thead>\n",
       "  <tbody>\n",
       "    <tr>\n",
       "      <th>0</th>\n",
       "      <td>515785</td>\n",
       "      <td>-118.259246</td>\n",
       "      <td>33.801533</td>\n",
       "      <td>-118.263873,33.807823;-118.266000,33.791000</td>\n",
       "      <td>Banks</td>\n",
       "    </tr>\n",
       "    <tr>\n",
       "      <th>1</th>\n",
       "      <td>515785</td>\n",
       "      <td>-118.260009</td>\n",
       "      <td>33.801522</td>\n",
       "      <td>-118.263873,33.807823;-118.266000,33.791000</td>\n",
       "      <td>Banks</td>\n",
       "    </tr>\n",
       "    <tr>\n",
       "      <th>2</th>\n",
       "      <td>515785</td>\n",
       "      <td>-118.259983</td>\n",
       "      <td>33.801722</td>\n",
       "      <td>-118.263873,33.807823;-118.266000,33.791000</td>\n",
       "      <td>Banks</td>\n",
       "    </tr>\n",
       "    <tr>\n",
       "      <th>3</th>\n",
       "      <td>515785</td>\n",
       "      <td>-118.261698</td>\n",
       "      <td>33.801963</td>\n",
       "      <td>-118.263873,33.807823;-118.266724,33.791253</td>\n",
       "      <td>Banks</td>\n",
       "    </tr>\n",
       "    <tr>\n",
       "      <th>4</th>\n",
       "      <td>515785</td>\n",
       "      <td>-118.263092</td>\n",
       "      <td>33.801466</td>\n",
       "      <td>-118.263873,33.807823;-118.266724,33.791253</td>\n",
       "      <td>Banks</td>\n",
       "    </tr>\n",
       "  </tbody>\n",
       "</table>\n",
       "</div>"
      ],
      "text/plain": [
       "      bid         lon        lat                                        dests  \\\n",
       "0  515785 -118.259246  33.801533  -118.263873,33.807823;-118.266000,33.791000   \n",
       "1  515785 -118.260009  33.801522  -118.263873,33.807823;-118.266000,33.791000   \n",
       "2  515785 -118.259983  33.801722  -118.263873,33.807823;-118.266000,33.791000   \n",
       "3  515785 -118.261698  33.801963  -118.263873,33.807823;-118.266724,33.791253   \n",
       "4  515785 -118.263092  33.801466  -118.263873,33.807823;-118.266724,33.791253   \n",
       "\n",
       "  parent_cat  \n",
       "0      Banks  \n",
       "1      Banks  \n",
       "2      Banks  \n",
       "3      Banks  \n",
       "4      Banks  "
      ]
     },
     "execution_count": 133,
     "metadata": {},
     "output_type": "execute_result"
    }
   ],
   "source": [
    "sql = \"\"\"\n",
    "SELECT bid, lon, lat, dests, parent_cat FROM pois_requests WHERE city = '{city}'\n",
    "\"\"\".format(city=CITY, tempname=CITY.lower())\n",
    "\n",
    "blocks_df = pd.read_sql_query(sql, con=engine)\n",
    "blocks_df.head()"
   ]
  },
  {
   "cell_type": "code",
   "execution_count": 134,
   "metadata": {},
   "outputs": [
    {
     "data": {
      "text/html": [
       "<div>\n",
       "<style scoped>\n",
       "    .dataframe tbody tr th:only-of-type {\n",
       "        vertical-align: middle;\n",
       "    }\n",
       "\n",
       "    .dataframe tbody tr th {\n",
       "        vertical-align: top;\n",
       "    }\n",
       "\n",
       "    .dataframe thead th {\n",
       "        text-align: right;\n",
       "    }\n",
       "</style>\n",
       "<table border=\"1\" class=\"dataframe\">\n",
       "  <thead>\n",
       "    <tr style=\"text-align: right;\">\n",
       "      <th></th>\n",
       "      <th>size</th>\n",
       "    </tr>\n",
       "    <tr>\n",
       "      <th>bid</th>\n",
       "      <th></th>\n",
       "    </tr>\n",
       "  </thead>\n",
       "  <tbody>\n",
       "    <tr>\n",
       "      <th>515785</th>\n",
       "      <td>16</td>\n",
       "    </tr>\n",
       "    <tr>\n",
       "      <th>515786</th>\n",
       "      <td>16</td>\n",
       "    </tr>\n",
       "    <tr>\n",
       "      <th>515787</th>\n",
       "      <td>13</td>\n",
       "    </tr>\n",
       "    <tr>\n",
       "      <th>515788</th>\n",
       "      <td>14</td>\n",
       "    </tr>\n",
       "    <tr>\n",
       "      <th>515789</th>\n",
       "      <td>15</td>\n",
       "    </tr>\n",
       "  </tbody>\n",
       "</table>\n",
       "</div>"
      ],
      "text/plain": [
       "        size\n",
       "bid         \n",
       "515785    16\n",
       "515786    16\n",
       "515787    13\n",
       "515788    14\n",
       "515789    15"
      ]
     },
     "execution_count": 134,
     "metadata": {},
     "output_type": "execute_result"
    }
   ],
   "source": [
    "sql = \"\"\"\n",
    "SELECT bid, COUNT(*) as size\n",
    "FROM block_centroids b WHERE b.city = '{city}' \n",
    "GROUP BY bid\n",
    "ORDER BY bid\n",
    "\"\"\".format(city=CITY, tempname=CITY.lower())\n",
    "\n",
    "n_blocks_df = pd.read_sql_query(sql, con=engine).set_index('bid')\n",
    "n_blocks_df.head()"
   ]
  },
  {
   "cell_type": "code",
   "execution_count": 135,
   "metadata": {},
   "outputs": [
    {
     "data": {
      "text/plain": [
       "['Books',\n",
       " 'Banks',\n",
       " 'Food',\n",
       " 'Coffee',\n",
       " 'Shops',\n",
       " 'Entertainment',\n",
       " 'grocery',\n",
       " 'Schools']"
      ]
     },
     "execution_count": 135,
     "metadata": {},
     "output_type": "execute_result"
    }
   ],
   "source": [
    "list(set(blocks_df.parent_cat.values))"
   ]
  },
  {
   "cell_type": "code",
   "execution_count": 136,
   "metadata": {},
   "outputs": [],
   "source": [
    "block_groups = defaultdict(list)\n",
    "for index, row in blocks_df.iterrows():\n",
    "    block_groups[row['bid']].append(row.values[1:])"
   ]
  },
  {
   "cell_type": "code",
   "execution_count": 137,
   "metadata": {},
   "outputs": [
    {
     "name": "stderr",
     "output_type": "stream",
     "text": [
      "\r",
      "  0%|          | 0/2507 [00:00<?, ?it/s]"
     ]
    },
    {
     "name": "stdout",
     "output_type": "stream",
     "text": [
      "183044\n"
     ]
    },
    {
     "name": "stderr",
     "output_type": "stream",
     "text": [
      "100%|██████████| 2507/2507 [02:15<00:00, 18.46it/s] \n"
     ]
    }
   ],
   "source": [
    "from tqdm import tqdm\n",
    "\n",
    "print(len(blocks_df))\n",
    "results = [(idx, score) for idx, score in Parallel(n_jobs=10)(delayed(walkscore2_list)(bid, req[0], req[1], req[2], req[3]) for bid, reqs in tqdm(block_groups.items()) for req in reqs)]"
   ]
  },
  {
   "cell_type": "code",
   "execution_count": 138,
   "metadata": {},
   "outputs": [],
   "source": [
    "block_vacuum_index = defaultdict(list)\n",
    "bid2size = {k: v['size'] for k, v in n_blocks_df.iterrows()}\n",
    "\n",
    "for bid, score in results:\n",
    "    block_vacuum_index[bid].append(score)\n",
    "    \n",
    "sum_cat_weights = np.sum([y for x in cat_weights.values() for y in x])\n",
    "\n",
    "for bid, score in block_vacuum_index.items():\n",
    "    if len(score) > 0:\n",
    "        score = (np.sum(score)/bid2size[bid])/sum_cat_weights\n",
    "        assert score <= 1.01\n",
    "        sql = \"INSERT INTO walk_index (bid, score, city) VALUES ({}, {}, '{}')\".format(bid, score, CITY)\n",
    "        result = engine.execute(text(sql))"
   ]
  },
  {
   "cell_type": "markdown",
   "metadata": {},
   "source": [
    "## Crime"
   ]
  },
  {
   "cell_type": "code",
   "execution_count": 6,
   "metadata": {},
   "outputs": [
    {
     "data": {
      "text/html": [
       "<div>\n",
       "<style scoped>\n",
       "    .dataframe tbody tr th:only-of-type {\n",
       "        vertical-align: middle;\n",
       "    }\n",
       "\n",
       "    .dataframe tbody tr th {\n",
       "        vertical-align: top;\n",
       "    }\n",
       "\n",
       "    .dataframe thead th {\n",
       "        text-align: right;\n",
       "    }\n",
       "</style>\n",
       "<table border=\"1\" class=\"dataframe\">\n",
       "  <thead>\n",
       "    <tr style=\"text-align: right;\">\n",
       "      <th></th>\n",
       "      <th>Date.Rptd</th>\n",
       "      <th>DR.NO</th>\n",
       "      <th>DATE.OCC</th>\n",
       "      <th>TIME.OCC</th>\n",
       "      <th>AREA</th>\n",
       "      <th>AREA.NAME</th>\n",
       "      <th>RD</th>\n",
       "      <th>Crm.Cd</th>\n",
       "      <th>CrmCd.Desc</th>\n",
       "      <th>Status</th>\n",
       "      <th>Status.Desc</th>\n",
       "      <th>LOCATION</th>\n",
       "      <th>Cross.Street</th>\n",
       "      <th>Location.1</th>\n",
       "    </tr>\n",
       "  </thead>\n",
       "  <tbody>\n",
       "    <tr>\n",
       "      <th>0</th>\n",
       "      <td>03/20/2013</td>\n",
       "      <td>132007717</td>\n",
       "      <td>03/20/2013</td>\n",
       "      <td>2015</td>\n",
       "      <td>20</td>\n",
       "      <td>Olympic</td>\n",
       "      <td>2004</td>\n",
       "      <td>997</td>\n",
       "      <td>TRAFFIC DR #</td>\n",
       "      <td>UNK</td>\n",
       "      <td>Unknown</td>\n",
       "      <td>OXFORD</td>\n",
       "      <td>OAKWOOD</td>\n",
       "      <td>(34.0776, -118.308)</td>\n",
       "    </tr>\n",
       "    <tr>\n",
       "      <th>1</th>\n",
       "      <td>03/10/2013</td>\n",
       "      <td>130608787</td>\n",
       "      <td>03/10/2013</td>\n",
       "      <td>445</td>\n",
       "      <td>6</td>\n",
       "      <td>Hollywood</td>\n",
       "      <td>635</td>\n",
       "      <td>997</td>\n",
       "      <td>TRAFFIC DR #</td>\n",
       "      <td>UNK</td>\n",
       "      <td>Unknown</td>\n",
       "      <td>ODIN                         ST</td>\n",
       "      <td>CAHUENGA                     BL</td>\n",
       "      <td>(34.1113, -118.3336)</td>\n",
       "    </tr>\n",
       "    <tr>\n",
       "      <th>2</th>\n",
       "      <td>12/18/2013</td>\n",
       "      <td>131820260</td>\n",
       "      <td>12/18/2013</td>\n",
       "      <td>745</td>\n",
       "      <td>18</td>\n",
       "      <td>Southeast</td>\n",
       "      <td>1839</td>\n",
       "      <td>997</td>\n",
       "      <td>TRAFFIC DR #</td>\n",
       "      <td>UNK</td>\n",
       "      <td>Unknown</td>\n",
       "      <td>105TH                        ST</td>\n",
       "      <td>CROESUS                      AV</td>\n",
       "      <td>(33.9406, -118.2338)</td>\n",
       "    </tr>\n",
       "    <tr>\n",
       "      <th>3</th>\n",
       "      <td>10/18/2013</td>\n",
       "      <td>131817514</td>\n",
       "      <td>10/18/2013</td>\n",
       "      <td>1730</td>\n",
       "      <td>18</td>\n",
       "      <td>Southeast</td>\n",
       "      <td>1827</td>\n",
       "      <td>997</td>\n",
       "      <td>TRAFFIC DR #</td>\n",
       "      <td>UNK</td>\n",
       "      <td>Unknown</td>\n",
       "      <td>101ST                        ST</td>\n",
       "      <td>JUNIPER                      ST</td>\n",
       "      <td>(33.9449, -118.2332)</td>\n",
       "    </tr>\n",
       "    <tr>\n",
       "      <th>4</th>\n",
       "      <td>05/26/2013</td>\n",
       "      <td>130510483</td>\n",
       "      <td>05/25/2013</td>\n",
       "      <td>2000</td>\n",
       "      <td>5</td>\n",
       "      <td>Harbor</td>\n",
       "      <td>507</td>\n",
       "      <td>440</td>\n",
       "      <td>THEFT PLAIN - PETTY (UNDER $400)</td>\n",
       "      <td>UNK</td>\n",
       "      <td>Unknown</td>\n",
       "      <td>1300      W  SEPULVEDA                    BL</td>\n",
       "      <td>NaN</td>\n",
       "      <td>(33.8135, -118.2992)</td>\n",
       "    </tr>\n",
       "  </tbody>\n",
       "</table>\n",
       "</div>"
      ],
      "text/plain": [
       "    Date.Rptd      DR.NO    DATE.OCC  TIME.OCC  AREA  AREA.NAME    RD  Crm.Cd  \\\n",
       "0  03/20/2013  132007717  03/20/2013      2015    20    Olympic  2004     997   \n",
       "1  03/10/2013  130608787  03/10/2013       445     6  Hollywood   635     997   \n",
       "2  12/18/2013  131820260  12/18/2013       745    18  Southeast  1839     997   \n",
       "3  10/18/2013  131817514  10/18/2013      1730    18  Southeast  1827     997   \n",
       "4  05/26/2013  130510483  05/25/2013      2000     5     Harbor   507     440   \n",
       "\n",
       "                         CrmCd.Desc Status Status.Desc  \\\n",
       "0                      TRAFFIC DR #    UNK     Unknown   \n",
       "1                      TRAFFIC DR #    UNK     Unknown   \n",
       "2                      TRAFFIC DR #    UNK     Unknown   \n",
       "3                      TRAFFIC DR #    UNK     Unknown   \n",
       "4  THEFT PLAIN - PETTY (UNDER $400)    UNK     Unknown   \n",
       "\n",
       "                                        LOCATION  \\\n",
       "0                                         OXFORD   \n",
       "1                ODIN                         ST   \n",
       "2                105TH                        ST   \n",
       "3                101ST                        ST   \n",
       "4   1300      W  SEPULVEDA                    BL   \n",
       "\n",
       "                         Cross.Street            Location.1  \n",
       "0                             OAKWOOD   (34.0776, -118.308)  \n",
       "1     CAHUENGA                     BL  (34.1113, -118.3336)  \n",
       "2     CROESUS                      AV  (33.9406, -118.2338)  \n",
       "3     JUNIPER                      ST  (33.9449, -118.2332)  \n",
       "4                                 NaN  (33.8135, -118.2992)  "
      ]
     },
     "execution_count": 6,
     "metadata": {},
     "output_type": "execute_result"
    }
   ],
   "source": [
    "df = pd.read_csv('../../data/LA/crime/Crimes_2012-2015.csv.gz')\n",
    "df.head()"
   ]
  },
  {
   "cell_type": "code",
   "execution_count": 7,
   "metadata": {},
   "outputs": [
    {
     "data": {
      "text/html": [
       "<div>\n",
       "<style scoped>\n",
       "    .dataframe tbody tr th:only-of-type {\n",
       "        vertical-align: middle;\n",
       "    }\n",
       "\n",
       "    .dataframe tbody tr th {\n",
       "        vertical-align: top;\n",
       "    }\n",
       "\n",
       "    .dataframe thead th {\n",
       "        text-align: right;\n",
       "    }\n",
       "</style>\n",
       "<table border=\"1\" class=\"dataframe\">\n",
       "  <thead>\n",
       "    <tr style=\"text-align: right;\">\n",
       "      <th></th>\n",
       "      <th>DATE.OCC</th>\n",
       "      <th>TIME.OCC</th>\n",
       "      <th>CrmCd.Desc</th>\n",
       "      <th>Location.1</th>\n",
       "    </tr>\n",
       "  </thead>\n",
       "  <tbody>\n",
       "    <tr>\n",
       "      <th>0</th>\n",
       "      <td>03/20/2013</td>\n",
       "      <td>2015</td>\n",
       "      <td>TRAFFIC DR #</td>\n",
       "      <td>(34.0776, -118.308)</td>\n",
       "    </tr>\n",
       "    <tr>\n",
       "      <th>1</th>\n",
       "      <td>03/10/2013</td>\n",
       "      <td>445</td>\n",
       "      <td>TRAFFIC DR #</td>\n",
       "      <td>(34.1113, -118.3336)</td>\n",
       "    </tr>\n",
       "    <tr>\n",
       "      <th>2</th>\n",
       "      <td>12/18/2013</td>\n",
       "      <td>745</td>\n",
       "      <td>TRAFFIC DR #</td>\n",
       "      <td>(33.9406, -118.2338)</td>\n",
       "    </tr>\n",
       "    <tr>\n",
       "      <th>3</th>\n",
       "      <td>10/18/2013</td>\n",
       "      <td>1730</td>\n",
       "      <td>TRAFFIC DR #</td>\n",
       "      <td>(33.9449, -118.2332)</td>\n",
       "    </tr>\n",
       "    <tr>\n",
       "      <th>4</th>\n",
       "      <td>05/25/2013</td>\n",
       "      <td>2000</td>\n",
       "      <td>THEFT PLAIN - PETTY (UNDER $400)</td>\n",
       "      <td>(33.8135, -118.2992)</td>\n",
       "    </tr>\n",
       "  </tbody>\n",
       "</table>\n",
       "</div>"
      ],
      "text/plain": [
       "     DATE.OCC  TIME.OCC                        CrmCd.Desc  \\\n",
       "0  03/20/2013      2015                      TRAFFIC DR #   \n",
       "1  03/10/2013       445                      TRAFFIC DR #   \n",
       "2  12/18/2013       745                      TRAFFIC DR #   \n",
       "3  10/18/2013      1730                      TRAFFIC DR #   \n",
       "4  05/25/2013      2000  THEFT PLAIN - PETTY (UNDER $400)   \n",
       "\n",
       "             Location.1  \n",
       "0   (34.0776, -118.308)  \n",
       "1  (34.1113, -118.3336)  \n",
       "2  (33.9406, -118.2338)  \n",
       "3  (33.9449, -118.2332)  \n",
       "4  (33.8135, -118.2992)  "
      ]
     },
     "execution_count": 7,
     "metadata": {},
     "output_type": "execute_result"
    }
   ],
   "source": [
    "df = df[['DATE.OCC', 'TIME.OCC', 'CrmCd.Desc', 'Location.1']]\n",
    "df.head()"
   ]
  },
  {
   "cell_type": "code",
   "execution_count": 8,
   "metadata": {},
   "outputs": [
    {
     "name": "stdout",
     "output_type": "stream",
     "text": [
      "DATE.OCC      935258\n",
      "TIME.OCC      935258\n",
      "CrmCd.Desc    935256\n",
      "Location.1    930861\n",
      "dtype: int64\n",
      "DATE.OCC      930859\n",
      "TIME.OCC      930859\n",
      "CrmCd.Desc    930859\n",
      "Location.1    930859\n",
      "dtype: int64\n"
     ]
    },
    {
     "data": {
      "text/html": [
       "<div>\n",
       "<style scoped>\n",
       "    .dataframe tbody tr th:only-of-type {\n",
       "        vertical-align: middle;\n",
       "    }\n",
       "\n",
       "    .dataframe tbody tr th {\n",
       "        vertical-align: top;\n",
       "    }\n",
       "\n",
       "    .dataframe thead th {\n",
       "        text-align: right;\n",
       "    }\n",
       "</style>\n",
       "<table border=\"1\" class=\"dataframe\">\n",
       "  <thead>\n",
       "    <tr style=\"text-align: right;\">\n",
       "      <th></th>\n",
       "      <th>DATE.OCC</th>\n",
       "      <th>TIME.OCC</th>\n",
       "      <th>CrmCd.Desc</th>\n",
       "      <th>Location.1</th>\n",
       "    </tr>\n",
       "  </thead>\n",
       "  <tbody>\n",
       "    <tr>\n",
       "      <th>4</th>\n",
       "      <td>05/25/2013</td>\n",
       "      <td>2000</td>\n",
       "      <td>THEFT PLAIN - PETTY (UNDER $400)</td>\n",
       "      <td>(33.8135, -118.2992)</td>\n",
       "    </tr>\n",
       "    <tr>\n",
       "      <th>6</th>\n",
       "      <td>08/23/2014</td>\n",
       "      <td>2240</td>\n",
       "      <td>BURGLARY</td>\n",
       "      <td>(34.0617, -118.2469)</td>\n",
       "    </tr>\n",
       "    <tr>\n",
       "      <th>7</th>\n",
       "      <td>08/23/2014</td>\n",
       "      <td>1337</td>\n",
       "      <td>VIOLATION OF RESTRAINING ORDER</td>\n",
       "      <td>(34.069, -118.3066)</td>\n",
       "    </tr>\n",
       "    <tr>\n",
       "      <th>8</th>\n",
       "      <td>08/23/2014</td>\n",
       "      <td>1945</td>\n",
       "      <td>ROBBERY</td>\n",
       "      <td>(34.0644, -118.2387)</td>\n",
       "    </tr>\n",
       "    <tr>\n",
       "      <th>9</th>\n",
       "      <td>08/22/2014</td>\n",
       "      <td>825</td>\n",
       "      <td>VIOLATION OF RESTRAINING ORDER</td>\n",
       "      <td>(34.1817, -118.4509)</td>\n",
       "    </tr>\n",
       "  </tbody>\n",
       "</table>\n",
       "</div>"
      ],
      "text/plain": [
       "     DATE.OCC  TIME.OCC                        CrmCd.Desc  \\\n",
       "4  05/25/2013      2000  THEFT PLAIN - PETTY (UNDER $400)   \n",
       "6  08/23/2014      2240                          BURGLARY   \n",
       "7  08/23/2014      1337    VIOLATION OF RESTRAINING ORDER   \n",
       "8  08/23/2014      1945                           ROBBERY   \n",
       "9  08/22/2014       825    VIOLATION OF RESTRAINING ORDER   \n",
       "\n",
       "             Location.1  \n",
       "4  (33.8135, -118.2992)  \n",
       "6  (34.0617, -118.2469)  \n",
       "7   (34.069, -118.3066)  \n",
       "8  (34.0644, -118.2387)  \n",
       "9  (34.1817, -118.4509)  "
      ]
     },
     "execution_count": 8,
     "metadata": {},
     "output_type": "execute_result"
    }
   ],
   "source": [
    "print(df.count())\n",
    "df = df.dropna()\n",
    "print(df.count())\n",
    "df = df[df['CrmCd.Desc'] != 'TRAFFIC DR #']\n",
    "df.head()"
   ]
  },
  {
   "cell_type": "code",
   "execution_count": 9,
   "metadata": {},
   "outputs": [
    {
     "data": {
      "text/html": [
       "<div>\n",
       "<style scoped>\n",
       "    .dataframe tbody tr th:only-of-type {\n",
       "        vertical-align: middle;\n",
       "    }\n",
       "\n",
       "    .dataframe tbody tr th {\n",
       "        vertical-align: top;\n",
       "    }\n",
       "\n",
       "    .dataframe thead th {\n",
       "        text-align: right;\n",
       "    }\n",
       "</style>\n",
       "<table border=\"1\" class=\"dataframe\">\n",
       "  <thead>\n",
       "    <tr style=\"text-align: right;\">\n",
       "      <th></th>\n",
       "      <th>DATE.OCC</th>\n",
       "      <th>TIME.OCC</th>\n",
       "      <th>CrmCd.Desc</th>\n",
       "      <th>Location.1</th>\n",
       "      <th>datetime</th>\n",
       "    </tr>\n",
       "  </thead>\n",
       "  <tbody>\n",
       "    <tr>\n",
       "      <th>4</th>\n",
       "      <td>05/25/2013</td>\n",
       "      <td>2000</td>\n",
       "      <td>THEFT PLAIN - PETTY (UNDER $400)</td>\n",
       "      <td>(33.8135, -118.2992)</td>\n",
       "      <td>2013-05-25 20:00:00</td>\n",
       "    </tr>\n",
       "    <tr>\n",
       "      <th>6</th>\n",
       "      <td>08/23/2014</td>\n",
       "      <td>2240</td>\n",
       "      <td>BURGLARY</td>\n",
       "      <td>(34.0617, -118.2469)</td>\n",
       "      <td>2014-08-23 22:40:00</td>\n",
       "    </tr>\n",
       "    <tr>\n",
       "      <th>7</th>\n",
       "      <td>08/23/2014</td>\n",
       "      <td>1337</td>\n",
       "      <td>VIOLATION OF RESTRAINING ORDER</td>\n",
       "      <td>(34.069, -118.3066)</td>\n",
       "      <td>2014-08-23 13:37:00</td>\n",
       "    </tr>\n",
       "    <tr>\n",
       "      <th>8</th>\n",
       "      <td>08/23/2014</td>\n",
       "      <td>1945</td>\n",
       "      <td>ROBBERY</td>\n",
       "      <td>(34.0644, -118.2387)</td>\n",
       "      <td>2014-08-23 19:45:00</td>\n",
       "    </tr>\n",
       "    <tr>\n",
       "      <th>9</th>\n",
       "      <td>08/22/2014</td>\n",
       "      <td>825</td>\n",
       "      <td>VIOLATION OF RESTRAINING ORDER</td>\n",
       "      <td>(34.1817, -118.4509)</td>\n",
       "      <td>2014-08-22 08:25:00</td>\n",
       "    </tr>\n",
       "  </tbody>\n",
       "</table>\n",
       "</div>"
      ],
      "text/plain": [
       "     DATE.OCC  TIME.OCC                        CrmCd.Desc  \\\n",
       "4  05/25/2013      2000  THEFT PLAIN - PETTY (UNDER $400)   \n",
       "6  08/23/2014      2240                          BURGLARY   \n",
       "7  08/23/2014      1337    VIOLATION OF RESTRAINING ORDER   \n",
       "8  08/23/2014      1945                           ROBBERY   \n",
       "9  08/22/2014       825    VIOLATION OF RESTRAINING ORDER   \n",
       "\n",
       "             Location.1            datetime  \n",
       "4  (33.8135, -118.2992) 2013-05-25 20:00:00  \n",
       "6  (34.0617, -118.2469) 2014-08-23 22:40:00  \n",
       "7   (34.069, -118.3066) 2014-08-23 13:37:00  \n",
       "8  (34.0644, -118.2387) 2014-08-23 19:45:00  \n",
       "9  (34.1817, -118.4509) 2014-08-22 08:25:00  "
      ]
     },
     "execution_count": 9,
     "metadata": {},
     "output_type": "execute_result"
    }
   ],
   "source": [
    "df['datetime'] = pd.to_datetime(df['DATE.OCC'] + ' ' + df['TIME.OCC'].map(str).str.zfill(4), format='%m/%d/%Y %H%M')\n",
    "df.head()"
   ]
  },
  {
   "cell_type": "code",
   "execution_count": 10,
   "metadata": {},
   "outputs": [],
   "source": [
    "df['Location.1'] = df['Location.1'].str.replace('(', '')\n",
    "df['Location.1'] = df['Location.1'].str.replace(')', '')"
   ]
  },
  {
   "cell_type": "code",
   "execution_count": 11,
   "metadata": {},
   "outputs": [
    {
     "data": {
      "text/html": [
       "<div>\n",
       "<style scoped>\n",
       "    .dataframe tbody tr th:only-of-type {\n",
       "        vertical-align: middle;\n",
       "    }\n",
       "\n",
       "    .dataframe tbody tr th {\n",
       "        vertical-align: top;\n",
       "    }\n",
       "\n",
       "    .dataframe thead th {\n",
       "        text-align: right;\n",
       "    }\n",
       "</style>\n",
       "<table border=\"1\" class=\"dataframe\">\n",
       "  <thead>\n",
       "    <tr style=\"text-align: right;\">\n",
       "      <th></th>\n",
       "      <th>DATE.OCC</th>\n",
       "      <th>TIME.OCC</th>\n",
       "      <th>CrmCd.Desc</th>\n",
       "      <th>Location.1</th>\n",
       "      <th>datetime</th>\n",
       "      <th>lng</th>\n",
       "      <th>lat</th>\n",
       "      <th>num</th>\n",
       "    </tr>\n",
       "  </thead>\n",
       "  <tbody>\n",
       "    <tr>\n",
       "      <th>4</th>\n",
       "      <td>05/25/2013</td>\n",
       "      <td>2000</td>\n",
       "      <td>THEFT PLAIN - PETTY (UNDER $400)</td>\n",
       "      <td>33.8135, -118.2992</td>\n",
       "      <td>2013-05-25 20:00:00</td>\n",
       "      <td>-118.2992</td>\n",
       "      <td>33.8135</td>\n",
       "      <td>1</td>\n",
       "    </tr>\n",
       "    <tr>\n",
       "      <th>6</th>\n",
       "      <td>08/23/2014</td>\n",
       "      <td>2240</td>\n",
       "      <td>BURGLARY</td>\n",
       "      <td>34.0617, -118.2469</td>\n",
       "      <td>2014-08-23 22:40:00</td>\n",
       "      <td>-118.2469</td>\n",
       "      <td>34.0617</td>\n",
       "      <td>1</td>\n",
       "    </tr>\n",
       "    <tr>\n",
       "      <th>7</th>\n",
       "      <td>08/23/2014</td>\n",
       "      <td>1337</td>\n",
       "      <td>VIOLATION OF RESTRAINING ORDER</td>\n",
       "      <td>34.069, -118.3066</td>\n",
       "      <td>2014-08-23 13:37:00</td>\n",
       "      <td>-118.3066</td>\n",
       "      <td>34.069</td>\n",
       "      <td>1</td>\n",
       "    </tr>\n",
       "    <tr>\n",
       "      <th>8</th>\n",
       "      <td>08/23/2014</td>\n",
       "      <td>1945</td>\n",
       "      <td>ROBBERY</td>\n",
       "      <td>34.0644, -118.2387</td>\n",
       "      <td>2014-08-23 19:45:00</td>\n",
       "      <td>-118.2387</td>\n",
       "      <td>34.0644</td>\n",
       "      <td>1</td>\n",
       "    </tr>\n",
       "    <tr>\n",
       "      <th>9</th>\n",
       "      <td>08/22/2014</td>\n",
       "      <td>825</td>\n",
       "      <td>VIOLATION OF RESTRAINING ORDER</td>\n",
       "      <td>34.1817, -118.4509</td>\n",
       "      <td>2014-08-22 08:25:00</td>\n",
       "      <td>-118.4509</td>\n",
       "      <td>34.1817</td>\n",
       "      <td>1</td>\n",
       "    </tr>\n",
       "  </tbody>\n",
       "</table>\n",
       "</div>"
      ],
      "text/plain": [
       "     DATE.OCC  TIME.OCC                        CrmCd.Desc          Location.1  \\\n",
       "4  05/25/2013      2000  THEFT PLAIN - PETTY (UNDER $400)  33.8135, -118.2992   \n",
       "6  08/23/2014      2240                          BURGLARY  34.0617, -118.2469   \n",
       "7  08/23/2014      1337    VIOLATION OF RESTRAINING ORDER   34.069, -118.3066   \n",
       "8  08/23/2014      1945                           ROBBERY  34.0644, -118.2387   \n",
       "9  08/22/2014       825    VIOLATION OF RESTRAINING ORDER  34.1817, -118.4509   \n",
       "\n",
       "             datetime        lng      lat  num  \n",
       "4 2013-05-25 20:00:00  -118.2992  33.8135    1  \n",
       "6 2014-08-23 22:40:00  -118.2469  34.0617    1  \n",
       "7 2014-08-23 13:37:00  -118.3066   34.069    1  \n",
       "8 2014-08-23 19:45:00  -118.2387  34.0644    1  \n",
       "9 2014-08-22 08:25:00  -118.4509  34.1817    1  "
      ]
     },
     "execution_count": 11,
     "metadata": {},
     "output_type": "execute_result"
    }
   ],
   "source": [
    "df['lng'] = df['Location.1'].str.split(', ').str[1]\n",
    "df['lat'] = df['Location.1'].str.split(', ').str[0]\n",
    "df['num'] = 1\n",
    "df.head()"
   ]
  },
  {
   "cell_type": "markdown",
   "metadata": {},
   "source": [
    "### Crime types"
   ]
  },
  {
   "cell_type": "code",
   "execution_count": 12,
   "metadata": {},
   "outputs": [
    {
     "data": {
      "text/html": [
       "<div>\n",
       "<style scoped>\n",
       "    .dataframe tbody tr th:only-of-type {\n",
       "        vertical-align: middle;\n",
       "    }\n",
       "\n",
       "    .dataframe tbody tr th {\n",
       "        vertical-align: top;\n",
       "    }\n",
       "\n",
       "    .dataframe thead th {\n",
       "        text-align: right;\n",
       "    }\n",
       "</style>\n",
       "<table border=\"1\" class=\"dataframe\">\n",
       "  <thead>\n",
       "    <tr style=\"text-align: right;\">\n",
       "      <th></th>\n",
       "      <th>CrmCd.Desc</th>\n",
       "      <th>UCR part</th>\n",
       "      <th>UCR1</th>\n",
       "    </tr>\n",
       "  </thead>\n",
       "  <tbody>\n",
       "    <tr>\n",
       "      <th>0</th>\n",
       "      <td>BATTERY - SIMPLE ASSAULT</td>\n",
       "      <td>2</td>\n",
       "      <td>NaN</td>\n",
       "    </tr>\n",
       "    <tr>\n",
       "      <th>1</th>\n",
       "      <td>BURGLARY FROM VEHICLE</td>\n",
       "      <td>1</td>\n",
       "      <td>Larceny-theft (except motor vehicle theft)</td>\n",
       "    </tr>\n",
       "    <tr>\n",
       "      <th>2</th>\n",
       "      <td>VEHICLE - STOLEN</td>\n",
       "      <td>1</td>\n",
       "      <td>Motor vehicle theft</td>\n",
       "    </tr>\n",
       "    <tr>\n",
       "      <th>3</th>\n",
       "      <td>BURGLARY</td>\n",
       "      <td>1</td>\n",
       "      <td>Burglary (breaking or entering)</td>\n",
       "    </tr>\n",
       "    <tr>\n",
       "      <th>4</th>\n",
       "      <td>THEFT OF IDENTITY</td>\n",
       "      <td>2</td>\n",
       "      <td>NaN</td>\n",
       "    </tr>\n",
       "  </tbody>\n",
       "</table>\n",
       "</div>"
      ],
      "text/plain": [
       "                 CrmCd.Desc  UCR part  \\\n",
       "0  BATTERY - SIMPLE ASSAULT         2   \n",
       "1     BURGLARY FROM VEHICLE         1   \n",
       "2          VEHICLE - STOLEN         1   \n",
       "3                  BURGLARY         1   \n",
       "4         THEFT OF IDENTITY         2   \n",
       "\n",
       "                                         UCR1  \n",
       "0                                         NaN  \n",
       "1  Larceny-theft (except motor vehicle theft)  \n",
       "2                         Motor vehicle theft  \n",
       "3             Burglary (breaking or entering)  \n",
       "4                                         NaN  "
      ]
     },
     "execution_count": 12,
     "metadata": {},
     "output_type": "execute_result"
    }
   ],
   "source": [
    "crime_types_df = pd.read_csv('../../data/crime_types/LA_types_categorized.csv')[['CrmCd.Desc', 'UCR part', 'UCR1']]\n",
    "crime_types_df['UCR part'] = crime_types_df['UCR part'].astype(int)\n",
    "crime_types_df.head()"
   ]
  },
  {
   "cell_type": "code",
   "execution_count": 13,
   "metadata": {},
   "outputs": [],
   "source": [
    "crime_types_df.loc[crime_types_df['UCR1'] == 'Larceny-theft (except motor vehicle theft)', 'UCR part'] = '12'"
   ]
  },
  {
   "cell_type": "code",
   "execution_count": 14,
   "metadata": {},
   "outputs": [
    {
     "data": {
      "text/html": [
       "<div>\n",
       "<style scoped>\n",
       "    .dataframe tbody tr th:only-of-type {\n",
       "        vertical-align: middle;\n",
       "    }\n",
       "\n",
       "    .dataframe tbody tr th {\n",
       "        vertical-align: top;\n",
       "    }\n",
       "\n",
       "    .dataframe thead th {\n",
       "        text-align: right;\n",
       "    }\n",
       "</style>\n",
       "<table border=\"1\" class=\"dataframe\">\n",
       "  <thead>\n",
       "    <tr style=\"text-align: right;\">\n",
       "      <th></th>\n",
       "      <th>CrmCd.Desc</th>\n",
       "      <th>UCR part</th>\n",
       "      <th>UCR1</th>\n",
       "    </tr>\n",
       "  </thead>\n",
       "  <tbody>\n",
       "    <tr>\n",
       "      <th>2</th>\n",
       "      <td>VEHICLE - STOLEN</td>\n",
       "      <td>1</td>\n",
       "      <td>Motor vehicle theft</td>\n",
       "    </tr>\n",
       "    <tr>\n",
       "      <th>3</th>\n",
       "      <td>BURGLARY</td>\n",
       "      <td>1</td>\n",
       "      <td>Burglary (breaking or entering)</td>\n",
       "    </tr>\n",
       "    <tr>\n",
       "      <th>7</th>\n",
       "      <td>ASSAULT WITH DEADLY WEAPON, AGGRAVATED ASSAULT</td>\n",
       "      <td>1</td>\n",
       "      <td>Aggravated assault</td>\n",
       "    </tr>\n",
       "    <tr>\n",
       "      <th>9</th>\n",
       "      <td>ROBBERY</td>\n",
       "      <td>1</td>\n",
       "      <td>Robbery</td>\n",
       "    </tr>\n",
       "    <tr>\n",
       "      <th>29</th>\n",
       "      <td>BURGLARY, ATTEMPTED</td>\n",
       "      <td>1</td>\n",
       "      <td>Burglary (breaking or entering)</td>\n",
       "    </tr>\n",
       "    <tr>\n",
       "      <th>30</th>\n",
       "      <td>ATTEMPTED ROBBERY</td>\n",
       "      <td>1</td>\n",
       "      <td>Robbery</td>\n",
       "    </tr>\n",
       "    <tr>\n",
       "      <th>34</th>\n",
       "      <td>SPOUSAL (COHAB) ABUSE - AGGRAVATED ASSAULT</td>\n",
       "      <td>1</td>\n",
       "      <td>Aggravated assault</td>\n",
       "    </tr>\n",
       "    <tr>\n",
       "      <th>35</th>\n",
       "      <td>RAPE, FORCIBLE</td>\n",
       "      <td>1</td>\n",
       "      <td>Rape</td>\n",
       "    </tr>\n",
       "    <tr>\n",
       "      <th>49</th>\n",
       "      <td>ARSON</td>\n",
       "      <td>1</td>\n",
       "      <td>Arson</td>\n",
       "    </tr>\n",
       "    <tr>\n",
       "      <th>50</th>\n",
       "      <td>VEHICLE - ATTEMPT STOLEN</td>\n",
       "      <td>1</td>\n",
       "      <td>Motor vehicle theft</td>\n",
       "    </tr>\n",
       "    <tr>\n",
       "      <th>54</th>\n",
       "      <td>CRIMINAL HOMICIDE</td>\n",
       "      <td>1</td>\n",
       "      <td>Criminal homicide</td>\n",
       "    </tr>\n",
       "    <tr>\n",
       "      <th>66</th>\n",
       "      <td>SEXUAL PENTRATION WITH A FOREIGN OBJECT</td>\n",
       "      <td>1</td>\n",
       "      <td>Rape</td>\n",
       "    </tr>\n",
       "    <tr>\n",
       "      <th>67</th>\n",
       "      <td>ASSAULT WITH DEADLY WEAPON ON POLICE OFFICER</td>\n",
       "      <td>1</td>\n",
       "      <td>Aggravated assault</td>\n",
       "    </tr>\n",
       "    <tr>\n",
       "      <th>68</th>\n",
       "      <td>CHILD ABUSE (PHYSICAL) - AGGRAVATED ASSAULT</td>\n",
       "      <td>1</td>\n",
       "      <td>Aggravated assault</td>\n",
       "    </tr>\n",
       "    <tr>\n",
       "      <th>77</th>\n",
       "      <td>RAPE, ATTEMPTED</td>\n",
       "      <td>1</td>\n",
       "      <td>Rape</td>\n",
       "    </tr>\n",
       "    <tr>\n",
       "      <th>78</th>\n",
       "      <td>SODOMY/SEXUAL CONTACT B/W PENIS OF ONE PERS TO...</td>\n",
       "      <td>1</td>\n",
       "      <td>Rape</td>\n",
       "    </tr>\n",
       "  </tbody>\n",
       "</table>\n",
       "</div>"
      ],
      "text/plain": [
       "                                           CrmCd.Desc UCR part  \\\n",
       "2                                    VEHICLE - STOLEN        1   \n",
       "3                                            BURGLARY        1   \n",
       "7      ASSAULT WITH DEADLY WEAPON, AGGRAVATED ASSAULT        1   \n",
       "9                                             ROBBERY        1   \n",
       "29                                BURGLARY, ATTEMPTED        1   \n",
       "30                                  ATTEMPTED ROBBERY        1   \n",
       "34         SPOUSAL (COHAB) ABUSE - AGGRAVATED ASSAULT        1   \n",
       "35                                     RAPE, FORCIBLE        1   \n",
       "49                                              ARSON        1   \n",
       "50                           VEHICLE - ATTEMPT STOLEN        1   \n",
       "54                                  CRIMINAL HOMICIDE        1   \n",
       "66            SEXUAL PENTRATION WITH A FOREIGN OBJECT        1   \n",
       "67       ASSAULT WITH DEADLY WEAPON ON POLICE OFFICER        1   \n",
       "68        CHILD ABUSE (PHYSICAL) - AGGRAVATED ASSAULT        1   \n",
       "77                                    RAPE, ATTEMPTED        1   \n",
       "78  SODOMY/SEXUAL CONTACT B/W PENIS OF ONE PERS TO...        1   \n",
       "\n",
       "                               UCR1  \n",
       "2               Motor vehicle theft  \n",
       "3   Burglary (breaking or entering)  \n",
       "7                Aggravated assault  \n",
       "9                           Robbery  \n",
       "29  Burglary (breaking or entering)  \n",
       "30                          Robbery  \n",
       "34               Aggravated assault  \n",
       "35                             Rape  \n",
       "49                            Arson  \n",
       "50              Motor vehicle theft  \n",
       "54                Criminal homicide  \n",
       "66                             Rape  \n",
       "67               Aggravated assault  \n",
       "68               Aggravated assault  \n",
       "77                             Rape  \n",
       "78                             Rape  "
      ]
     },
     "execution_count": 14,
     "metadata": {},
     "output_type": "execute_result"
    }
   ],
   "source": [
    "crime_types_df[crime_types_df['UCR part']==1]"
   ]
  },
  {
   "cell_type": "code",
   "execution_count": 15,
   "metadata": {},
   "outputs": [
    {
     "name": "stdout",
     "output_type": "stream",
     "text": [
      "765944\n",
      "765944\n"
     ]
    }
   ],
   "source": [
    "print(df['num'].count())\n",
    "df = pd.merge(df, crime_types_df, on='CrmCd.Desc')\n",
    "print(df['num'].count())"
   ]
  },
  {
   "cell_type": "code",
   "execution_count": 16,
   "metadata": {},
   "outputs": [
    {
     "name": "stdout",
     "output_type": "stream",
     "text": [
      "194843\n"
     ]
    }
   ],
   "source": [
    "df = df[df['UCR part'] == 1]\n",
    "print(df['num'].count())"
   ]
  },
  {
   "cell_type": "markdown",
   "metadata": {},
   "source": [
    "#### Subtypes of crimes"
   ]
  },
  {
   "cell_type": "code",
   "execution_count": 17,
   "metadata": {},
   "outputs": [
    {
     "data": {
      "text/html": [
       "<div>\n",
       "<style scoped>\n",
       "    .dataframe tbody tr th:only-of-type {\n",
       "        vertical-align: middle;\n",
       "    }\n",
       "\n",
       "    .dataframe tbody tr th {\n",
       "        vertical-align: top;\n",
       "    }\n",
       "\n",
       "    .dataframe thead th {\n",
       "        text-align: right;\n",
       "    }\n",
       "</style>\n",
       "<table border=\"1\" class=\"dataframe\">\n",
       "  <thead>\n",
       "    <tr style=\"text-align: right;\">\n",
       "      <th></th>\n",
       "      <th>Name</th>\n",
       "      <th>Category</th>\n",
       "    </tr>\n",
       "  </thead>\n",
       "  <tbody>\n",
       "    <tr>\n",
       "      <th>0</th>\n",
       "      <td>Criminal homicide</td>\n",
       "      <td>Violent crime</td>\n",
       "    </tr>\n",
       "    <tr>\n",
       "      <th>1</th>\n",
       "      <td>Rape</td>\n",
       "      <td>Violent crime</td>\n",
       "    </tr>\n",
       "    <tr>\n",
       "      <th>2</th>\n",
       "      <td>Robbery</td>\n",
       "      <td>Violent crime</td>\n",
       "    </tr>\n",
       "    <tr>\n",
       "      <th>3</th>\n",
       "      <td>Aggravated assault</td>\n",
       "      <td>Violent crime</td>\n",
       "    </tr>\n",
       "    <tr>\n",
       "      <th>4</th>\n",
       "      <td>Burglary (breaking or entering)</td>\n",
       "      <td>Property crime</td>\n",
       "    </tr>\n",
       "  </tbody>\n",
       "</table>\n",
       "</div>"
      ],
      "text/plain": [
       "                              Name        Category\n",
       "0                Criminal homicide   Violent crime\n",
       "1                             Rape   Violent crime\n",
       "2                          Robbery   Violent crime\n",
       "3               Aggravated assault   Violent crime\n",
       "4  Burglary (breaking or entering)  Property crime"
      ]
     },
     "execution_count": 17,
     "metadata": {},
     "output_type": "execute_result"
    }
   ],
   "source": [
    "ucr_crimes_df = pd.read_csv('../../data/crime_types/UCR_crimes.csv')\n",
    "ucr_crimes_df.head()"
   ]
  },
  {
   "cell_type": "code",
   "execution_count": 18,
   "metadata": {},
   "outputs": [
    {
     "data": {
      "text/plain": [
       "['Aggravated assault',\n",
       " 'Arson',\n",
       " 'Rape',\n",
       " 'Motor vehicle theft',\n",
       " 'Criminal homicide',\n",
       " 'Robbery',\n",
       " 'Burglary (breaking or entering)']"
      ]
     },
     "execution_count": 18,
     "metadata": {},
     "output_type": "execute_result"
    }
   ],
   "source": [
    "list(set(df['UCR1'].values))"
   ]
  },
  {
   "cell_type": "code",
   "execution_count": 19,
   "metadata": {},
   "outputs": [
    {
     "data": {
      "text/plain": [
       "DATE.OCC              object\n",
       "TIME.OCC               int64\n",
       "CrmCd.Desc            object\n",
       "Location.1            object\n",
       "datetime      datetime64[ns]\n",
       "lng                   object\n",
       "lat                   object\n",
       "num                    int64\n",
       "UCR part              object\n",
       "UCR1                  object\n",
       "dtype: object"
      ]
     },
     "execution_count": 19,
     "metadata": {},
     "output_type": "execute_result"
    }
   ],
   "source": [
    "df.dtypes"
   ]
  },
  {
   "cell_type": "code",
   "execution_count": 20,
   "metadata": {},
   "outputs": [
    {
     "data": {
      "text/html": [
       "<div>\n",
       "<style scoped>\n",
       "    .dataframe tbody tr th:only-of-type {\n",
       "        vertical-align: middle;\n",
       "    }\n",
       "\n",
       "    .dataframe tbody tr th {\n",
       "        vertical-align: top;\n",
       "    }\n",
       "\n",
       "    .dataframe thead th {\n",
       "        text-align: right;\n",
       "    }\n",
       "</style>\n",
       "<table border=\"1\" class=\"dataframe\">\n",
       "  <thead>\n",
       "    <tr style=\"text-align: right;\">\n",
       "      <th></th>\n",
       "      <th>DATE.OCC</th>\n",
       "      <th>TIME.OCC</th>\n",
       "      <th>CrmCd.Desc</th>\n",
       "      <th>Location.1</th>\n",
       "      <th>datetime</th>\n",
       "      <th>lng</th>\n",
       "      <th>lat</th>\n",
       "      <th>num</th>\n",
       "      <th>UCR part</th>\n",
       "      <th>UCR1</th>\n",
       "      <th>Category</th>\n",
       "    </tr>\n",
       "  </thead>\n",
       "  <tbody>\n",
       "  </tbody>\n",
       "</table>\n",
       "</div>"
      ],
      "text/plain": [
       "Empty DataFrame\n",
       "Columns: [DATE.OCC, TIME.OCC, CrmCd.Desc, Location.1, datetime, lng, lat, num, UCR part, UCR1, Category]\n",
       "Index: []"
      ]
     },
     "execution_count": 20,
     "metadata": {},
     "output_type": "execute_result"
    }
   ],
   "source": [
    "df_ucr1 = pd.merge(df, ucr_crimes_df.rename(columns={'Name': 'UCR1'}), on='UCR1')\n",
    "\n",
    "a = set(df_ucr1['UCR1'].drop_duplicates().values)\n",
    "b = set(df['UCR1'].drop_duplicates().values)\n",
    "assert(a.intersection(b) == a)\n",
    "\n",
    "# Categories not present in crime dataset\n",
    "df_ucr1[~(df_ucr1['UCR1'].isin(b))]"
   ]
  },
  {
   "cell_type": "code",
   "execution_count": 21,
   "metadata": {},
   "outputs": [
    {
     "data": {
      "text/plain": [
       "lng            46426\n",
       "lat            46426\n",
       "description    46426\n",
       "num            46426\n",
       "UCR1           46426\n",
       "Category       46426\n",
       "dtype: int64"
      ]
     },
     "execution_count": 21,
     "metadata": {},
     "output_type": "execute_result"
    }
   ],
   "source": [
    "df_2013 = df_ucr1[df_ucr1['datetime'].dt.year == 2013][['lng', 'lat', 'CrmCd.Desc', 'num', 'UCR1', 'Category']]\n",
    "df_2013['lng'] = df_2013['lng'].astype('float32')\n",
    "df_2013['lat'] = df_2013['lat'].astype('float32')\n",
    "df_2013 = df_2013.rename(columns={'CrmCd.Desc': 'description'})\n",
    "df_2013.count()"
   ]
  },
  {
   "cell_type": "code",
   "execution_count": 22,
   "metadata": {},
   "outputs": [
    {
     "name": "stderr",
     "output_type": "stream",
     "text": [
      "/home/denadai/.local/share/virtualenvs/crime-environment-u9RldRjF/lib/python3.6/site-packages/pyproj/crs/crs.py:55: FutureWarning: '+init=<authority>:<code>' syntax is deprecated. '<authority>:<code>' is the preferred initialization method. When making the change, be mindful of axis order changes: https://pyproj4.github.io/pyproj/stable/gotchas.html#axis-order-changes-in-proj-6\n",
      "  return _prepare_from_string(\" \".join(pjargs))\n"
     ]
    },
    {
     "data": {
      "text/html": [
       "<div>\n",
       "<style scoped>\n",
       "    .dataframe tbody tr th:only-of-type {\n",
       "        vertical-align: middle;\n",
       "    }\n",
       "\n",
       "    .dataframe tbody tr th {\n",
       "        vertical-align: top;\n",
       "    }\n",
       "\n",
       "    .dataframe thead th {\n",
       "        text-align: right;\n",
       "    }\n",
       "</style>\n",
       "<table border=\"1\" class=\"dataframe\">\n",
       "  <thead>\n",
       "    <tr style=\"text-align: right;\">\n",
       "      <th></th>\n",
       "      <th>lat</th>\n",
       "      <th>description</th>\n",
       "      <th>num</th>\n",
       "      <th>UCR1</th>\n",
       "      <th>Category</th>\n",
       "      <th>geometry</th>\n",
       "    </tr>\n",
       "  </thead>\n",
       "  <tbody>\n",
       "    <tr>\n",
       "      <th>15114</th>\n",
       "      <td>34.056801</td>\n",
       "      <td>BURGLARY</td>\n",
       "      <td>1</td>\n",
       "      <td>Burglary (breaking or entering)</td>\n",
       "      <td>Property crime</td>\n",
       "      <td>POINT (-118.28210 34.05680)</td>\n",
       "    </tr>\n",
       "    <tr>\n",
       "      <th>15115</th>\n",
       "      <td>34.032600</td>\n",
       "      <td>BURGLARY</td>\n",
       "      <td>1</td>\n",
       "      <td>Burglary (breaking or entering)</td>\n",
       "      <td>Property crime</td>\n",
       "      <td>POINT (-118.34710 34.03260)</td>\n",
       "    </tr>\n",
       "    <tr>\n",
       "      <th>15116</th>\n",
       "      <td>34.049900</td>\n",
       "      <td>BURGLARY</td>\n",
       "      <td>1</td>\n",
       "      <td>Burglary (breaking or entering)</td>\n",
       "      <td>Property crime</td>\n",
       "      <td>POINT (-118.36800 34.04990)</td>\n",
       "    </tr>\n",
       "    <tr>\n",
       "      <th>15117</th>\n",
       "      <td>34.037102</td>\n",
       "      <td>BURGLARY</td>\n",
       "      <td>1</td>\n",
       "      <td>Burglary (breaking or entering)</td>\n",
       "      <td>Property crime</td>\n",
       "      <td>POINT (-118.32480 34.03710)</td>\n",
       "    </tr>\n",
       "    <tr>\n",
       "      <th>15118</th>\n",
       "      <td>34.204899</td>\n",
       "      <td>BURGLARY</td>\n",
       "      <td>1</td>\n",
       "      <td>Burglary (breaking or entering)</td>\n",
       "      <td>Property crime</td>\n",
       "      <td>POINT (-118.47490 34.20490)</td>\n",
       "    </tr>\n",
       "  </tbody>\n",
       "</table>\n",
       "</div>"
      ],
      "text/plain": [
       "             lat description  num                             UCR1  \\\n",
       "15114  34.056801    BURGLARY    1  Burglary (breaking or entering)   \n",
       "15115  34.032600    BURGLARY    1  Burglary (breaking or entering)   \n",
       "15116  34.049900    BURGLARY    1  Burglary (breaking or entering)   \n",
       "15117  34.037102    BURGLARY    1  Burglary (breaking or entering)   \n",
       "15118  34.204899    BURGLARY    1  Burglary (breaking or entering)   \n",
       "\n",
       "             Category                     geometry  \n",
       "15114  Property crime  POINT (-118.28210 34.05680)  \n",
       "15115  Property crime  POINT (-118.34710 34.03260)  \n",
       "15116  Property crime  POINT (-118.36800 34.04990)  \n",
       "15117  Property crime  POINT (-118.32480 34.03710)  \n",
       "15118  Property crime  POINT (-118.47490 34.20490)  "
      ]
     },
     "execution_count": 22,
     "metadata": {},
     "output_type": "execute_result"
    }
   ],
   "source": [
    "from geopandas import GeoDataFrame\n",
    "from shapely.geometry import Point\n",
    "\n",
    "geometry = [Point(xy) for xy in zip(df_2013.lng, df_2013.lat)]\n",
    "df_2013 = df_2013.drop(['lng', 'lng'], axis=1)\n",
    "crs = {'init': 'epsg:4326'}\n",
    "gdf = GeoDataFrame(df_2013, crs=crs, geometry=geometry)\n",
    "gdf.head()"
   ]
  },
  {
   "cell_type": "code",
   "execution_count": 23,
   "metadata": {},
   "outputs": [],
   "source": [
    "insert_gdf = process_geometry_SQL_insert(gdf)\n",
    "insert_gdf.to_sql('temptable_{}'.format(CITY.lower()), engine, if_exists='replace', index=True, dtype={'geom': Geometry('Point', srid=4326)})"
   ]
  },
  {
   "cell_type": "code",
   "execution_count": 24,
   "metadata": {},
   "outputs": [],
   "source": [
    "sql = \"\"\"\n",
    "insert into crime (sp_id, num, city, ucr1, ucr_category) \n",
    "select bid, SUM(num), '{city}', \"UCR1\", \"Category\" from(\n",
    "SELECT num, bid, \"UCR1\", \"Category\", ROW_NUMBER() OVER (PARTITION BY index) AS r\n",
    "from (\n",
    "select c.index, c.num, b.bid, \"UCR1\", \"Category\"\n",
    "from temptable_{tempname} as c\n",
    "inner join blocks_group as b on ST_Intersects(b.geom, st_buffer(c.geom::geography, 30)::geometry)\n",
    "where b.city='{city}'\n",
    "    ) as dtable\n",
    ") x\n",
    "group by bid, \"UCR1\", \"Category\";\n",
    "\"\"\".format(city=CITY, tempname=CITY.lower())\n",
    "\n",
    "result = engine.execute(text(sql))"
   ]
  },
  {
   "cell_type": "markdown",
   "metadata": {},
   "source": [
    "## Refresh materialized views"
   ]
  },
  {
   "cell_type": "code",
   "execution_count": null,
   "metadata": {},
   "outputs": [],
   "source": [
    "sql = \"\"\"\n",
    "REFRESH MATERIALIZED VIEW join_building_ways;\n",
    "\"\"\"\n",
    "\n",
    "result = engine.execute(text(sql))"
   ]
  },
  {
   "cell_type": "code",
   "execution_count": 118,
   "metadata": {},
   "outputs": [],
   "source": [
    "sql = \"\"\"\n",
    "REFRESH MATERIALIZED VIEW spatial_groups_unused_areas;\n",
    "\"\"\"\n",
    "\n",
    "result = engine.execute(text(sql))"
   ]
  },
  {
   "cell_type": "code",
   "execution_count": 72,
   "metadata": {},
   "outputs": [],
   "source": [
    "sql = \"\"\"\n",
    "REFRESH MATERIALIZED VIEW block_building;\n",
    "\"\"\"\n",
    "\n",
    "result = engine.execute(text(sql))"
   ]
  },
  {
   "cell_type": "code",
   "execution_count": 73,
   "metadata": {},
   "outputs": [],
   "source": [
    "sql = \"\"\"\n",
    "REFRESH MATERIALIZED VIEW blocks_group_with_building;\n",
    "\"\"\"\n",
    "\n",
    "result = engine.execute(text(sql))"
   ]
  },
  {
   "cell_type": "code",
   "execution_count": null,
   "metadata": {},
   "outputs": [],
   "source": []
  },
  {
   "cell_type": "code",
   "execution_count": null,
   "metadata": {},
   "outputs": [],
   "source": []
  }
 ],
 "metadata": {
  "kernelspec": {
   "display_name": "Python 3",
   "language": "python",
   "name": "python3"
  },
  "language_info": {
   "codemirror_mode": {
    "name": "ipython",
    "version": 3
   },
   "file_extension": ".py",
   "mimetype": "text/x-python",
   "name": "python",
   "nbconvert_exporter": "python",
   "pygments_lexer": "ipython3",
   "version": "3.6.8"
  }
 },
 "nbformat": 4,
 "nbformat_minor": 2
}
