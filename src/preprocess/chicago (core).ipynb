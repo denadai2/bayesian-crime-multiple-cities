{
 "cells": [
  {
   "cell_type": "code",
   "execution_count": 1,
   "metadata": {},
   "outputs": [],
   "source": [
    "import pandas as pd\n",
    "import numpy as np\n",
    "import geopandas as gpd\n",
    "import psycopg2\n",
    "from geoalchemy2 import Geometry, WKTElement\n",
    "from sqlalchemy import *\n",
    "from shapely.geometry import MultiPolygon\n",
    "from zipfile import ZipFile\n",
    "import requests \n",
    "import sys"
   ]
  },
  {
   "cell_type": "code",
   "execution_count": 2,
   "metadata": {},
   "outputs": [],
   "source": [
    "import yaml\n",
    "\n",
    "with open('../../config/postgres.yaml') as f:\n",
    "    engine_configs = yaml.load(f, Loader=yaml.FullLoader)\n",
    "    \n",
    "try:\n",
    "    engine = create_engine('postgresql://{username}:{password}@{host}:{port}/{dbname}'.format(**engine_configs))\n",
    "except Exception as e:\n",
    "    print(\"Uh oh, can't connect. Invalid dbname, user or password?\")\n",
    "    print(e)"
   ]
  },
  {
   "cell_type": "code",
   "execution_count": 3,
   "metadata": {},
   "outputs": [],
   "source": [
    "def process_geometry_SQL_insert(gdf):\n",
    "    gdf['geom'] = gdf['geometry'].apply(lambda x: WKTElement((MultiPolygon([x]) if x.geom_type == 'Polygon' else x).wkt, srid=4326))\n",
    "    gdf = gdf.drop('geometry', 1)\n",
    "    return gdf\n",
    "\n",
    "# Often when reading in a ShapeFile from Basemap, you'll get: \"ValueError: readshapefile can only handle 2D shape types\"\n",
    "# A trick can be to convert your geometry in your GeoPandas Dataframe and restoring the new flattened 2D geometry\n",
    "# series back into a shapefile and try again.\n",
    "\n",
    "# edit from http://stackoverflow.com/questions/33417764/basemap-readshapefile-valueerror  \n",
    "\n",
    "from shapely.geometry import Polygon, MultiPolygon, shape, Point\n",
    "def convert_3D_2D(geometry):\n",
    "    '''\n",
    "    Takes a GeoSeries of 3D Multi/Polygons (has_z) and returns a list of 2D Multi/Polygons\n",
    "    '''\n",
    "    new_geo = []\n",
    "    for p in geometry:\n",
    "        if p.has_z:\n",
    "            if p.geom_type == 'Polygon':\n",
    "                lines = [xy[:2] for xy in list(p.exterior.coords)]\n",
    "                new_p = Polygon(lines)\n",
    "                new_geo.append(new_p)\n",
    "            elif p.geom_type == 'MultiPolygon':\n",
    "                new_multi_p = []\n",
    "                for ap in p:\n",
    "                    lines = [xy[:2] for xy in list(ap.exterior.coords)]\n",
    "                    new_p = Polygon(lines)\n",
    "                    new_multi_p.append(new_p)\n",
    "                new_geo.append(MultiPolygon(new_multi_p))\n",
    "    return new_geo\n"
   ]
  },
  {
   "cell_type": "code",
   "execution_count": 4,
   "metadata": {},
   "outputs": [],
   "source": [
    "CITY='chicago'"
   ]
  },
  {
   "cell_type": "markdown",
   "metadata": {},
   "source": [
    "### Neighborhoods"
   ]
  },
  {
   "cell_type": "code",
   "execution_count": 5,
   "metadata": {},
   "outputs": [],
   "source": [
    "sql = \"\"\"INSERT INTO spatial_groups (city, core_geom, core_id, lower_ids, spatial_name, approx_geom)\n",
    "SELECT a.city, a.core_geom, a.core_id, array_agg(a.core_id), 'core', ST_multi(a.core_geom)\n",
    "FROM spatial_groups a\n",
    "where a.city='{city}' and a.spatial_name = 'ego'\n",
    "GROUP BY a.core_id, a.core_geom, a.city;\n",
    "\"\"\".format(city=CITY, tempname=CITY.lower())\n",
    "\n",
    "result = engine.execute(text(sql))"
   ]
  },
  {
   "cell_type": "markdown",
   "metadata": {},
   "source": [
    "## Land use"
   ]
  },
  {
   "cell_type": "code",
   "execution_count": 6,
   "metadata": {},
   "outputs": [
    {
     "name": "stderr",
     "output_type": "stream",
     "text": [
      "/home/denadai/.local/share/virtualenvs/crime-environment-u9RldRjF/lib/python3.6/site-packages/pyproj/crs/crs.py:55: FutureWarning: '+init=<authority>:<code>' syntax is deprecated. '<authority>:<code>' is the preferred initialization method. When making the change, be mindful of axis order changes: https://pyproj4.github.io/pyproj/stable/gotchas.html#axis-order-changes-in-proj-6\n",
      "  return _prepare_from_string(\" \".join(pjargs))\n"
     ]
    },
    {
     "data": {
      "text/html": [
       "<div>\n",
       "<style scoped>\n",
       "    .dataframe tbody tr th:only-of-type {\n",
       "        vertical-align: middle;\n",
       "    }\n",
       "\n",
       "    .dataframe tbody tr th {\n",
       "        vertical-align: top;\n",
       "    }\n",
       "\n",
       "    .dataframe thead th {\n",
       "        text-align: right;\n",
       "    }\n",
       "</style>\n",
       "<table border=\"1\" class=\"dataframe\">\n",
       "  <thead>\n",
       "    <tr style=\"text-align: right;\">\n",
       "      <th></th>\n",
       "      <th>LANDUSE</th>\n",
       "      <th>OS_MGMT</th>\n",
       "      <th>FAC_NAME</th>\n",
       "      <th>PLATTED</th>\n",
       "      <th>MODIFIER</th>\n",
       "      <th>Shape_Leng</th>\n",
       "      <th>Shape_Area</th>\n",
       "      <th>geometry</th>\n",
       "    </tr>\n",
       "  </thead>\n",
       "  <tbody>\n",
       "    <tr>\n",
       "      <th>0</th>\n",
       "      <td>1111</td>\n",
       "      <td>None</td>\n",
       "      <td>None</td>\n",
       "      <td>None</td>\n",
       "      <td>None</td>\n",
       "      <td>608.931265</td>\n",
       "      <td>20878.200769</td>\n",
       "      <td>POLYGON ((-88.19304 41.20262, -88.19342 41.202...</td>\n",
       "    </tr>\n",
       "    <tr>\n",
       "      <th>1</th>\n",
       "      <td>1111</td>\n",
       "      <td>None</td>\n",
       "      <td>None</td>\n",
       "      <td>None</td>\n",
       "      <td>None</td>\n",
       "      <td>787.202461</td>\n",
       "      <td>38719.346410</td>\n",
       "      <td>POLYGON ((-88.18844 41.20272, -88.18879 41.202...</td>\n",
       "    </tr>\n",
       "    <tr>\n",
       "      <th>2</th>\n",
       "      <td>1111</td>\n",
       "      <td>None</td>\n",
       "      <td>None</td>\n",
       "      <td>None</td>\n",
       "      <td>None</td>\n",
       "      <td>931.208086</td>\n",
       "      <td>45822.457370</td>\n",
       "      <td>POLYGON ((-88.15646 41.20339, -88.15646 41.203...</td>\n",
       "    </tr>\n",
       "    <tr>\n",
       "      <th>3</th>\n",
       "      <td>1111</td>\n",
       "      <td>None</td>\n",
       "      <td>None</td>\n",
       "      <td>None</td>\n",
       "      <td>None</td>\n",
       "      <td>740.975876</td>\n",
       "      <td>33953.759347</td>\n",
       "      <td>POLYGON ((-88.11770 41.20415, -88.11845 41.204...</td>\n",
       "    </tr>\n",
       "    <tr>\n",
       "      <th>4</th>\n",
       "      <td>1111</td>\n",
       "      <td>None</td>\n",
       "      <td>None</td>\n",
       "      <td>None</td>\n",
       "      <td>None</td>\n",
       "      <td>1396.015199</td>\n",
       "      <td>109212.531687</td>\n",
       "      <td>POLYGON ((-88.12903 41.20399, -88.13071 41.203...</td>\n",
       "    </tr>\n",
       "  </tbody>\n",
       "</table>\n",
       "</div>"
      ],
      "text/plain": [
       "  LANDUSE OS_MGMT FAC_NAME PLATTED MODIFIER   Shape_Leng     Shape_Area  \\\n",
       "0    1111    None     None    None     None   608.931265   20878.200769   \n",
       "1    1111    None     None    None     None   787.202461   38719.346410   \n",
       "2    1111    None     None    None     None   931.208086   45822.457370   \n",
       "3    1111    None     None    None     None   740.975876   33953.759347   \n",
       "4    1111    None     None    None     None  1396.015199  109212.531687   \n",
       "\n",
       "                                            geometry  \n",
       "0  POLYGON ((-88.19304 41.20262, -88.19342 41.202...  \n",
       "1  POLYGON ((-88.18844 41.20272, -88.18879 41.202...  \n",
       "2  POLYGON ((-88.15646 41.20339, -88.15646 41.203...  \n",
       "3  POLYGON ((-88.11770 41.20415, -88.11845 41.204...  \n",
       "4  POLYGON ((-88.12903 41.20399, -88.13071 41.203...  "
      ]
     },
     "execution_count": 6,
     "metadata": {},
     "output_type": "execute_result"
    }
   ],
   "source": [
    "land_gdf = gpd.read_file('zip://../../data/chicago/land_use/land_use.zip', dtype={'LANDUSE': str})\n",
    "land_gdf = land_gdf.to_crs({'init': 'epsg:4326'}) \n",
    "land_gdf.head()"
   ]
  },
  {
   "cell_type": "code",
   "execution_count": 7,
   "metadata": {},
   "outputs": [
    {
     "data": {
      "text/html": [
       "<div>\n",
       "<style scoped>\n",
       "    .dataframe tbody tr th:only-of-type {\n",
       "        vertical-align: middle;\n",
       "    }\n",
       "\n",
       "    .dataframe tbody tr th {\n",
       "        vertical-align: top;\n",
       "    }\n",
       "\n",
       "    .dataframe thead th {\n",
       "        text-align: right;\n",
       "    }\n",
       "</style>\n",
       "<table border=\"1\" class=\"dataframe\">\n",
       "  <thead>\n",
       "    <tr style=\"text-align: right;\">\n",
       "      <th></th>\n",
       "      <th>LANDUSE</th>\n",
       "      <th>OS_MGMT</th>\n",
       "      <th>FAC_NAME</th>\n",
       "      <th>PLATTED</th>\n",
       "      <th>MODIFIER</th>\n",
       "      <th>Shape_Leng</th>\n",
       "      <th>Shape_Area</th>\n",
       "      <th>geometry</th>\n",
       "      <th>landuse</th>\n",
       "    </tr>\n",
       "  </thead>\n",
       "  <tbody>\n",
       "    <tr>\n",
       "      <th>0</th>\n",
       "      <td>1111</td>\n",
       "      <td>None</td>\n",
       "      <td>None</td>\n",
       "      <td>None</td>\n",
       "      <td>None</td>\n",
       "      <td>608.931265</td>\n",
       "      <td>20878.200769</td>\n",
       "      <td>POLYGON ((-88.19304 41.20262, -88.19342 41.202...</td>\n",
       "      <td>residential</td>\n",
       "    </tr>\n",
       "    <tr>\n",
       "      <th>1</th>\n",
       "      <td>1111</td>\n",
       "      <td>None</td>\n",
       "      <td>None</td>\n",
       "      <td>None</td>\n",
       "      <td>None</td>\n",
       "      <td>787.202461</td>\n",
       "      <td>38719.346410</td>\n",
       "      <td>POLYGON ((-88.18844 41.20272, -88.18879 41.202...</td>\n",
       "      <td>residential</td>\n",
       "    </tr>\n",
       "    <tr>\n",
       "      <th>2</th>\n",
       "      <td>1111</td>\n",
       "      <td>None</td>\n",
       "      <td>None</td>\n",
       "      <td>None</td>\n",
       "      <td>None</td>\n",
       "      <td>931.208086</td>\n",
       "      <td>45822.457370</td>\n",
       "      <td>POLYGON ((-88.15646 41.20339, -88.15646 41.203...</td>\n",
       "      <td>residential</td>\n",
       "    </tr>\n",
       "    <tr>\n",
       "      <th>3</th>\n",
       "      <td>1111</td>\n",
       "      <td>None</td>\n",
       "      <td>None</td>\n",
       "      <td>None</td>\n",
       "      <td>None</td>\n",
       "      <td>740.975876</td>\n",
       "      <td>33953.759347</td>\n",
       "      <td>POLYGON ((-88.11770 41.20415, -88.11845 41.204...</td>\n",
       "      <td>residential</td>\n",
       "    </tr>\n",
       "    <tr>\n",
       "      <th>4</th>\n",
       "      <td>1111</td>\n",
       "      <td>None</td>\n",
       "      <td>None</td>\n",
       "      <td>None</td>\n",
       "      <td>None</td>\n",
       "      <td>1396.015199</td>\n",
       "      <td>109212.531687</td>\n",
       "      <td>POLYGON ((-88.12903 41.20399, -88.13071 41.203...</td>\n",
       "      <td>residential</td>\n",
       "    </tr>\n",
       "  </tbody>\n",
       "</table>\n",
       "</div>"
      ],
      "text/plain": [
       "  LANDUSE OS_MGMT FAC_NAME PLATTED MODIFIER   Shape_Leng     Shape_Area  \\\n",
       "0    1111    None     None    None     None   608.931265   20878.200769   \n",
       "1    1111    None     None    None     None   787.202461   38719.346410   \n",
       "2    1111    None     None    None     None   931.208086   45822.457370   \n",
       "3    1111    None     None    None     None   740.975876   33953.759347   \n",
       "4    1111    None     None    None     None  1396.015199  109212.531687   \n",
       "\n",
       "                                            geometry      landuse  \n",
       "0  POLYGON ((-88.19304 41.20262, -88.19342 41.202...  residential  \n",
       "1  POLYGON ((-88.18844 41.20272, -88.18879 41.202...  residential  \n",
       "2  POLYGON ((-88.15646 41.20339, -88.15646 41.203...  residential  \n",
       "3  POLYGON ((-88.11770 41.20415, -88.11845 41.204...  residential  \n",
       "4  POLYGON ((-88.12903 41.20399, -88.13071 41.203...  residential  "
      ]
     },
     "execution_count": 7,
     "metadata": {},
     "output_type": "execute_result"
    }
   ],
   "source": [
    "land_gdf['landuse'] = 'none'\n",
    "\n",
    "land_gdf.loc[(land_gdf['LANDUSE'].str[:2].isin({'11'})) | (land_gdf['LANDUSE'].isin({'1216'})), 'landuse'] = 'residential'\n",
    "land_gdf.loc[(land_gdf['LANDUSE'].str[:2].isin({'12', '13', '14', '15', '20'})) & (~land_gdf['LANDUSE'].isin({'1510', '1511', '1512', '1520', '1550', '1561', '1565'})), 'landuse'] = 'commercial'\n",
    " \n",
    "land_gdf.loc[land_gdf['LANDUSE'].str[:1].isin({'3'}), 'landuse'] = 'recreational'\n",
    "land_gdf.loc[land_gdf['LANDUSE'].str[:1].isin({'4'}), 'landuse'] = 'vacant'\n",
    "land_gdf.head()"
   ]
  },
  {
   "cell_type": "markdown",
   "metadata": {},
   "source": [
    "## Net area"
   ]
  },
  {
   "cell_type": "code",
   "execution_count": 8,
   "metadata": {},
   "outputs": [],
   "source": [
    "land_gdf_unique = land_gdf.copy()\n",
    "\n",
    "land_gdf_unique.loc[:, 'x'] = land_gdf_unique.geometry.centroid.x\n",
    "land_gdf_unique.loc[:, 'y'] = land_gdf_unique.geometry.centroid.y\n",
    "land_gdf_unique = land_gdf_unique.drop_duplicates(subset=['x', 'y'])[['geometry', 'landuse']]"
   ]
  },
  {
   "cell_type": "code",
   "execution_count": 9,
   "metadata": {},
   "outputs": [],
   "source": [
    "ins_gdf = process_geometry_SQL_insert(land_gdf_unique)\n",
    "ins_gdf.to_sql('temptable_unique_{}'.format(CITY.lower()), engine, if_exists='replace', index=False, dtype={'geom': Geometry('MultiPolygon', srid=4326)})"
   ]
  },
  {
   "cell_type": "code",
   "execution_count": 10,
   "metadata": {},
   "outputs": [],
   "source": [
    "sql = \"\"\"\n",
    "UPDATE temptable_unique_{tempname} p SET geom=ST_Multi(ST_buffer(p.geom, 0.0)) \n",
    "WHERE NOT ST_Isvalid(p.geom);\n",
    "\"\"\".format(city=CITY, tempname=CITY.lower())\n",
    "\n",
    "result = engine.execute(text(sql))"
   ]
  },
  {
   "cell_type": "code",
   "execution_count": 11,
   "metadata": {},
   "outputs": [],
   "source": [
    "## This deletes the blocks that are related to streets\n",
    "sql = \"\"\"\n",
    "DELETE FROM block b\n",
    "WHERE city='{city}' and NOT EXISTS (select * from temptable_unique_{tempname} t where st_intersects(t.geom, b.geom) and t.landuse <> 'none');\n",
    "\"\"\".format(city=CITY, tempname=CITY.lower())\n",
    "\n",
    "result = engine.execute(text(sql))"
   ]
  },
  {
   "cell_type": "code",
   "execution_count": 12,
   "metadata": {},
   "outputs": [],
   "source": [
    "sql = \"\"\"\n",
    "DELETE \n",
    "FROM temptable_unique_{tempname} t\n",
    "USING unused_areas u \n",
    "WHERE u.city = '{city}' AND ST_Intersects(u.geom, t.geom) AND (NOT ST_Touches(u.geom, t.geom)) \n",
    "AND (ST_Contains(u.geom, t.geom) OR ST_AREA(ST_Intersection(t.geom, u.geom))/ST_Area(t.geom) > 0.5);\n",
    "\"\"\".format(city=CITY, tempname=CITY.lower())\n",
    "\n",
    "result = engine.execute(text(sql))"
   ]
  },
  {
   "cell_type": "code",
   "execution_count": 13,
   "metadata": {},
   "outputs": [],
   "source": [
    "sql = \"\"\"\n",
    "INSERT INTO spatial_groups_net_area (sp_id, city, spatial_name, used_area) \n",
    "SELECT sp_id, city, spatial_name, SUM(ST_Area(ST_Intersection(s.approx_geom, t.geom)::geography))/1000000.\n",
    "FROM temptable_unique_{tempname} t\n",
    "INNER JOIN spatial_groups s ON ST_Intersects(s.approx_geom, t.geom) AND NOT ST_Touches(s.approx_geom, t.geom)\n",
    "WHERE s.city = '{city}' AND s.spatial_name='core' \n",
    "GROUP BY sp_id, city, spatial_name;\n",
    "\"\"\".format(city=CITY, tempname=CITY.lower())\n",
    "\n",
    "result = engine.execute(text(sql))"
   ]
  },
  {
   "cell_type": "markdown",
   "metadata": {},
   "source": [
    "## Refresh materialized views"
   ]
  },
  {
   "cell_type": "code",
   "execution_count": 14,
   "metadata": {},
   "outputs": [],
   "source": [
    "sql = \"\"\"\n",
    "REFRESH MATERIALIZED VIEW spatial_groups_unused_areas;\n",
    "\"\"\"\n",
    "\n",
    "result = engine.execute(text(sql))"
   ]
  },
  {
   "cell_type": "code",
   "execution_count": null,
   "metadata": {},
   "outputs": [],
   "source": [
    "2"
   ]
  },
  {
   "cell_type": "code",
   "execution_count": null,
   "metadata": {},
   "outputs": [],
   "source": []
  }
 ],
 "metadata": {
  "kernelspec": {
   "display_name": "Python 3",
   "language": "python",
   "name": "python3"
  },
  "language_info": {
   "codemirror_mode": {
    "name": "ipython",
    "version": 3
   },
   "file_extension": ".py",
   "mimetype": "text/x-python",
   "name": "python",
   "nbconvert_exporter": "python",
   "pygments_lexer": "ipython3",
   "version": "3.6.8"
  }
 },
 "nbformat": 4,
 "nbformat_minor": 2
}
